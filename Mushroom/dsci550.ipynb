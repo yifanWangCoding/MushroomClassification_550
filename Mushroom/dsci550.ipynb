{
 "cells": [
  {
   "cell_type": "code",
   "execution_count": 1,
   "outputs": [],
   "source": [
    "# test\n",
    "#test ruru\n",
    "# test up"
   ],
   "metadata": {
    "collapsed": false
   }
  },
  {
   "cell_type": "code",
   "execution_count": 2,
   "outputs": [],
   "source": [
    "# test connect\n",
    "import pandas as pd\n",
    "import numpy as np\n",
    "import seaborn as sns\n",
    "import matplotlib.pyplot as plt\n",
    "from sklearn import datasets\n",
    "from sklearn.tree import DecisionTreeClassifier\n",
    "from sklearn import tree\n",
    "from sklearn import metrics\n",
    "from sklearn.model_selection import train_test_split"
   ],
   "metadata": {
    "collapsed": false
   }
  },
  {
   "cell_type": "markdown",
   "source": [
    "# phase 1: Exploratory Data Analysis"
   ],
   "metadata": {
    "collapsed": false
   }
  },
  {
   "cell_type": "code",
   "execution_count": 8,
   "outputs": [
    {
     "data": {
      "text/plain": "  class cap-shape cap-surface cap-color bruises odor gill-attachment  \\\n0     p         x           s         n       t    p               f   \n1     e         x           s         y       t    a               f   \n2     e         b           s         w       t    l               f   \n3     p         x           y         w       t    p               f   \n4     e         x           s         g       f    n               f   \n\n  gill-spacing gill-size gill-color  ... stalk-surface-below-ring  \\\n0            c         n          k  ...                        s   \n1            c         b          k  ...                        s   \n2            c         b          n  ...                        s   \n3            c         n          n  ...                        s   \n4            w         b          k  ...                        s   \n\n  stalk-color-above-ring stalk-color-below-ring veil-type veil-color  \\\n0                      w                      w         p          w   \n1                      w                      w         p          w   \n2                      w                      w         p          w   \n3                      w                      w         p          w   \n4                      w                      w         p          w   \n\n  ring-number ring-type spore-print-color population habitat  \n0           o         p                 k          s       u  \n1           o         p                 n          n       g  \n2           o         p                 n          n       m  \n3           o         p                 k          s       u  \n4           o         e                 n          a       g  \n\n[5 rows x 23 columns]",
      "text/html": "<div>\n<style scoped>\n    .dataframe tbody tr th:only-of-type {\n        vertical-align: middle;\n    }\n\n    .dataframe tbody tr th {\n        vertical-align: top;\n    }\n\n    .dataframe thead th {\n        text-align: right;\n    }\n</style>\n<table border=\"1\" class=\"dataframe\">\n  <thead>\n    <tr style=\"text-align: right;\">\n      <th></th>\n      <th>class</th>\n      <th>cap-shape</th>\n      <th>cap-surface</th>\n      <th>cap-color</th>\n      <th>bruises</th>\n      <th>odor</th>\n      <th>gill-attachment</th>\n      <th>gill-spacing</th>\n      <th>gill-size</th>\n      <th>gill-color</th>\n      <th>...</th>\n      <th>stalk-surface-below-ring</th>\n      <th>stalk-color-above-ring</th>\n      <th>stalk-color-below-ring</th>\n      <th>veil-type</th>\n      <th>veil-color</th>\n      <th>ring-number</th>\n      <th>ring-type</th>\n      <th>spore-print-color</th>\n      <th>population</th>\n      <th>habitat</th>\n    </tr>\n  </thead>\n  <tbody>\n    <tr>\n      <td>0</td>\n      <td>p</td>\n      <td>x</td>\n      <td>s</td>\n      <td>n</td>\n      <td>t</td>\n      <td>p</td>\n      <td>f</td>\n      <td>c</td>\n      <td>n</td>\n      <td>k</td>\n      <td>...</td>\n      <td>s</td>\n      <td>w</td>\n      <td>w</td>\n      <td>p</td>\n      <td>w</td>\n      <td>o</td>\n      <td>p</td>\n      <td>k</td>\n      <td>s</td>\n      <td>u</td>\n    </tr>\n    <tr>\n      <td>1</td>\n      <td>e</td>\n      <td>x</td>\n      <td>s</td>\n      <td>y</td>\n      <td>t</td>\n      <td>a</td>\n      <td>f</td>\n      <td>c</td>\n      <td>b</td>\n      <td>k</td>\n      <td>...</td>\n      <td>s</td>\n      <td>w</td>\n      <td>w</td>\n      <td>p</td>\n      <td>w</td>\n      <td>o</td>\n      <td>p</td>\n      <td>n</td>\n      <td>n</td>\n      <td>g</td>\n    </tr>\n    <tr>\n      <td>2</td>\n      <td>e</td>\n      <td>b</td>\n      <td>s</td>\n      <td>w</td>\n      <td>t</td>\n      <td>l</td>\n      <td>f</td>\n      <td>c</td>\n      <td>b</td>\n      <td>n</td>\n      <td>...</td>\n      <td>s</td>\n      <td>w</td>\n      <td>w</td>\n      <td>p</td>\n      <td>w</td>\n      <td>o</td>\n      <td>p</td>\n      <td>n</td>\n      <td>n</td>\n      <td>m</td>\n    </tr>\n    <tr>\n      <td>3</td>\n      <td>p</td>\n      <td>x</td>\n      <td>y</td>\n      <td>w</td>\n      <td>t</td>\n      <td>p</td>\n      <td>f</td>\n      <td>c</td>\n      <td>n</td>\n      <td>n</td>\n      <td>...</td>\n      <td>s</td>\n      <td>w</td>\n      <td>w</td>\n      <td>p</td>\n      <td>w</td>\n      <td>o</td>\n      <td>p</td>\n      <td>k</td>\n      <td>s</td>\n      <td>u</td>\n    </tr>\n    <tr>\n      <td>4</td>\n      <td>e</td>\n      <td>x</td>\n      <td>s</td>\n      <td>g</td>\n      <td>f</td>\n      <td>n</td>\n      <td>f</td>\n      <td>w</td>\n      <td>b</td>\n      <td>k</td>\n      <td>...</td>\n      <td>s</td>\n      <td>w</td>\n      <td>w</td>\n      <td>p</td>\n      <td>w</td>\n      <td>o</td>\n      <td>e</td>\n      <td>n</td>\n      <td>a</td>\n      <td>g</td>\n    </tr>\n  </tbody>\n</table>\n<p>5 rows × 23 columns</p>\n</div>"
     },
     "execution_count": 8,
     "metadata": {},
     "output_type": "execute_result"
    }
   ],
   "source": [
    "# read data\n",
    "# note to up and ruru : change path before run it\n",
    "# mushroom = pd.read_csv('/Users/yifanwang/Desktop/DSCI550/550project/mushrooms.csv')\n",
    "# mushroom = pd.read_csv('/Users\\Wenyu\\Desktop\\DSCI 550 Data Science at Scale\\project/mushrooms.csv')\n",
    "mushroom.head()"
   ],
   "metadata": {
    "collapsed": false
   }
  },
  {
   "cell_type": "code",
   "execution_count": 9,
   "outputs": [
    {
     "name": "stdout",
     "output_type": "stream",
     "text": [
      "<class 'pandas.core.frame.DataFrame'>\n",
      "RangeIndex: 8124 entries, 0 to 8123\n",
      "Data columns (total 23 columns):\n",
      "class                       8124 non-null object\n",
      "cap-shape                   8124 non-null object\n",
      "cap-surface                 8124 non-null object\n",
      "cap-color                   8124 non-null object\n",
      "bruises                     8124 non-null object\n",
      "odor                        8124 non-null object\n",
      "gill-attachment             8124 non-null object\n",
      "gill-spacing                8124 non-null object\n",
      "gill-size                   8124 non-null object\n",
      "gill-color                  8124 non-null object\n",
      "stalk-shape                 8124 non-null object\n",
      "stalk-root                  8124 non-null object\n",
      "stalk-surface-above-ring    8124 non-null object\n",
      "stalk-surface-below-ring    8124 non-null object\n",
      "stalk-color-above-ring      8124 non-null object\n",
      "stalk-color-below-ring      8124 non-null object\n",
      "veil-type                   8124 non-null object\n",
      "veil-color                  8124 non-null object\n",
      "ring-number                 8124 non-null object\n",
      "ring-type                   8124 non-null object\n",
      "spore-print-color           8124 non-null object\n",
      "population                  8124 non-null object\n",
      "habitat                     8124 non-null object\n",
      "dtypes: object(23)\n",
      "memory usage: 1.4+ MB\n"
     ]
    }
   ],
   "source": [
    "mushroom.info()"
   ],
   "metadata": {
    "collapsed": false
   }
  },
  {
   "cell_type": "markdown",
   "source": [
    "From this quick overview, we can see:\n",
    "1. There is no null value in the entire dataset.\n",
    "2. All variables are categorical variable.\n",
    "3. ......"
   ],
   "metadata": {
    "collapsed": false
   }
  },
  {
   "cell_type": "code",
   "execution_count": 10,
   "outputs": [
    {
     "data": {
      "text/plain": "       class cap-shape cap-surface cap-color bruises  odor gill-attachment  \\\ncount   8124      8124        8124      8124    8124  8124            8124   \nunique     2         6           4        10       2     9               2   \ntop        e         x           y         n       f     n               f   \nfreq    4208      3656        3244      2284    4748  3528            7914   \n\n       gill-spacing gill-size gill-color  ... stalk-surface-below-ring  \\\ncount          8124      8124       8124  ...                     8124   \nunique            2         2         12  ...                        4   \ntop               c         b          b  ...                        s   \nfreq           6812      5612       1728  ...                     4936   \n\n       stalk-color-above-ring stalk-color-below-ring veil-type veil-color  \\\ncount                    8124                   8124      8124       8124   \nunique                      9                      9         1          4   \ntop                         w                      w         p          w   \nfreq                     4464                   4384      8124       7924   \n\n       ring-number ring-type spore-print-color population habitat  \ncount         8124      8124              8124       8124    8124  \nunique           3         5                 9          6       7  \ntop              o         p                 w          v       d  \nfreq          7488      3968              2388       4040    3148  \n\n[4 rows x 23 columns]",
      "text/html": "<div>\n<style scoped>\n    .dataframe tbody tr th:only-of-type {\n        vertical-align: middle;\n    }\n\n    .dataframe tbody tr th {\n        vertical-align: top;\n    }\n\n    .dataframe thead th {\n        text-align: right;\n    }\n</style>\n<table border=\"1\" class=\"dataframe\">\n  <thead>\n    <tr style=\"text-align: right;\">\n      <th></th>\n      <th>class</th>\n      <th>cap-shape</th>\n      <th>cap-surface</th>\n      <th>cap-color</th>\n      <th>bruises</th>\n      <th>odor</th>\n      <th>gill-attachment</th>\n      <th>gill-spacing</th>\n      <th>gill-size</th>\n      <th>gill-color</th>\n      <th>...</th>\n      <th>stalk-surface-below-ring</th>\n      <th>stalk-color-above-ring</th>\n      <th>stalk-color-below-ring</th>\n      <th>veil-type</th>\n      <th>veil-color</th>\n      <th>ring-number</th>\n      <th>ring-type</th>\n      <th>spore-print-color</th>\n      <th>population</th>\n      <th>habitat</th>\n    </tr>\n  </thead>\n  <tbody>\n    <tr>\n      <td>count</td>\n      <td>8124</td>\n      <td>8124</td>\n      <td>8124</td>\n      <td>8124</td>\n      <td>8124</td>\n      <td>8124</td>\n      <td>8124</td>\n      <td>8124</td>\n      <td>8124</td>\n      <td>8124</td>\n      <td>...</td>\n      <td>8124</td>\n      <td>8124</td>\n      <td>8124</td>\n      <td>8124</td>\n      <td>8124</td>\n      <td>8124</td>\n      <td>8124</td>\n      <td>8124</td>\n      <td>8124</td>\n      <td>8124</td>\n    </tr>\n    <tr>\n      <td>unique</td>\n      <td>2</td>\n      <td>6</td>\n      <td>4</td>\n      <td>10</td>\n      <td>2</td>\n      <td>9</td>\n      <td>2</td>\n      <td>2</td>\n      <td>2</td>\n      <td>12</td>\n      <td>...</td>\n      <td>4</td>\n      <td>9</td>\n      <td>9</td>\n      <td>1</td>\n      <td>4</td>\n      <td>3</td>\n      <td>5</td>\n      <td>9</td>\n      <td>6</td>\n      <td>7</td>\n    </tr>\n    <tr>\n      <td>top</td>\n      <td>e</td>\n      <td>x</td>\n      <td>y</td>\n      <td>n</td>\n      <td>f</td>\n      <td>n</td>\n      <td>f</td>\n      <td>c</td>\n      <td>b</td>\n      <td>b</td>\n      <td>...</td>\n      <td>s</td>\n      <td>w</td>\n      <td>w</td>\n      <td>p</td>\n      <td>w</td>\n      <td>o</td>\n      <td>p</td>\n      <td>w</td>\n      <td>v</td>\n      <td>d</td>\n    </tr>\n    <tr>\n      <td>freq</td>\n      <td>4208</td>\n      <td>3656</td>\n      <td>3244</td>\n      <td>2284</td>\n      <td>4748</td>\n      <td>3528</td>\n      <td>7914</td>\n      <td>6812</td>\n      <td>5612</td>\n      <td>1728</td>\n      <td>...</td>\n      <td>4936</td>\n      <td>4464</td>\n      <td>4384</td>\n      <td>8124</td>\n      <td>7924</td>\n      <td>7488</td>\n      <td>3968</td>\n      <td>2388</td>\n      <td>4040</td>\n      <td>3148</td>\n    </tr>\n  </tbody>\n</table>\n<p>4 rows × 23 columns</p>\n</div>"
     },
     "execution_count": 10,
     "metadata": {},
     "output_type": "execute_result"
    }
   ],
   "source": [
    "mushroom.describe()"
   ],
   "metadata": {
    "collapsed": false
   }
  },
  {
   "cell_type": "code",
   "execution_count": 11,
   "outputs": [
    {
     "data": {
      "text/plain": "<matplotlib.axes._subplots.AxesSubplot at 0x17c36911d88>"
     },
     "execution_count": 11,
     "metadata": {},
     "output_type": "execute_result"
    },
    {
     "data": {
      "text/plain": "<Figure size 432x288 with 1 Axes>",
      "image/png": "[encoded data removed]"
     },
     "metadata": {
      "needs_background": "light"
     },
     "output_type": "display_data"
    }
   ],
   "source": [
    "sns.countplot(data = mushroom, x = 'class')"
   ],
   "metadata": {
    "collapsed": false
   }
  },
  {
   "cell_type": "markdown",
   "source": [
    "The ratio of poisonous and edible mushroom is about 1:1"
   ],
   "metadata": {
    "collapsed": false
   }
  },
  {
   "cell_type": "code",
   "execution_count": 12,
   "outputs": [
    {
     "data": {
      "text/plain": "<Figure size 1080x720 with 2 Axes>",
      "image/png": "[encoded data removed]"
     },
     "metadata": {
      "needs_background": "light"
     },
     "output_type": "display_data"
    },
    {
     "data": {
      "text/plain": "<Figure size 1080x720 with 3 Axes>",
      "image/png": "[encoded data removed]"
     },
     "metadata": {
      "needs_background": "light"
     },
     "output_type": "display_data"
    },
    {
     "data": {
      "text/plain": "<Figure size 1080x720 with 3 Axes>",
      "image/png": "[encoded data removed]"
     },
     "metadata": {
      "needs_background": "light"
     },
     "output_type": "display_data"
    },
    {
     "data": {
      "text/plain": "<Figure size 1080x720 with 3 Axes>",
      "image/png": "[encoded data removed]"
     },
     "metadata": {
      "needs_background": "light"
     },
     "output_type": "display_data"
    },
    {
     "data": {
      "text/plain": "<Figure size 1080x720 with 3 Axes>",
      "image/png": "[encoded data removed]"
     },
     "metadata": {
      "needs_background": "light"
     },
     "output_type": "display_data"
    },
    {
     "data": {
      "text/plain": "<Figure size 1080x720 with 3 Axes>",
      "image/png": "[encoded data removed]"
     },
     "metadata": {
      "needs_background": "light"
     },
     "output_type": "display_data"
    },
    {
     "data": {
      "text/plain": "<Figure size 1080x720 with 3 Axes>",
      "image/png": "[encoded data removed]"
     },
     "metadata": {
      "needs_background": "light"
     },
     "output_type": "display_data"
    },
    {
     "data": {
      "text/plain": "<Figure size 1080x720 with 2 Axes>",
      "image/png": "[encoded data removed]"
     },
     "metadata": {
      "needs_background": "light"
     },
     "output_type": "display_data"
    }
   ],
   "source": [
    "# draw countplot to see the frequency of each cat variables.\n",
    "ix = 1\n",
    "fig = plt.figure(figsize = (15,10))\n",
    "for c in list(mushroom.columns):\n",
    "    if ix <= 3:\n",
    "        if c != 'class':\n",
    "            ax1 = fig.add_subplot(2,3,ix)\n",
    "            sns.countplot(data = mushroom, x=c, ax = ax1)\n",
    "    ix = ix +1\n",
    "    if ix == 4:\n",
    "        fig = plt.figure(figsize = (15,10))\n",
    "        ix =1"
   ],
   "metadata": {
    "collapsed": false
   }
  },
  {
   "cell_type": "markdown",
   "source": [
    "# phase 2: machine learning models\n",
    "\n",
    "## 2.1 Decision Tree"
   ],
   "metadata": {
    "collapsed": false
   }
  },
  {
   "cell_type": "code",
   "execution_count": 13,
   "outputs": [],
   "source": [
    "# split dataset in features and target variable\n",
    "# features\n",
    "features = ['cap-shape', 'cap-surface', 'cap-color', 'bruises', 'odor',\n",
    "            'gill-attachment', 'gill-spacing', 'gill-size', 'gill-color',\n",
    "            'stalk-shape', 'stalk-root', 'stalk-surface-above-ring',\n",
    "            'stalk-surface-below-ring', 'stalk-color-above-ring',\n",
    "            'stalk-color-below-ring', 'veil-type', 'veil-color', 'ring-number',\n",
    "            'ring-type', 'spore-print-color', 'population', 'habitat']\n",
    "X = mushroom[features]\n",
    "# target variable\n",
    "y = mushroom['class']"
   ],
   "metadata": {
    "collapsed": false
   }
  },
  {
   "cell_type": "code",
   "execution_count": 14,
   "outputs": [],
   "source": [
    "# Split dataset into training set and test set\n",
    "# 70% training and 30% test\n",
    "X_train, X_test, y_train, y_test = train_test_split(X, y, test_size=0.3, random_state=1)"
   ],
   "metadata": {
    "collapsed": false
   }
  },
  {
   "cell_type": "markdown",
   "source": [],
   "metadata": {
    "collapsed": false
   }
  },
  {
   "cell_type": "markdown",
   "source": [
    "### 2.1.1 Catboost"
   ],
   "metadata": {
    "collapsed": false
   }
  },
  {
   "cell_type": "markdown",
   "source": [
    "Use catboost package to do the decision tree model first.\n",
    "The advantage of the package is it can deal with categorical variables easily."
   ],
   "metadata": {
    "collapsed": false
   }
  },
  {
   "cell_type": "code",
   "execution_count": 17,
   "outputs": [
    {
     "ename": "ModuleNotFoundError",
     "evalue": "No module named 'catboost'",
     "output_type": "error",
     "traceback": [
      "\u001B[1;31m---------------------------------------------------------------------------\u001B[0m",
      "\u001B[1;31mModuleNotFoundError\u001B[0m                       Traceback (most recent call last)",
      "\u001B[1;32m<ipython-input-17-4b45a8376260>\u001B[0m in \u001B[0;36m<module>\u001B[1;34m\u001B[0m\n\u001B[1;32m----> 1\u001B[1;33m \u001B[1;32mimport\u001B[0m \u001B[0mcatboost\u001B[0m\u001B[1;33m\u001B[0m\u001B[1;33m\u001B[0m\u001B[0m\n\u001B[0m\u001B[0;32m      2\u001B[0m \u001B[0mcbc\u001B[0m \u001B[1;33m=\u001B[0m \u001B[0mcatboost\u001B[0m\u001B[1;33m.\u001B[0m\u001B[0mCatBoostClassifier\u001B[0m\u001B[1;33m(\u001B[0m\u001B[0mrandom_seed\u001B[0m\u001B[1;33m=\u001B[0m\u001B[1;36m0\u001B[0m\u001B[1;33m,\u001B[0m \u001B[0mloss_function\u001B[0m\u001B[1;33m=\u001B[0m\u001B[1;32mNone\u001B[0m\u001B[1;33m)\u001B[0m\u001B[1;33m\u001B[0m\u001B[1;33m\u001B[0m\u001B[0m\n\u001B[0;32m      3\u001B[0m \u001B[0mcbc\u001B[0m\u001B[1;33m.\u001B[0m\u001B[0mfit\u001B[0m\u001B[1;33m(\u001B[0m\u001B[0mX_train\u001B[0m\u001B[1;33m,\u001B[0m \u001B[0my_train\u001B[0m\u001B[1;33m,\u001B[0m \u001B[0mcat_features\u001B[0m \u001B[1;33m=\u001B[0m \u001B[0mlist\u001B[0m\u001B[1;33m(\u001B[0m\u001B[0mX_train\u001B[0m\u001B[1;33m.\u001B[0m\u001B[0mcolumns\u001B[0m\u001B[1;33m)\u001B[0m\u001B[1;33m)\u001B[0m\u001B[1;33m\u001B[0m\u001B[1;33m\u001B[0m\u001B[0m\n",
      "\u001B[1;31mModuleNotFoundError\u001B[0m: No module named 'catboost'"
     ]
    }
   ],
   "source": [
    "import catboost\n",
    "cbc = catboost.CatBoostClassifier(random_seed=0, loss_function=None)\n",
    "cbc.fit(X_train, y_train, cat_features = list(X_train.columns))"
   ],
   "metadata": {
    "collapsed": false
   }
  },
  {
   "cell_type": "code",
   "execution_count": null,
   "outputs": [],
   "source": [
    "prd = pd.DataFrame({'predict':cbc.predict(X_test), 'test':y_test})\n",
    "prd.head(40)"
   ],
   "metadata": {
    "collapsed": false
   }
  },
  {
   "cell_type": "code",
   "execution_count": null,
   "outputs": [],
   "source": [
    "correct = 0\n",
    "for i in range(prd.shape[0]):\n",
    "    if prd.iloc[i,0] == prd.iloc[i,1]:\n",
    "        correct+= 1\n",
    "accuarcy = correct/prd.shape[0]\n",
    "accuarcy"
   ],
   "metadata": {
    "collapsed": false
   }
  },
  {
   "cell_type": "markdown",
   "source": [
    "### 2.1.2 DecisionTreeClassifier()\n",
    "##### transfrom categorical variables to numerical variables use sklearn.preprocessing.LabelEncoder"
   ],
   "metadata": {
    "collapsed": false
   }
  },
  {
   "cell_type": "code",
   "execution_count": 18,
   "outputs": [
    {
     "data": {
      "text/plain": "   class  cap-shape  cap-surface  cap-color  bruises  odor  gill-attachment  \\\n0      1          5            2          4        1     6                1   \n1      0          5            2          9        1     0                1   \n2      0          0            2          8        1     3                1   \n3      1          5            3          8        1     6                1   \n4      0          5            2          3        0     5                1   \n\n   gill-spacing  gill-size  gill-color  ...  stalk-surface-below-ring  \\\n0             0          1           4  ...                         2   \n1             0          0           4  ...                         2   \n2             0          0           5  ...                         2   \n3             0          1           5  ...                         2   \n4             1          0           4  ...                         2   \n\n   stalk-color-above-ring  stalk-color-below-ring  veil-type  veil-color  \\\n0                       7                       7          0           2   \n1                       7                       7          0           2   \n2                       7                       7          0           2   \n3                       7                       7          0           2   \n4                       7                       7          0           2   \n\n   ring-number  ring-type  spore-print-color  population  habitat  \n0            1          4                  2           3        5  \n1            1          4                  3           2        1  \n2            1          4                  3           2        3  \n3            1          4                  2           3        5  \n4            1          0                  3           0        1  \n\n[5 rows x 23 columns]",
      "text/html": "<div>\n<style scoped>\n    .dataframe tbody tr th:only-of-type {\n        vertical-align: middle;\n    }\n\n    .dataframe tbody tr th {\n        vertical-align: top;\n    }\n\n    .dataframe thead th {\n        text-align: right;\n    }\n</style>\n<table border=\"1\" class=\"dataframe\">\n  <thead>\n    <tr style=\"text-align: right;\">\n      <th></th>\n      <th>class</th>\n      <th>cap-shape</th>\n      <th>cap-surface</th>\n      <th>cap-color</th>\n      <th>bruises</th>\n      <th>odor</th>\n      <th>gill-attachment</th>\n      <th>gill-spacing</th>\n      <th>gill-size</th>\n      <th>gill-color</th>\n      <th>...</th>\n      <th>stalk-surface-below-ring</th>\n      <th>stalk-color-above-ring</th>\n      <th>stalk-color-below-ring</th>\n      <th>veil-type</th>\n      <th>veil-color</th>\n      <th>ring-number</th>\n      <th>ring-type</th>\n      <th>spore-print-color</th>\n      <th>population</th>\n      <th>habitat</th>\n    </tr>\n  </thead>\n  <tbody>\n    <tr>\n      <td>0</td>\n      <td>1</td>\n      <td>5</td>\n      <td>2</td>\n      <td>4</td>\n      <td>1</td>\n      <td>6</td>\n      <td>1</td>\n      <td>0</td>\n      <td>1</td>\n      <td>4</td>\n      <td>...</td>\n      <td>2</td>\n      <td>7</td>\n      <td>7</td>\n      <td>0</td>\n      <td>2</td>\n      <td>1</td>\n      <td>4</td>\n      <td>2</td>\n      <td>3</td>\n      <td>5</td>\n    </tr>\n    <tr>\n      <td>1</td>\n      <td>0</td>\n      <td>5</td>\n      <td>2</td>\n      <td>9</td>\n      <td>1</td>\n      <td>0</td>\n      <td>1</td>\n      <td>0</td>\n      <td>0</td>\n      <td>4</td>\n      <td>...</td>\n      <td>2</td>\n      <td>7</td>\n      <td>7</td>\n      <td>0</td>\n      <td>2</td>\n      <td>1</td>\n      <td>4</td>\n      <td>3</td>\n      <td>2</td>\n      <td>1</td>\n    </tr>\n    <tr>\n      <td>2</td>\n      <td>0</td>\n      <td>0</td>\n      <td>2</td>\n      <td>8</td>\n      <td>1</td>\n      <td>3</td>\n      <td>1</td>\n      <td>0</td>\n      <td>0</td>\n      <td>5</td>\n      <td>...</td>\n      <td>2</td>\n      <td>7</td>\n      <td>7</td>\n      <td>0</td>\n      <td>2</td>\n      <td>1</td>\n      <td>4</td>\n      <td>3</td>\n      <td>2</td>\n      <td>3</td>\n    </tr>\n    <tr>\n      <td>3</td>\n      <td>1</td>\n      <td>5</td>\n      <td>3</td>\n      <td>8</td>\n      <td>1</td>\n      <td>6</td>\n      <td>1</td>\n      <td>0</td>\n      <td>1</td>\n      <td>5</td>\n      <td>...</td>\n      <td>2</td>\n      <td>7</td>\n      <td>7</td>\n      <td>0</td>\n      <td>2</td>\n      <td>1</td>\n      <td>4</td>\n      <td>2</td>\n      <td>3</td>\n      <td>5</td>\n    </tr>\n    <tr>\n      <td>4</td>\n      <td>0</td>\n      <td>5</td>\n      <td>2</td>\n      <td>3</td>\n      <td>0</td>\n      <td>5</td>\n      <td>1</td>\n      <td>1</td>\n      <td>0</td>\n      <td>4</td>\n      <td>...</td>\n      <td>2</td>\n      <td>7</td>\n      <td>7</td>\n      <td>0</td>\n      <td>2</td>\n      <td>1</td>\n      <td>0</td>\n      <td>3</td>\n      <td>0</td>\n      <td>1</td>\n    </tr>\n  </tbody>\n</table>\n<p>5 rows × 23 columns</p>\n</div>"
     },
     "execution_count": 18,
     "metadata": {},
     "output_type": "execute_result"
    }
   ],
   "source": [
    "from sklearn.preprocessing import LabelEncoder\n",
    "encoder=LabelEncoder()\n",
    "mushroom_encode = mushroom\n",
    "for i in mushroom_encode.columns:\n",
    "    mushroom_encode[i]=encoder.fit_transform(mushroom_encode[i])\n",
    "mushroom_encode.head()"
   ],
   "metadata": {
    "collapsed": false
   }
  },
  {
   "cell_type": "code",
   "execution_count": 19,
   "outputs": [],
   "source": [
    "X_encode = mushroom_encode[['cap-shape', 'cap-surface', 'cap-color', 'bruises', 'odor',\n",
    "                            'gill-attachment', 'gill-spacing', 'gill-size', 'gill-color',\n",
    "                            'stalk-shape', 'stalk-root', 'stalk-surface-above-ring',\n",
    "                            'stalk-surface-below-ring', 'stalk-color-above-ring',\n",
    "                            'stalk-color-below-ring', 'veil-type', 'veil-color', 'ring-number',\n",
    "                            'ring-type', 'spore-print-color', 'population', 'habitat']]\n",
    "y_encode = mushroom_encode['class']"
   ],
   "metadata": {
    "collapsed": false
   }
  },
  {
   "cell_type": "markdown",
   "source": [
    "use sklearn.preprocessing.StandardScaler\n",
    "Standardize features by removing the mean and scaling to unit variance."
   ],
   "metadata": {
    "collapsed": false
   }
  },
  {
   "cell_type": "code",
   "execution_count": 20,
   "outputs": [],
   "source": [
    "from sklearn.preprocessing import StandardScaler\n",
    "sc=StandardScaler()\n",
    "X_encode_sc=sc.fit_transform(X_encode)"
   ],
   "metadata": {
    "collapsed": false
   }
  },
  {
   "cell_type": "code",
   "execution_count": 21,
   "outputs": [],
   "source": [
    "# Split dataset into training set and test set\n",
    "# 70% training and 30% test7\n",
    "X_train_encode, X_test_encode, y_train_encode, y_test_encode = train_test_split(X_encode_sc, y_encode, test_size=0.3, random_state=2)"
   ],
   "metadata": {
    "collapsed": false
   }
  },
  {
   "cell_type": "code",
   "execution_count": 22,
   "outputs": [],
   "source": [
    "# Create Decision Tree classifer object\n",
    "clf = DecisionTreeClassifier()\n",
    "\n",
    "# Train Decision Tree Classifer\n",
    "clf = clf.fit(X_train_encode,y_train_encode)\n",
    "\n",
    "#Predict the response for test dataset\n",
    "y_pred = clf.predict(X_test_encode)"
   ],
   "metadata": {
    "collapsed": false
   }
  },
  {
   "cell_type": "code",
   "execution_count": 23,
   "outputs": [
    {
     "name": "stdout",
     "output_type": "stream",
     "text": [
      "Accuracy: 1.0\n"
     ]
    }
   ],
   "source": [
    "# Model Accuracy\n",
    "print(\"Accuracy:\",metrics.accuracy_score(y_test_encode, y_pred))"
   ],
   "metadata": {
    "collapsed": false
   }
  },
  {
   "cell_type": "markdown",
   "source": [
    "## 2.1.3 Naive Bayes Classifier"
   ],
   "metadata": {
    "collapsed": false
   }
  },
  {
   "cell_type": "code",
   "execution_count": 27,
   "outputs": [
    {
     "data": {
      "text/plain": "GaussianNB(priors=None, var_smoothing=1e-09)"
     },
     "execution_count": 27,
     "metadata": {},
     "output_type": "execute_result"
    }
   ],
   "source": [
    "from sklearn.naive_bayes import GaussianNB\n",
    "nb=GaussianNB()\n",
    "nb.fit(X_train_encode,y_train_encode)"
   ],
   "metadata": {
    "collapsed": false
   }
  },
  {
   "cell_type": "code",
   "execution_count": 29,
   "outputs": [
    {
     "name": "stdout",
     "output_type": "stream",
     "text": [
      "[[2704  206]\n",
      " [ 208 2568]]\n",
      "[[1211   87]\n",
      " [ 101 1039]]\n"
     ]
    }
   ],
   "source": [
    "# Use confusion matrix for result analysis\n",
    "from sklearn.metrics import classification_report,confusion_matrix,accuracy_score\n",
    "y_pred_nb_train=nb.predict(X_train_encode)\n",
    "y_pred_nb_test=nb.predict(X_test_encode)\n",
    "print(confusion_matrix(y_train_encode,y_pred_nb_train))\n",
    "print(confusion_matrix(y_test_encode,y_pred_nb_test))"
   ],
   "metadata": {
    "collapsed": false
   }
  },
  {
   "cell_type": "code",
   "execution_count": 30,
   "outputs": [
    {
     "name": "stdout",
     "output_type": "stream",
     "text": [
      "              precision    recall  f1-score   support\n",
      "\n",
      "           0       0.93      0.93      0.93      2910\n",
      "           1       0.93      0.93      0.93      2776\n",
      "\n",
      "    accuracy                           0.93      5686\n",
      "   macro avg       0.93      0.93      0.93      5686\n",
      "weighted avg       0.93      0.93      0.93      5686\n",
      "\n",
      "              precision    recall  f1-score   support\n",
      "\n",
      "           0       0.92      0.93      0.93      1298\n",
      "           1       0.92      0.91      0.92      1140\n",
      "\n",
      "    accuracy                           0.92      2438\n",
      "   macro avg       0.92      0.92      0.92      2438\n",
      "weighted avg       0.92      0.92      0.92      2438\n",
      "\n"
     ]
    }
   ],
   "source": [
    "# Use classification report to get general evaluation metrics\n",
    "print(classification_report(y_train_encode,y_pred_nb_train))\n",
    "print(classification_report(y_test_encode,y_pred_nb_test))"
   ],
   "metadata": {
    "collapsed": false
   }
  },
  {
   "cell_type": "code",
   "execution_count": 31,
   "outputs": [
    {
     "name": "stdout",
     "output_type": "stream",
     "text": [
      "0.9271895884628913\n",
      "0.9228876127973749\n"
     ]
    }
   ],
   "source": [
    "# accuracy of using naive bayes classifier\n",
    "print(accuracy_score(y_train_encode,y_pred_nb_train))\n",
    "print(accuracy_score(y_test_encode,y_pred_nb_test))"
   ],
   "metadata": {
    "collapsed": false
   }
  },
  {
   "cell_type": "markdown",
   "source": [
    "## 2.1.4 SVC Classifier"
   ],
   "metadata": {
    "collapsed": false
   }
  },
  {
   "cell_type": "code",
   "execution_count": 32,
   "outputs": [
    {
     "name": "stderr",
     "output_type": "stream",
     "text": [
      "C:\\Users\\Wenyu\\Anaconda3\\lib\\site-packages\\sklearn\\svm\\base.py:193: FutureWarning: The default value of gamma will change from 'auto' to 'scale' in version 0.22 to account better for unscaled features. Set gamma explicitly to 'auto' or 'scale' to avoid this warning.\n",
      "  \"avoid this warning.\", FutureWarning)\n",
      "C:\\Users\\Wenyu\\Anaconda3\\lib\\site-packages\\sklearn\\svm\\base.py:193: FutureWarning: The default value of gamma will change from 'auto' to 'scale' in version 0.22 to account better for unscaled features. Set gamma explicitly to 'auto' or 'scale' to avoid this warning.\n",
      "  \"avoid this warning.\", FutureWarning)\n",
      "C:\\Users\\Wenyu\\Anaconda3\\lib\\site-packages\\sklearn\\svm\\base.py:193: FutureWarning: The default value of gamma will change from 'auto' to 'scale' in version 0.22 to account better for unscaled features. Set gamma explicitly to 'auto' or 'scale' to avoid this warning.\n",
      "  \"avoid this warning.\", FutureWarning)\n"
     ]
    },
    {
     "data": {
      "text/plain": "SVC(C=1.0, cache_size=200, class_weight=None, coef0=0.0,\n    decision_function_shape='ovr', degree=3, gamma='auto_deprecated',\n    kernel='rbf', max_iter=-1, probability=False, random_state=None,\n    shrinking=True, tol=0.001, verbose=False)"
     },
     "execution_count": 32,
     "metadata": {},
     "output_type": "execute_result"
    }
   ],
   "source": [
    "from sklearn.svm import SVC\n",
    "svc_linear=SVC(kernel='linear')\n",
    "svc_linear.fit(X_train_encode,y_train_encode)\n",
    "svc_sigmoid=SVC(kernel='sigmoid')\n",
    "svc_sigmoid.fit(X_train_encode,y_train_encode)\n",
    "svc_poly=SVC(kernel='poly')\n",
    "svc_poly.fit(X_train_encode,y_train_encode)\n",
    "svc_rbf=SVC(kernel='rbf')\n",
    "svc_rbf.fit(X_train_encode,y_train_encode)"
   ],
   "metadata": {
    "collapsed": false
   }
  },
  {
   "cell_type": "code",
   "execution_count": 33,
   "outputs": [],
   "source": [
    "y_pred_sigmoid=svc_sigmoid.predict(X_test_encode)\n",
    "y_pred_linear=svc_linear.predict(X_test_encode)\n",
    "y_pred_poly=svc_poly.predict(X_test_encode)\n",
    "y_pred_rbf=svc_rbf.predict(X_test_encode)"
   ],
   "metadata": {
    "collapsed": false
   }
  },
  {
   "cell_type": "code",
   "execution_count": 34,
   "outputs": [
    {
     "name": "stdout",
     "output_type": "stream",
     "text": [
      "[[1093  205]\n",
      " [ 221  919]]\n",
      "[[1268   30]\n",
      " [  25 1115]]\n",
      "[[1298    0]\n",
      " [   0 1140]]\n",
      "[[1298    0]\n",
      " [   0 1140]]\n"
     ]
    }
   ],
   "source": [
    "print(confusion_matrix(y_test_encode,y_pred_sigmoid))\n",
    "print(confusion_matrix(y_test_encode,y_pred_linear))\n",
    "print(confusion_matrix(y_test_encode,y_pred_poly))\n",
    "print(confusion_matrix(y_test_encode,y_pred_rbf))"
   ],
   "metadata": {
    "collapsed": false
   }
  },
  {
   "cell_type": "code",
   "execution_count": 35,
   "outputs": [
    {
     "name": "stdout",
     "output_type": "stream",
     "text": [
      "              precision    recall  f1-score   support\n",
      "\n",
      "           0       0.83      0.84      0.84      1298\n",
      "           1       0.82      0.81      0.81      1140\n",
      "\n",
      "    accuracy                           0.83      2438\n",
      "   macro avg       0.82      0.82      0.82      2438\n",
      "weighted avg       0.83      0.83      0.83      2438\n",
      "\n",
      "              precision    recall  f1-score   support\n",
      "\n",
      "           0       0.98      0.98      0.98      1298\n",
      "           1       0.97      0.98      0.98      1140\n",
      "\n",
      "    accuracy                           0.98      2438\n",
      "   macro avg       0.98      0.98      0.98      2438\n",
      "weighted avg       0.98      0.98      0.98      2438\n",
      "\n",
      "              precision    recall  f1-score   support\n",
      "\n",
      "           0       1.00      1.00      1.00      1298\n",
      "           1       1.00      1.00      1.00      1140\n",
      "\n",
      "    accuracy                           1.00      2438\n",
      "   macro avg       1.00      1.00      1.00      2438\n",
      "weighted avg       1.00      1.00      1.00      2438\n",
      "\n",
      "              precision    recall  f1-score   support\n",
      "\n",
      "           0       1.00      1.00      1.00      1298\n",
      "           1       1.00      1.00      1.00      1140\n",
      "\n",
      "    accuracy                           1.00      2438\n",
      "   macro avg       1.00      1.00      1.00      2438\n",
      "weighted avg       1.00      1.00      1.00      2438\n",
      "\n"
     ]
    }
   ],
   "source": [
    "print(classification_report(y_test_encode,y_pred_sigmoid))\n",
    "print(classification_report(y_test_encode,y_pred_linear))\n",
    "print(classification_report(y_test_encode,y_pred_poly))\n",
    "print(classification_report(y_test_encode,y_pred_rbf))"
   ],
   "metadata": {
    "collapsed": false
   }
  },
  {
   "cell_type": "code",
   "execution_count": 36,
   "outputs": [
    {
     "name": "stdout",
     "output_type": "stream",
     "text": [
      "0.83\n",
      "0.98\n",
      "1.0\n",
      "1.0\n"
     ]
    }
   ],
   "source": [
    "print(round(accuracy_score(y_test_encode,y_pred_sigmoid),2))\n",
    "print(round(accuracy_score(y_test_encode,y_pred_linear),2))\n",
    "print(accuracy_score(y_test_encode,y_pred_poly))\n",
    "print(accuracy_score(y_test_encode,y_pred_rbf))"
   ],
   "metadata": {
    "collapsed": false
   }
  },
  {
   "cell_type": "code",
   "execution_count": null,
   "outputs": [],
   "source": [],
   "metadata": {
    "collapsed": false
   }
  }
 ],
 "metadata": {
  "kernelspec": {
   "display_name": "Python 3",
   "language": "python",
   "name": "python3"
  },
  "language_info": {
   "codemirror_mode": {
    "name": "ipython",
    "version": 2
   },
   "file_extension": ".py",
   "mimetype": "text/x-python",
   "name": "python",
   "nbconvert_exporter": "python",
   "pygments_lexer": "ipython2",
   "version": "2.7.6"
  }
 },
 "nbformat": 4,
 "nbformat_minor": 0
}
