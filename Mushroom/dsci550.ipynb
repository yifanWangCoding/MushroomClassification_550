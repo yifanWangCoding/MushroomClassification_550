{
 "cells": [
  {
   "cell_type": "markdown",
   "source": [
    "# DSCI550 Project\n",
    "# Classification of the Edibility of Gilled Mushrooms: Does Beauty Means Danger?\n",
    "### Yiqiao Zhang, Yifan Wang, Wenyu Shang\n"
   ],
   "metadata": {
    "collapsed": false,
    "pycharm": {
     "name": "#%% md\n"
    }
   }
  },
  {
   "cell_type": "code",
   "execution_count": 2,
   "outputs": [],
   "source": [
    "# test connect\n",
    "import pandas as pd\n",
    "import numpy as np\n",
    "import seaborn as sns\n",
    "import matplotlib.pyplot as plt\n",
    "from sklearn import datasets\n",
    "from sklearn.tree import DecisionTreeClassifier\n",
    "from sklearn import tree\n",
    "from sklearn import metrics\n",
    "from sklearn.model_selection import train_test_split\n",
    "from sklearn.metrics import accuracy_score"
   ],
   "metadata": {
    "collapsed": false,
    "pycharm": {
     "name": "#%%\n"
    }
   }
  },
  {
   "cell_type": "markdown",
   "source": [
    "# phase 1: Exploratory Data Analysis"
   ],
   "metadata": {
    "collapsed": false,
    "pycharm": {
     "name": "#%% md\n"
    }
   }
  },
  {
   "cell_type": "code",
   "execution_count": null,
   "outputs": [],
   "source": [
    "# read data\n",
    "# note to up and ruru : change path before run it\n",
    "mushroom = pd.read_csv('mushrooms.csv')\n",
    "# mushroom = pd.read_csv('/Users\\Wenyu\\Desktop\\DSCI 550 Data Science at Scale\\project/mushrooms.csv')\n",
    "mushroom.head()"
   ],
   "metadata": {
    "collapsed": false,
    "pycharm": {
     "name": "#%%\n"
    }
   }
  },
  {
   "cell_type": "code",
   "execution_count": null,
   "outputs": [],
   "source": [
    "mushroom.info()"
   ],
   "metadata": {
    "collapsed": false,
    "pycharm": {
     "name": "#%%\n"
    }
   }
  },
  {
   "cell_type": "markdown",
   "source": [
    "From this quick overview, we can see:\n",
    "1. There is no null value in the entire dataset.\n",
    "2. All variables are categorical variable.\n",
    "3. ......"
   ],
   "metadata": {
    "collapsed": false,
    "pycharm": {
     "name": "#%% md\n"
    }
   }
  },
  {
   "cell_type": "code",
   "execution_count": null,
   "outputs": [],
   "source": [
    "mushroom.describe()"
   ],
   "metadata": {
    "collapsed": false,
    "pycharm": {
     "name": "#%%\n"
    }
   }
  },
  {
   "cell_type": "code",
   "execution_count": null,
   "outputs": [],
   "source": [
    "sns.countplot(data = mushroom, x = 'class')"
   ],
   "metadata": {
    "collapsed": false,
    "pycharm": {
     "name": "#%%\n"
    }
   }
  },
  {
   "cell_type": "markdown",
   "source": [
    "The ratio of poisonous and edible mushroom is about 1:1"
   ],
   "metadata": {
    "collapsed": false,
    "pycharm": {
     "name": "#%% md\n"
    }
   }
  },
  {
   "cell_type": "code",
   "execution_count": null,
   "outputs": [],
   "source": [
    "# draw countplot to see the frequency of each cat variables.\n",
    "ix = 1\n",
    "fig = plt.figure(figsize = (15,10))\n",
    "for c in list(mushroom.columns):\n",
    "    if ix <= 3:\n",
    "        if c != 'class':\n",
    "            ax1 = fig.add_subplot(2,3,ix)\n",
    "            sns.countplot(data = mushroom, x=c, ax = ax1)\n",
    "    ix = ix +1\n",
    "    if ix == 4:\n",
    "        fig = plt.figure(figsize = (15,10))\n",
    "        ix =1"
   ],
   "metadata": {
    "collapsed": false,
    "pycharm": {
     "name": "#%%\n"
    }
   }
  },
  {
   "cell_type": "code",
   "execution_count": null,
   "outputs": [],
   "source": [
    "#draw stacked bar chart to see for each class of variables, what proportion of mushrooms are Poisonous vs. edible\n",
    "an = 1\n",
    "fig = plt.figure(figsize = (15,10))\n",
    "for c in list(mushroom.columns):\n",
    "    if an <= 3:\n",
    "        if c != 'class':\n",
    "            ax1 = fig.add_subplot(2,3,an)\n",
    "            pd.crosstab(mushroom[c], mushroom['class']).plot(kind='bar', stacked=True, ax=ax1)\n",
    "    an = an +1\n",
    "    if an == 4:\n",
    "        fig = plt.figure(figsize = (15,10))\n",
    "        an =1"
   ],
   "metadata": {
    "collapsed": false,
    "pycharm": {
     "name": "#%%\n"
    }
   }
  },
  {
   "cell_type": "code",
   "execution_count": null,
   "outputs": [],
   "source": [
    "from sklearn.preprocessing import LabelEncoder\n",
    "encoder=LabelEncoder()\n",
    "mushroom_encode = mushroom\n",
    "for i in mushroom_encode.columns:\n",
    "    mushroom_encode[i]=encoder.fit_transform(mushroom_encode[i])\n",
    "mushroom_encode.head()"
   ],
   "metadata": {
    "collapsed": false,
    "pycharm": {
     "name": "#%%\n"
    }
   }
  },
  {
   "cell_type": "code",
   "execution_count": null,
   "outputs": [],
   "source": [
    "#draw heatmap for all variables, understand the correlation between variables.\n",
    "p = mushroom_encode.corr()\n",
    "sns.heatmap(p, xticklabels=True, yticklabels=True)\n",
    "plt.title(\"Correlation heatmap for variables\")"
   ],
   "metadata": {
    "collapsed": false,
    "pycharm": {
     "name": "#%%\n"
    }
   }
  },
  {
   "cell_type": "markdown",
   "source": [
    "# phase 2: machine learning models\n",
    "\n",
    "## 2.1 Decision Tree"
   ],
   "metadata": {
    "collapsed": false,
    "pycharm": {
     "name": "#%% md\n"
    }
   }
  },
  {
   "cell_type": "code",
   "execution_count": null,
   "outputs": [],
   "source": [
    "# split dataset in features and target variable\n",
    "# features\n",
    "features = ['cap-shape', 'cap-surface', 'cap-color', 'bruises', 'odor',\n",
    "            'gill-attachment', 'gill-spacing', 'gill-size', 'gill-color',\n",
    "            'stalk-shape', 'stalk-root', 'stalk-surface-above-ring',\n",
    "            'stalk-surface-below-ring', 'stalk-color-above-ring',\n",
    "            'stalk-color-below-ring', 'veil-type', 'veil-color', 'ring-number',\n",
    "            'ring-type', 'spore-print-color', 'population', 'habitat']\n",
    "X = mushroom[features]\n",
    "# target variable\n",
    "y = mushroom['class']"
   ],
   "metadata": {
    "collapsed": false,
    "pycharm": {
     "name": "#%%\n"
    }
   }
  },
  {
   "cell_type": "code",
   "execution_count": null,
   "outputs": [],
   "source": [
    "# Split dataset into training set and test set\n",
    "# 70% training and 30% test\n",
    "X_train, X_test, y_train, y_test = train_test_split(X, y, test_size=0.3, random_state=1)"
   ],
   "metadata": {
    "collapsed": false,
    "pycharm": {
     "name": "#%%\n"
    }
   }
  },
  {
   "cell_type": "markdown",
   "source": [],
   "metadata": {
    "collapsed": false,
    "pycharm": {
     "name": "#%% md\n"
    }
   }
  },
  {
   "cell_type": "markdown",
   "source": [
    "### 2.1.1 Catboost"
   ],
   "metadata": {
    "collapsed": false,
    "pycharm": {
     "name": "#%% md\n"
    }
   }
  },
  {
   "cell_type": "markdown",
   "source": [
    "Use catboost package to do the decision tree model first.\n",
    "The advantage of the package is it can deal with categorical variables easily."
   ],
   "metadata": {
    "collapsed": false,
    "pycharm": {
     "name": "#%% md\n"
    }
   }
  },
  {
   "cell_type": "code",
   "execution_count": null,
   "outputs": [],
   "source": [
    "import catboost\n",
    "# cbc = catboost.CatBoostClassifier(random_seed=0, loss_function=None)\n",
    "# cbc.fit(X_train, y_train, cat_features = list(X_train.columns))"
   ],
   "metadata": {
    "collapsed": false,
    "pycharm": {
     "name": "#%%\n"
    }
   }
  },
  {
   "cell_type": "code",
   "source": [
    "acc = accuracy_score(y_test, cbc.predict(X_test))\n",
    "print('accuracy of CatBoost Decision Tree Model: {}'.format(acc))"
   ],
   "metadata": {
    "collapsed": false,
    "pycharm": {
     "name": "#%%\n"
    }
   },
   "execution_count": null,
   "outputs": []
  },
  {
   "cell_type": "markdown",
   "source": [
    "Use catboost package to do the decision tree model first.\n",
    "The advantage of the package is it can deal with categorical variables easily."
   ],
   "metadata": {
    "collapsed": false,
    "pycharm": {
     "name": "#%% md\n"
    }
   }
  },
  {
   "cell_type": "code",
   "execution_count": 13,
   "outputs": [
    {
     "name": "stdout",
     "output_type": "stream",
     "text": [
      "Learning rate set to 0.021639\n",
      "0:\tlearn: 0.6362644\ttotal: 69.3ms\tremaining: 1m 9s\n",
      "1:\tlearn: 0.5814129\ttotal: 76.8ms\tremaining: 38.3s\n",
      "2:\tlearn: 0.5330156\ttotal: 81.3ms\tremaining: 27s\n",
      "3:\tlearn: 0.4901635\ttotal: 84.8ms\tremaining: 21.1s\n",
      "4:\tlearn: 0.4516339\ttotal: 89.7ms\tremaining: 17.8s\n",
      "5:\tlearn: 0.4146539\ttotal: 95.5ms\tremaining: 15.8s\n",
      "6:\tlearn: 0.3831535\ttotal: 99.6ms\tremaining: 14.1s\n",
      "7:\tlearn: 0.3551525\ttotal: 104ms\tremaining: 12.9s\n",
      "8:\tlearn: 0.3242526\ttotal: 108ms\tremaining: 11.9s\n",
      "9:\tlearn: 0.3014048\ttotal: 111ms\tremaining: 11s\n",
      "10:\tlearn: 0.2850261\ttotal: 114ms\tremaining: 10.2s\n",
      "11:\tlearn: 0.2643300\ttotal: 121ms\tremaining: 9.95s\n",
      "12:\tlearn: 0.2426909\ttotal: 126ms\tremaining: 9.58s\n",
      "13:\tlearn: 0.2297347\ttotal: 131ms\tremaining: 9.25s\n",
      "14:\tlearn: 0.2171413\ttotal: 134ms\tremaining: 8.81s\n",
      "15:\tlearn: 0.1942192\ttotal: 142ms\tremaining: 8.7s\n",
      "16:\tlearn: 0.1739172\ttotal: 149ms\tremaining: 8.6s\n",
      "17:\tlearn: 0.1559210\ttotal: 153ms\tremaining: 8.36s\n",
      "18:\tlearn: 0.1401947\ttotal: 162ms\tremaining: 8.38s\n",
      "19:\tlearn: 0.1296692\ttotal: 168ms\tremaining: 8.23s\n",
      "20:\tlearn: 0.1177598\ttotal: 181ms\tremaining: 8.44s\n",
      "21:\tlearn: 0.1063690\ttotal: 188ms\tremaining: 8.36s\n",
      "22:\tlearn: 0.0962289\ttotal: 195ms\tremaining: 8.28s\n",
      "23:\tlearn: 0.0876144\ttotal: 203ms\tremaining: 8.24s\n",
      "24:\tlearn: 0.0816369\ttotal: 210ms\tremaining: 8.2s\n",
      "25:\tlearn: 0.0744891\ttotal: 217ms\tremaining: 8.13s\n",
      "26:\tlearn: 0.0680442\ttotal: 227ms\tremaining: 8.17s\n",
      "27:\tlearn: 0.0622639\ttotal: 234ms\tremaining: 8.13s\n",
      "28:\tlearn: 0.0573734\ttotal: 242ms\tremaining: 8.09s\n",
      "29:\tlearn: 0.0531862\ttotal: 250ms\tremaining: 8.08s\n",
      "30:\tlearn: 0.0491335\ttotal: 259ms\tremaining: 8.09s\n",
      "31:\tlearn: 0.0453532\ttotal: 265ms\tremaining: 8.03s\n",
      "32:\tlearn: 0.0419682\ttotal: 276ms\tremaining: 8.08s\n",
      "33:\tlearn: 0.0390401\ttotal: 283ms\tremaining: 8.04s\n",
      "34:\tlearn: 0.0363097\ttotal: 290ms\tremaining: 8s\n",
      "35:\tlearn: 0.0338151\ttotal: 298ms\tremaining: 7.97s\n",
      "36:\tlearn: 0.0314615\ttotal: 305ms\tremaining: 7.94s\n",
      "37:\tlearn: 0.0293301\ttotal: 312ms\tremaining: 7.89s\n",
      "38:\tlearn: 0.0274516\ttotal: 320ms\tremaining: 7.88s\n",
      "39:\tlearn: 0.0255376\ttotal: 328ms\tremaining: 7.87s\n",
      "40:\tlearn: 0.0237908\ttotal: 336ms\tremaining: 7.87s\n",
      "41:\tlearn: 0.0224359\ttotal: 374ms\tremaining: 8.54s\n",
      "42:\tlearn: 0.0211354\ttotal: 381ms\tremaining: 8.47s\n",
      "43:\tlearn: 0.0199839\ttotal: 387ms\tremaining: 8.42s\n",
      "44:\tlearn: 0.0189806\ttotal: 396ms\tremaining: 8.4s\n",
      "45:\tlearn: 0.0177900\ttotal: 405ms\tremaining: 8.4s\n",
      "46:\tlearn: 0.0167804\ttotal: 413ms\tremaining: 8.37s\n",
      "47:\tlearn: 0.0157644\ttotal: 421ms\tremaining: 8.35s\n",
      "48:\tlearn: 0.0149221\ttotal: 428ms\tremaining: 8.31s\n",
      "49:\tlearn: 0.0142323\ttotal: 437ms\tremaining: 8.3s\n",
      "50:\tlearn: 0.0136271\ttotal: 445ms\tremaining: 8.27s\n",
      "51:\tlearn: 0.0130850\ttotal: 458ms\tremaining: 8.35s\n",
      "52:\tlearn: 0.0124613\ttotal: 469ms\tremaining: 8.39s\n",
      "53:\tlearn: 0.0119108\ttotal: 477ms\tremaining: 8.36s\n",
      "54:\tlearn: 0.0117626\ttotal: 485ms\tremaining: 8.33s\n",
      "55:\tlearn: 0.0112843\ttotal: 491ms\tremaining: 8.28s\n",
      "56:\tlearn: 0.0108187\ttotal: 500ms\tremaining: 8.27s\n",
      "57:\tlearn: 0.0104978\ttotal: 508ms\tremaining: 8.25s\n",
      "58:\tlearn: 0.0101166\ttotal: 516ms\tremaining: 8.22s\n",
      "59:\tlearn: 0.0097214\ttotal: 524ms\tremaining: 8.2s\n",
      "60:\tlearn: 0.0097005\ttotal: 531ms\tremaining: 8.18s\n",
      "61:\tlearn: 0.0096298\ttotal: 538ms\tremaining: 8.14s\n",
      "62:\tlearn: 0.0095355\ttotal: 545ms\tremaining: 8.11s\n",
      "63:\tlearn: 0.0091044\ttotal: 561ms\tremaining: 8.2s\n",
      "64:\tlearn: 0.0090775\ttotal: 568ms\tremaining: 8.18s\n",
      "65:\tlearn: 0.0090632\ttotal: 576ms\tremaining: 8.16s\n",
      "66:\tlearn: 0.0089064\ttotal: 584ms\tremaining: 8.13s\n",
      "67:\tlearn: 0.0088870\ttotal: 590ms\tremaining: 8.09s\n",
      "68:\tlearn: 0.0088770\ttotal: 598ms\tremaining: 8.07s\n",
      "69:\tlearn: 0.0088691\ttotal: 603ms\tremaining: 8.01s\n",
      "70:\tlearn: 0.0086709\ttotal: 609ms\tremaining: 7.97s\n",
      "71:\tlearn: 0.0085706\ttotal: 621ms\tremaining: 8.01s\n",
      "72:\tlearn: 0.0083176\ttotal: 629ms\tremaining: 7.98s\n",
      "73:\tlearn: 0.0082047\ttotal: 641ms\tremaining: 8.03s\n",
      "74:\tlearn: 0.0081974\ttotal: 646ms\tremaining: 7.97s\n",
      "75:\tlearn: 0.0081720\ttotal: 654ms\tremaining: 7.95s\n",
      "76:\tlearn: 0.0080951\ttotal: 661ms\tremaining: 7.93s\n",
      "77:\tlearn: 0.0080873\ttotal: 665ms\tremaining: 7.86s\n",
      "78:\tlearn: 0.0080508\ttotal: 672ms\tremaining: 7.84s\n",
      "79:\tlearn: 0.0079363\ttotal: 679ms\tremaining: 7.81s\n",
      "80:\tlearn: 0.0079276\ttotal: 684ms\tremaining: 7.76s\n",
      "81:\tlearn: 0.0079133\ttotal: 690ms\tremaining: 7.73s\n",
      "82:\tlearn: 0.0078044\ttotal: 697ms\tremaining: 7.7s\n",
      "83:\tlearn: 0.0077135\ttotal: 704ms\tremaining: 7.68s\n",
      "84:\tlearn: 0.0076621\ttotal: 711ms\tremaining: 7.66s\n",
      "85:\tlearn: 0.0076549\ttotal: 716ms\tremaining: 7.61s\n",
      "86:\tlearn: 0.0076431\ttotal: 723ms\tremaining: 7.58s\n",
      "87:\tlearn: 0.0076161\ttotal: 729ms\tremaining: 7.56s\n",
      "88:\tlearn: 0.0076018\ttotal: 736ms\tremaining: 7.53s\n",
      "89:\tlearn: 0.0075469\ttotal: 743ms\tremaining: 7.51s\n",
      "90:\tlearn: 0.0075286\ttotal: 750ms\tremaining: 7.49s\n",
      "91:\tlearn: 0.0074664\ttotal: 756ms\tremaining: 7.46s\n",
      "92:\tlearn: 0.0074585\ttotal: 762ms\tremaining: 7.43s\n",
      "93:\tlearn: 0.0072753\ttotal: 769ms\tremaining: 7.41s\n",
      "94:\tlearn: 0.0072670\ttotal: 775ms\tremaining: 7.38s\n",
      "95:\tlearn: 0.0072341\ttotal: 782ms\tremaining: 7.36s\n",
      "96:\tlearn: 0.0070942\ttotal: 790ms\tremaining: 7.35s\n",
      "97:\tlearn: 0.0070818\ttotal: 796ms\tremaining: 7.33s\n",
      "98:\tlearn: 0.0069311\ttotal: 803ms\tremaining: 7.31s\n",
      "99:\tlearn: 0.0068978\ttotal: 809ms\tremaining: 7.28s\n",
      "100:\tlearn: 0.0068890\ttotal: 816ms\tremaining: 7.27s\n",
      "101:\tlearn: 0.0067990\ttotal: 825ms\tremaining: 7.27s\n",
      "102:\tlearn: 0.0067700\ttotal: 833ms\tremaining: 7.25s\n",
      "103:\tlearn: 0.0067306\ttotal: 840ms\tremaining: 7.24s\n",
      "104:\tlearn: 0.0066456\ttotal: 848ms\tremaining: 7.23s\n",
      "105:\tlearn: 0.0064894\ttotal: 854ms\tremaining: 7.2s\n",
      "106:\tlearn: 0.0063676\ttotal: 862ms\tremaining: 7.2s\n",
      "107:\tlearn: 0.0062563\ttotal: 869ms\tremaining: 7.17s\n",
      "108:\tlearn: 0.0062178\ttotal: 876ms\tremaining: 7.16s\n",
      "109:\tlearn: 0.0062178\ttotal: 878ms\tremaining: 7.1s\n",
      "110:\tlearn: 0.0060919\ttotal: 886ms\tremaining: 7.09s\n",
      "111:\tlearn: 0.0060804\ttotal: 893ms\tremaining: 7.08s\n",
      "112:\tlearn: 0.0059694\ttotal: 899ms\tremaining: 7.06s\n",
      "113:\tlearn: 0.0059047\ttotal: 907ms\tremaining: 7.04s\n",
      "114:\tlearn: 0.0058053\ttotal: 914ms\tremaining: 7.04s\n",
      "115:\tlearn: 0.0057490\ttotal: 922ms\tremaining: 7.03s\n",
      "116:\tlearn: 0.0056021\ttotal: 930ms\tremaining: 7.02s\n",
      "117:\tlearn: 0.0056021\ttotal: 934ms\tremaining: 6.98s\n",
      "118:\tlearn: 0.0055280\ttotal: 942ms\tremaining: 6.97s\n",
      "119:\tlearn: 0.0054602\ttotal: 956ms\tremaining: 7.01s\n",
      "120:\tlearn: 0.0053960\ttotal: 990ms\tremaining: 7.19s\n",
      "121:\tlearn: 0.0053746\ttotal: 1s\tremaining: 7.2s\n",
      "122:\tlearn: 0.0053578\ttotal: 1.02s\tremaining: 7.28s\n",
      "123:\tlearn: 0.0052414\ttotal: 1.03s\tremaining: 7.32s\n",
      "124:\tlearn: 0.0052350\ttotal: 1.04s\tremaining: 7.3s\n",
      "125:\tlearn: 0.0052043\ttotal: 1.05s\tremaining: 7.29s\n",
      "126:\tlearn: 0.0051914\ttotal: 1.06s\tremaining: 7.27s\n",
      "127:\tlearn: 0.0050926\ttotal: 1.06s\tremaining: 7.25s\n",
      "128:\tlearn: 0.0050823\ttotal: 1.07s\tremaining: 7.23s\n",
      "129:\tlearn: 0.0050118\ttotal: 1.08s\tremaining: 7.22s\n",
      "130:\tlearn: 0.0050118\ttotal: 1.08s\tremaining: 7.18s\n",
      "131:\tlearn: 0.0049794\ttotal: 1.09s\tremaining: 7.16s\n",
      "132:\tlearn: 0.0048803\ttotal: 1.1s\tremaining: 7.16s\n",
      "133:\tlearn: 0.0048683\ttotal: 1.1s\tremaining: 7.15s\n",
      "134:\tlearn: 0.0048611\ttotal: 1.11s\tremaining: 7.13s\n",
      "135:\tlearn: 0.0048532\ttotal: 1.12s\tremaining: 7.11s\n",
      "136:\tlearn: 0.0047959\ttotal: 1.13s\tremaining: 7.1s\n",
      "137:\tlearn: 0.0047877\ttotal: 1.14s\tremaining: 7.09s\n",
      "138:\tlearn: 0.0047877\ttotal: 1.14s\tremaining: 7.04s\n",
      "139:\tlearn: 0.0047877\ttotal: 1.14s\tremaining: 7s\n",
      "140:\tlearn: 0.0047442\ttotal: 1.15s\tremaining: 6.99s\n",
      "141:\tlearn: 0.0047064\ttotal: 1.16s\tremaining: 6.98s\n",
      "142:\tlearn: 0.0047064\ttotal: 1.16s\tremaining: 6.94s\n",
      "143:\tlearn: 0.0046858\ttotal: 1.17s\tremaining: 6.93s\n",
      "144:\tlearn: 0.0046730\ttotal: 1.17s\tremaining: 6.91s\n",
      "145:\tlearn: 0.0045729\ttotal: 1.18s\tremaining: 6.9s\n",
      "146:\tlearn: 0.0044589\ttotal: 1.19s\tremaining: 6.89s\n",
      "147:\tlearn: 0.0043269\ttotal: 1.2s\tremaining: 6.88s\n",
      "148:\tlearn: 0.0043269\ttotal: 1.2s\tremaining: 6.85s\n",
      "149:\tlearn: 0.0042248\ttotal: 1.21s\tremaining: 6.84s\n",
      "150:\tlearn: 0.0041818\ttotal: 1.22s\tremaining: 6.84s\n",
      "151:\tlearn: 0.0041761\ttotal: 1.23s\tremaining: 6.84s\n",
      "152:\tlearn: 0.0041585\ttotal: 1.23s\tremaining: 6.82s\n",
      "153:\tlearn: 0.0041516\ttotal: 1.24s\tremaining: 6.81s\n",
      "154:\tlearn: 0.0040314\ttotal: 1.25s\tremaining: 6.8s\n",
      "155:\tlearn: 0.0040078\ttotal: 1.25s\tremaining: 6.79s\n",
      "156:\tlearn: 0.0039390\ttotal: 1.26s\tremaining: 6.78s\n",
      "157:\tlearn: 0.0039373\ttotal: 1.27s\tremaining: 6.78s\n",
      "158:\tlearn: 0.0039373\ttotal: 1.27s\tremaining: 6.75s\n",
      "159:\tlearn: 0.0039273\ttotal: 1.28s\tremaining: 6.73s\n",
      "160:\tlearn: 0.0039273\ttotal: 1.28s\tremaining: 6.7s\n",
      "161:\tlearn: 0.0039106\ttotal: 1.29s\tremaining: 6.69s\n",
      "162:\tlearn: 0.0038783\ttotal: 1.3s\tremaining: 6.67s\n",
      "163:\tlearn: 0.0038783\ttotal: 1.3s\tremaining: 6.64s\n",
      "164:\tlearn: 0.0038436\ttotal: 1.31s\tremaining: 6.63s\n",
      "165:\tlearn: 0.0038436\ttotal: 1.32s\tremaining: 6.62s\n",
      "166:\tlearn: 0.0038098\ttotal: 1.32s\tremaining: 6.61s\n",
      "167:\tlearn: 0.0038032\ttotal: 1.33s\tremaining: 6.59s\n",
      "168:\tlearn: 0.0037904\ttotal: 1.34s\tremaining: 6.57s\n",
      "169:\tlearn: 0.0037904\ttotal: 1.34s\tremaining: 6.55s\n",
      "170:\tlearn: 0.0037782\ttotal: 1.35s\tremaining: 6.54s\n",
      "171:\tlearn: 0.0037736\ttotal: 1.35s\tremaining: 6.53s\n",
      "172:\tlearn: 0.0037736\ttotal: 1.36s\tremaining: 6.5s\n",
      "173:\tlearn: 0.0037512\ttotal: 1.37s\tremaining: 6.49s\n",
      "174:\tlearn: 0.0036977\ttotal: 1.37s\tremaining: 6.48s\n",
      "175:\tlearn: 0.0036977\ttotal: 1.38s\tremaining: 6.47s\n",
      "176:\tlearn: 0.0036863\ttotal: 1.39s\tremaining: 6.46s\n",
      "177:\tlearn: 0.0036416\ttotal: 1.4s\tremaining: 6.45s\n",
      "178:\tlearn: 0.0036416\ttotal: 1.4s\tremaining: 6.42s\n",
      "179:\tlearn: 0.0036416\ttotal: 1.41s\tremaining: 6.41s\n",
      "180:\tlearn: 0.0036242\ttotal: 1.41s\tremaining: 6.4s\n",
      "181:\tlearn: 0.0036144\ttotal: 1.42s\tremaining: 6.39s\n",
      "182:\tlearn: 0.0036144\ttotal: 1.43s\tremaining: 6.37s\n",
      "183:\tlearn: 0.0035889\ttotal: 1.43s\tremaining: 6.36s\n",
      "184:\tlearn: 0.0035045\ttotal: 1.44s\tremaining: 6.35s\n",
      "185:\tlearn: 0.0035045\ttotal: 1.44s\tremaining: 6.32s\n",
      "186:\tlearn: 0.0034799\ttotal: 1.45s\tremaining: 6.31s\n",
      "187:\tlearn: 0.0034799\ttotal: 1.46s\tremaining: 6.29s\n",
      "188:\tlearn: 0.0034691\ttotal: 1.47s\tremaining: 6.29s\n",
      "189:\tlearn: 0.0034691\ttotal: 1.47s\tremaining: 6.27s\n",
      "190:\tlearn: 0.0034576\ttotal: 1.48s\tremaining: 6.26s\n",
      "191:\tlearn: 0.0034497\ttotal: 1.49s\tremaining: 6.25s\n",
      "192:\tlearn: 0.0034378\ttotal: 1.49s\tremaining: 6.25s\n",
      "193:\tlearn: 0.0034259\ttotal: 1.5s\tremaining: 6.24s\n",
      "194:\tlearn: 0.0033664\ttotal: 1.51s\tremaining: 6.22s\n",
      "195:\tlearn: 0.0033594\ttotal: 1.52s\tremaining: 6.22s\n",
      "196:\tlearn: 0.0033594\ttotal: 1.52s\tremaining: 6.21s\n",
      "197:\tlearn: 0.0033411\ttotal: 1.53s\tremaining: 6.2s\n",
      "198:\tlearn: 0.0033410\ttotal: 1.56s\tremaining: 6.27s\n",
      "199:\tlearn: 0.0033341\ttotal: 1.57s\tremaining: 6.27s\n",
      "200:\tlearn: 0.0033251\ttotal: 1.59s\tremaining: 6.31s\n",
      "201:\tlearn: 0.0033251\ttotal: 1.59s\tremaining: 6.3s\n",
      "202:\tlearn: 0.0032940\ttotal: 1.6s\tremaining: 6.3s\n",
      "203:\tlearn: 0.0032867\ttotal: 1.61s\tremaining: 6.29s\n",
      "204:\tlearn: 0.0032762\ttotal: 1.62s\tremaining: 6.28s\n",
      "205:\tlearn: 0.0032661\ttotal: 1.63s\tremaining: 6.27s\n",
      "206:\tlearn: 0.0032535\ttotal: 1.63s\tremaining: 6.26s\n",
      "207:\tlearn: 0.0032362\ttotal: 1.64s\tremaining: 6.25s\n",
      "208:\tlearn: 0.0031870\ttotal: 1.65s\tremaining: 6.24s\n",
      "209:\tlearn: 0.0031493\ttotal: 1.66s\tremaining: 6.23s\n",
      "210:\tlearn: 0.0031350\ttotal: 1.66s\tremaining: 6.22s\n",
      "211:\tlearn: 0.0031257\ttotal: 1.67s\tremaining: 6.21s\n",
      "212:\tlearn: 0.0031016\ttotal: 1.68s\tremaining: 6.2s\n",
      "213:\tlearn: 0.0031016\ttotal: 1.68s\tremaining: 6.17s\n",
      "214:\tlearn: 0.0030994\ttotal: 1.69s\tremaining: 6.16s\n",
      "215:\tlearn: 0.0030994\ttotal: 1.69s\tremaining: 6.14s\n",
      "216:\tlearn: 0.0030969\ttotal: 1.7s\tremaining: 6.13s\n",
      "217:\tlearn: 0.0030858\ttotal: 1.7s\tremaining: 6.12s\n",
      "218:\tlearn: 0.0030675\ttotal: 1.71s\tremaining: 6.11s\n",
      "219:\tlearn: 0.0030162\ttotal: 1.72s\tremaining: 6.1s\n",
      "220:\tlearn: 0.0030131\ttotal: 1.73s\tremaining: 6.09s\n",
      "221:\tlearn: 0.0030097\ttotal: 1.73s\tremaining: 6.08s\n",
      "222:\tlearn: 0.0029898\ttotal: 1.74s\tremaining: 6.07s\n",
      "223:\tlearn: 0.0029898\ttotal: 1.75s\tremaining: 6.05s\n",
      "224:\tlearn: 0.0029827\ttotal: 1.75s\tremaining: 6.04s\n",
      "225:\tlearn: 0.0029476\ttotal: 1.76s\tremaining: 6.03s\n",
      "226:\tlearn: 0.0029444\ttotal: 1.77s\tremaining: 6.02s\n",
      "227:\tlearn: 0.0029388\ttotal: 1.77s\tremaining: 6.01s\n",
      "228:\tlearn: 0.0029388\ttotal: 1.78s\tremaining: 6s\n",
      "229:\tlearn: 0.0028723\ttotal: 1.79s\tremaining: 5.99s\n",
      "230:\tlearn: 0.0028107\ttotal: 1.8s\tremaining: 5.98s\n",
      "231:\tlearn: 0.0028083\ttotal: 1.8s\tremaining: 5.96s\n",
      "232:\tlearn: 0.0028083\ttotal: 1.81s\tremaining: 5.95s\n",
      "233:\tlearn: 0.0028082\ttotal: 1.81s\tremaining: 5.94s\n",
      "234:\tlearn: 0.0028029\ttotal: 1.82s\tremaining: 5.93s\n",
      "235:\tlearn: 0.0028029\ttotal: 1.82s\tremaining: 5.9s\n",
      "236:\tlearn: 0.0028029\ttotal: 1.83s\tremaining: 5.88s\n",
      "237:\tlearn: 0.0028029\ttotal: 1.83s\tremaining: 5.87s\n",
      "238:\tlearn: 0.0027830\ttotal: 1.84s\tremaining: 5.86s\n",
      "239:\tlearn: 0.0027716\ttotal: 1.85s\tremaining: 5.85s\n",
      "240:\tlearn: 0.0027716\ttotal: 1.85s\tremaining: 5.83s\n",
      "241:\tlearn: 0.0027588\ttotal: 1.86s\tremaining: 5.82s\n",
      "242:\tlearn: 0.0027438\ttotal: 1.86s\tremaining: 5.81s\n",
      "243:\tlearn: 0.0027270\ttotal: 1.87s\tremaining: 5.8s\n",
      "244:\tlearn: 0.0027229\ttotal: 1.88s\tremaining: 5.79s\n",
      "245:\tlearn: 0.0027229\ttotal: 1.88s\tremaining: 5.78s\n",
      "246:\tlearn: 0.0027215\ttotal: 1.89s\tremaining: 5.77s\n",
      "247:\tlearn: 0.0027182\ttotal: 1.9s\tremaining: 5.75s\n",
      "248:\tlearn: 0.0027098\ttotal: 1.9s\tremaining: 5.74s\n",
      "249:\tlearn: 0.0027024\ttotal: 1.91s\tremaining: 5.73s\n",
      "250:\tlearn: 0.0026860\ttotal: 1.92s\tremaining: 5.72s\n",
      "251:\tlearn: 0.0026860\ttotal: 1.92s\tremaining: 5.7s\n",
      "252:\tlearn: 0.0026860\ttotal: 1.92s\tremaining: 5.68s\n",
      "253:\tlearn: 0.0026793\ttotal: 1.93s\tremaining: 5.67s\n",
      "254:\tlearn: 0.0026759\ttotal: 1.94s\tremaining: 5.66s\n",
      "255:\tlearn: 0.0026759\ttotal: 1.94s\tremaining: 5.65s\n",
      "256:\tlearn: 0.0026724\ttotal: 1.95s\tremaining: 5.64s\n",
      "257:\tlearn: 0.0026508\ttotal: 1.96s\tremaining: 5.63s\n",
      "258:\tlearn: 0.0026460\ttotal: 1.97s\tremaining: 5.62s\n",
      "259:\tlearn: 0.0026448\ttotal: 1.97s\tremaining: 5.61s\n",
      "260:\tlearn: 0.0026245\ttotal: 1.98s\tremaining: 5.61s\n",
      "261:\tlearn: 0.0026245\ttotal: 1.99s\tremaining: 5.61s\n",
      "262:\tlearn: 0.0025886\ttotal: 2s\tremaining: 5.6s\n",
      "263:\tlearn: 0.0025728\ttotal: 2.01s\tremaining: 5.6s\n",
      "264:\tlearn: 0.0025517\ttotal: 2.01s\tremaining: 5.59s\n",
      "265:\tlearn: 0.0025517\ttotal: 2.02s\tremaining: 5.57s\n",
      "266:\tlearn: 0.0025381\ttotal: 2.02s\tremaining: 5.56s\n",
      "267:\tlearn: 0.0025304\ttotal: 2.03s\tremaining: 5.55s\n",
      "268:\tlearn: 0.0025095\ttotal: 2.04s\tremaining: 5.54s\n",
      "269:\tlearn: 0.0024966\ttotal: 2.05s\tremaining: 5.54s\n",
      "270:\tlearn: 0.0024857\ttotal: 2.05s\tremaining: 5.53s\n",
      "271:\tlearn: 0.0024857\ttotal: 2.06s\tremaining: 5.51s\n",
      "272:\tlearn: 0.0024839\ttotal: 2.06s\tremaining: 5.5s\n",
      "273:\tlearn: 0.0024839\ttotal: 2.07s\tremaining: 5.49s\n",
      "274:\tlearn: 0.0024839\ttotal: 2.08s\tremaining: 5.48s\n",
      "275:\tlearn: 0.0024437\ttotal: 2.08s\tremaining: 5.47s\n",
      "276:\tlearn: 0.0024423\ttotal: 2.09s\tremaining: 5.46s\n",
      "277:\tlearn: 0.0024357\ttotal: 2.1s\tremaining: 5.46s\n",
      "278:\tlearn: 0.0024248\ttotal: 2.11s\tremaining: 5.45s\n",
      "279:\tlearn: 0.0024078\ttotal: 2.11s\tremaining: 5.44s\n",
      "280:\tlearn: 0.0024041\ttotal: 2.12s\tremaining: 5.43s\n",
      "281:\tlearn: 0.0024041\ttotal: 2.12s\tremaining: 5.41s\n",
      "282:\tlearn: 0.0023601\ttotal: 2.13s\tremaining: 5.4s\n",
      "283:\tlearn: 0.0023601\ttotal: 2.14s\tremaining: 5.39s\n",
      "284:\tlearn: 0.0023601\ttotal: 2.14s\tremaining: 5.37s\n",
      "285:\tlearn: 0.0023459\ttotal: 2.15s\tremaining: 5.37s\n",
      "286:\tlearn: 0.0023459\ttotal: 2.16s\tremaining: 5.36s\n",
      "287:\tlearn: 0.0023397\ttotal: 2.16s\tremaining: 5.35s\n",
      "288:\tlearn: 0.0023298\ttotal: 2.17s\tremaining: 5.34s\n",
      "289:\tlearn: 0.0023241\ttotal: 2.18s\tremaining: 5.33s\n",
      "290:\tlearn: 0.0023181\ttotal: 2.18s\tremaining: 5.32s\n",
      "291:\tlearn: 0.0023181\ttotal: 2.19s\tremaining: 5.31s\n",
      "292:\tlearn: 0.0023180\ttotal: 2.2s\tremaining: 5.31s\n",
      "293:\tlearn: 0.0023169\ttotal: 2.21s\tremaining: 5.3s\n",
      "294:\tlearn: 0.0023100\ttotal: 2.21s\tremaining: 5.29s\n",
      "295:\tlearn: 0.0023100\ttotal: 2.22s\tremaining: 5.28s\n",
      "296:\tlearn: 0.0023017\ttotal: 2.23s\tremaining: 5.27s\n",
      "297:\tlearn: 0.0022935\ttotal: 2.23s\tremaining: 5.26s\n",
      "298:\tlearn: 0.0022545\ttotal: 2.24s\tremaining: 5.26s\n",
      "299:\tlearn: 0.0022457\ttotal: 2.25s\tremaining: 5.25s\n",
      "300:\tlearn: 0.0022256\ttotal: 2.26s\tremaining: 5.24s\n",
      "301:\tlearn: 0.0022231\ttotal: 2.27s\tremaining: 5.24s\n",
      "302:\tlearn: 0.0021798\ttotal: 2.27s\tremaining: 5.23s\n",
      "303:\tlearn: 0.0021798\ttotal: 2.28s\tremaining: 5.22s\n",
      "304:\tlearn: 0.0021798\ttotal: 2.29s\tremaining: 5.21s\n",
      "305:\tlearn: 0.0021653\ttotal: 2.29s\tremaining: 5.2s\n",
      "306:\tlearn: 0.0021606\ttotal: 2.3s\tremaining: 5.2s\n",
      "307:\tlearn: 0.0021579\ttotal: 2.31s\tremaining: 5.19s\n",
      "308:\tlearn: 0.0021459\ttotal: 2.31s\tremaining: 5.18s\n",
      "309:\tlearn: 0.0021346\ttotal: 2.32s\tremaining: 5.17s\n",
      "310:\tlearn: 0.0021346\ttotal: 2.33s\tremaining: 5.17s\n",
      "311:\tlearn: 0.0021346\ttotal: 2.33s\tremaining: 5.15s\n",
      "312:\tlearn: 0.0021346\ttotal: 2.34s\tremaining: 5.14s\n",
      "313:\tlearn: 0.0021178\ttotal: 2.35s\tremaining: 5.13s\n",
      "314:\tlearn: 0.0021178\ttotal: 2.35s\tremaining: 5.11s\n",
      "315:\tlearn: 0.0021178\ttotal: 2.36s\tremaining: 5.1s\n",
      "316:\tlearn: 0.0021056\ttotal: 2.36s\tremaining: 5.09s\n",
      "317:\tlearn: 0.0021056\ttotal: 2.37s\tremaining: 5.09s\n",
      "318:\tlearn: 0.0020952\ttotal: 2.38s\tremaining: 5.08s\n",
      "319:\tlearn: 0.0020846\ttotal: 2.39s\tremaining: 5.07s\n",
      "320:\tlearn: 0.0020802\ttotal: 2.39s\tremaining: 5.07s\n",
      "321:\tlearn: 0.0020717\ttotal: 2.4s\tremaining: 5.06s\n",
      "322:\tlearn: 0.0020717\ttotal: 2.4s\tremaining: 5.04s\n",
      "323:\tlearn: 0.0020505\ttotal: 2.41s\tremaining: 5.03s\n",
      "324:\tlearn: 0.0020453\ttotal: 2.42s\tremaining: 5.03s\n",
      "325:\tlearn: 0.0020370\ttotal: 2.43s\tremaining: 5.02s\n",
      "326:\tlearn: 0.0020370\ttotal: 2.43s\tremaining: 5.01s\n",
      "327:\tlearn: 0.0020349\ttotal: 2.44s\tremaining: 5s\n",
      "328:\tlearn: 0.0020349\ttotal: 2.45s\tremaining: 4.99s\n",
      "329:\tlearn: 0.0020349\ttotal: 2.45s\tremaining: 4.97s\n",
      "330:\tlearn: 0.0020349\ttotal: 2.46s\tremaining: 4.96s\n",
      "331:\tlearn: 0.0020290\ttotal: 2.46s\tremaining: 4.96s\n",
      "332:\tlearn: 0.0020290\ttotal: 2.46s\tremaining: 4.94s\n",
      "333:\tlearn: 0.0020290\ttotal: 2.47s\tremaining: 4.93s\n",
      "334:\tlearn: 0.0020290\ttotal: 2.48s\tremaining: 4.92s\n",
      "335:\tlearn: 0.0020290\ttotal: 2.48s\tremaining: 4.9s\n",
      "336:\tlearn: 0.0020159\ttotal: 2.49s\tremaining: 4.89s\n",
      "337:\tlearn: 0.0020068\ttotal: 2.49s\tremaining: 4.88s\n",
      "338:\tlearn: 0.0019918\ttotal: 2.5s\tremaining: 4.88s\n",
      "339:\tlearn: 0.0019918\ttotal: 2.51s\tremaining: 4.87s\n",
      "340:\tlearn: 0.0019910\ttotal: 2.52s\tremaining: 4.86s\n",
      "341:\tlearn: 0.0019910\ttotal: 2.52s\tremaining: 4.84s\n",
      "342:\tlearn: 0.0019432\ttotal: 2.53s\tremaining: 4.84s\n",
      "343:\tlearn: 0.0019269\ttotal: 2.53s\tremaining: 4.83s\n",
      "344:\tlearn: 0.0019269\ttotal: 2.54s\tremaining: 4.82s\n",
      "345:\tlearn: 0.0019269\ttotal: 2.54s\tremaining: 4.81s\n",
      "346:\tlearn: 0.0019048\ttotal: 2.55s\tremaining: 4.8s\n",
      "347:\tlearn: 0.0019048\ttotal: 2.56s\tremaining: 4.79s\n",
      "348:\tlearn: 0.0019048\ttotal: 2.56s\tremaining: 4.78s\n",
      "349:\tlearn: 0.0018977\ttotal: 2.57s\tremaining: 4.77s\n",
      "350:\tlearn: 0.0018936\ttotal: 2.58s\tremaining: 4.76s\n",
      "351:\tlearn: 0.0018866\ttotal: 2.58s\tremaining: 4.76s\n",
      "352:\tlearn: 0.0018774\ttotal: 2.59s\tremaining: 4.75s\n",
      "353:\tlearn: 0.0018714\ttotal: 2.6s\tremaining: 4.74s\n",
      "354:\tlearn: 0.0018645\ttotal: 2.61s\tremaining: 4.74s\n",
      "355:\tlearn: 0.0018645\ttotal: 2.61s\tremaining: 4.73s\n",
      "356:\tlearn: 0.0018579\ttotal: 2.62s\tremaining: 4.72s\n",
      "357:\tlearn: 0.0018579\ttotal: 2.63s\tremaining: 4.71s\n",
      "358:\tlearn: 0.0018579\ttotal: 2.63s\tremaining: 4.71s\n",
      "359:\tlearn: 0.0018350\ttotal: 2.64s\tremaining: 4.7s\n",
      "360:\tlearn: 0.0018223\ttotal: 2.65s\tremaining: 4.69s\n",
      "361:\tlearn: 0.0018223\ttotal: 2.66s\tremaining: 4.68s\n",
      "362:\tlearn: 0.0018223\ttotal: 2.66s\tremaining: 4.67s\n",
      "363:\tlearn: 0.0017826\ttotal: 2.67s\tremaining: 4.66s\n",
      "364:\tlearn: 0.0017765\ttotal: 2.67s\tremaining: 4.65s\n",
      "365:\tlearn: 0.0017765\ttotal: 2.68s\tremaining: 4.64s\n",
      "366:\tlearn: 0.0017706\ttotal: 2.69s\tremaining: 4.64s\n",
      "367:\tlearn: 0.0017628\ttotal: 2.7s\tremaining: 4.63s\n",
      "368:\tlearn: 0.0017571\ttotal: 2.71s\tremaining: 4.63s\n",
      "369:\tlearn: 0.0017571\ttotal: 2.71s\tremaining: 4.61s\n",
      "370:\tlearn: 0.0017571\ttotal: 2.72s\tremaining: 4.61s\n",
      "371:\tlearn: 0.0017570\ttotal: 2.72s\tremaining: 4.6s\n",
      "372:\tlearn: 0.0017570\ttotal: 2.73s\tremaining: 4.59s\n",
      "373:\tlearn: 0.0017570\ttotal: 2.74s\tremaining: 4.58s\n",
      "374:\tlearn: 0.0017570\ttotal: 2.74s\tremaining: 4.57s\n",
      "375:\tlearn: 0.0017466\ttotal: 2.75s\tremaining: 4.56s\n",
      "376:\tlearn: 0.0017466\ttotal: 2.75s\tremaining: 4.55s\n",
      "377:\tlearn: 0.0017466\ttotal: 2.76s\tremaining: 4.54s\n",
      "378:\tlearn: 0.0017466\ttotal: 2.77s\tremaining: 4.53s\n",
      "379:\tlearn: 0.0017466\ttotal: 2.77s\tremaining: 4.53s\n",
      "380:\tlearn: 0.0017404\ttotal: 2.78s\tremaining: 4.52s\n",
      "381:\tlearn: 0.0017404\ttotal: 2.79s\tremaining: 4.51s\n",
      "382:\tlearn: 0.0017404\ttotal: 2.79s\tremaining: 4.5s\n",
      "383:\tlearn: 0.0017404\ttotal: 2.8s\tremaining: 4.49s\n",
      "384:\tlearn: 0.0017404\ttotal: 2.81s\tremaining: 4.48s\n",
      "385:\tlearn: 0.0017404\ttotal: 2.81s\tremaining: 4.47s\n",
      "386:\tlearn: 0.0017377\ttotal: 2.82s\tremaining: 4.46s\n",
      "387:\tlearn: 0.0017274\ttotal: 2.83s\tremaining: 4.46s\n",
      "388:\tlearn: 0.0017198\ttotal: 2.83s\tremaining: 4.45s\n",
      "389:\tlearn: 0.0016875\ttotal: 2.84s\tremaining: 4.44s\n",
      "390:\tlearn: 0.0016875\ttotal: 2.85s\tremaining: 4.43s\n",
      "391:\tlearn: 0.0016875\ttotal: 2.85s\tremaining: 4.43s\n",
      "392:\tlearn: 0.0016864\ttotal: 2.86s\tremaining: 4.42s\n",
      "393:\tlearn: 0.0016430\ttotal: 2.87s\tremaining: 4.41s\n",
      "394:\tlearn: 0.0016381\ttotal: 2.88s\tremaining: 4.41s\n",
      "395:\tlearn: 0.0016381\ttotal: 2.88s\tremaining: 4.4s\n",
      "396:\tlearn: 0.0016308\ttotal: 2.89s\tremaining: 4.39s\n",
      "397:\tlearn: 0.0016308\ttotal: 2.89s\tremaining: 4.38s\n",
      "398:\tlearn: 0.0016308\ttotal: 2.9s\tremaining: 4.37s\n",
      "399:\tlearn: 0.0016308\ttotal: 2.91s\tremaining: 4.36s\n",
      "400:\tlearn: 0.0016212\ttotal: 2.91s\tremaining: 4.35s\n",
      "401:\tlearn: 0.0016212\ttotal: 2.92s\tremaining: 4.35s\n",
      "402:\tlearn: 0.0016212\ttotal: 2.92s\tremaining: 4.33s\n",
      "403:\tlearn: 0.0016212\ttotal: 2.93s\tremaining: 4.32s\n",
      "404:\tlearn: 0.0016212\ttotal: 2.94s\tremaining: 4.32s\n",
      "405:\tlearn: 0.0016212\ttotal: 2.94s\tremaining: 4.31s\n",
      "406:\tlearn: 0.0016160\ttotal: 2.95s\tremaining: 4.3s\n",
      "407:\tlearn: 0.0016160\ttotal: 2.96s\tremaining: 4.29s\n",
      "408:\tlearn: 0.0016160\ttotal: 2.96s\tremaining: 4.28s\n",
      "409:\tlearn: 0.0016112\ttotal: 2.97s\tremaining: 4.28s\n",
      "410:\tlearn: 0.0016112\ttotal: 2.98s\tremaining: 4.27s\n",
      "411:\tlearn: 0.0015910\ttotal: 2.99s\tremaining: 4.26s\n",
      "412:\tlearn: 0.0015910\ttotal: 2.99s\tremaining: 4.26s\n",
      "413:\tlearn: 0.0015910\ttotal: 3s\tremaining: 4.25s\n",
      "414:\tlearn: 0.0015864\ttotal: 3.01s\tremaining: 4.24s\n",
      "415:\tlearn: 0.0015864\ttotal: 3.02s\tremaining: 4.23s\n",
      "416:\tlearn: 0.0015806\ttotal: 3.02s\tremaining: 4.22s\n",
      "417:\tlearn: 0.0015806\ttotal: 3.02s\tremaining: 4.21s\n",
      "418:\tlearn: 0.0015806\ttotal: 3.03s\tremaining: 4.21s\n",
      "419:\tlearn: 0.0015806\ttotal: 3.04s\tremaining: 4.2s\n",
      "420:\tlearn: 0.0015805\ttotal: 3.05s\tremaining: 4.19s\n",
      "421:\tlearn: 0.0015805\ttotal: 3.05s\tremaining: 4.18s\n",
      "422:\tlearn: 0.0015805\ttotal: 3.06s\tremaining: 4.17s\n",
      "423:\tlearn: 0.0015805\ttotal: 3.06s\tremaining: 4.16s\n",
      "424:\tlearn: 0.0015714\ttotal: 3.07s\tremaining: 4.15s\n",
      "425:\tlearn: 0.0015714\ttotal: 3.07s\tremaining: 4.14s\n",
      "426:\tlearn: 0.0015714\ttotal: 3.08s\tremaining: 4.14s\n",
      "427:\tlearn: 0.0015668\ttotal: 3.09s\tremaining: 4.13s\n",
      "428:\tlearn: 0.0015668\ttotal: 3.1s\tremaining: 4.12s\n",
      "429:\tlearn: 0.0015668\ttotal: 3.1s\tremaining: 4.11s\n",
      "430:\tlearn: 0.0015668\ttotal: 3.11s\tremaining: 4.1s\n",
      "431:\tlearn: 0.0015668\ttotal: 3.11s\tremaining: 4.09s\n",
      "432:\tlearn: 0.0015668\ttotal: 3.12s\tremaining: 4.09s\n",
      "433:\tlearn: 0.0015668\ttotal: 3.13s\tremaining: 4.08s\n",
      "434:\tlearn: 0.0015668\ttotal: 3.13s\tremaining: 4.07s\n",
      "435:\tlearn: 0.0015645\ttotal: 3.14s\tremaining: 4.06s\n",
      "436:\tlearn: 0.0015645\ttotal: 3.15s\tremaining: 4.06s\n",
      "437:\tlearn: 0.0015645\ttotal: 3.15s\tremaining: 4.05s\n",
      "438:\tlearn: 0.0015643\ttotal: 3.16s\tremaining: 4.04s\n",
      "439:\tlearn: 0.0015603\ttotal: 3.17s\tremaining: 4.03s\n",
      "440:\tlearn: 0.0015603\ttotal: 3.17s\tremaining: 4.02s\n",
      "441:\tlearn: 0.0015603\ttotal: 3.18s\tremaining: 4.02s\n",
      "442:\tlearn: 0.0015603\ttotal: 3.19s\tremaining: 4.01s\n",
      "443:\tlearn: 0.0015603\ttotal: 3.2s\tremaining: 4.01s\n",
      "444:\tlearn: 0.0015603\ttotal: 3.21s\tremaining: 4s\n",
      "445:\tlearn: 0.0015571\ttotal: 3.22s\tremaining: 3.99s\n",
      "446:\tlearn: 0.0015571\ttotal: 3.22s\tremaining: 3.99s\n",
      "447:\tlearn: 0.0015571\ttotal: 3.23s\tremaining: 3.98s\n",
      "448:\tlearn: 0.0015571\ttotal: 3.24s\tremaining: 3.97s\n",
      "449:\tlearn: 0.0015571\ttotal: 3.25s\tremaining: 3.97s\n",
      "450:\tlearn: 0.0015569\ttotal: 3.25s\tremaining: 3.96s\n",
      "451:\tlearn: 0.0015569\ttotal: 3.26s\tremaining: 3.95s\n",
      "452:\tlearn: 0.0015545\ttotal: 3.27s\tremaining: 3.95s\n",
      "453:\tlearn: 0.0015545\ttotal: 3.27s\tremaining: 3.94s\n",
      "454:\tlearn: 0.0015545\ttotal: 3.28s\tremaining: 3.93s\n",
      "455:\tlearn: 0.0015545\ttotal: 3.29s\tremaining: 3.93s\n",
      "456:\tlearn: 0.0015545\ttotal: 3.3s\tremaining: 3.92s\n",
      "457:\tlearn: 0.0015453\ttotal: 3.31s\tremaining: 3.91s\n",
      "458:\tlearn: 0.0015453\ttotal: 3.31s\tremaining: 3.9s\n",
      "459:\tlearn: 0.0015422\ttotal: 3.32s\tremaining: 3.9s\n",
      "460:\tlearn: 0.0015422\ttotal: 3.33s\tremaining: 3.89s\n",
      "461:\tlearn: 0.0015351\ttotal: 3.34s\tremaining: 3.89s\n",
      "462:\tlearn: 0.0015351\ttotal: 3.35s\tremaining: 3.88s\n",
      "463:\tlearn: 0.0015351\ttotal: 3.35s\tremaining: 3.87s\n",
      "464:\tlearn: 0.0015351\ttotal: 3.36s\tremaining: 3.86s\n",
      "465:\tlearn: 0.0015322\ttotal: 3.37s\tremaining: 3.86s\n",
      "466:\tlearn: 0.0015321\ttotal: 3.37s\tremaining: 3.85s\n",
      "467:\tlearn: 0.0015321\ttotal: 3.38s\tremaining: 3.84s\n",
      "468:\tlearn: 0.0015321\ttotal: 3.38s\tremaining: 3.83s\n",
      "469:\tlearn: 0.0015278\ttotal: 3.39s\tremaining: 3.82s\n",
      "470:\tlearn: 0.0015278\ttotal: 3.4s\tremaining: 3.82s\n",
      "471:\tlearn: 0.0015278\ttotal: 3.4s\tremaining: 3.81s\n",
      "472:\tlearn: 0.0015278\ttotal: 3.41s\tremaining: 3.8s\n",
      "473:\tlearn: 0.0015278\ttotal: 3.42s\tremaining: 3.79s\n",
      "474:\tlearn: 0.0015278\ttotal: 3.43s\tremaining: 3.79s\n",
      "475:\tlearn: 0.0015278\ttotal: 3.43s\tremaining: 3.78s\n",
      "476:\tlearn: 0.0015278\ttotal: 3.44s\tremaining: 3.77s\n",
      "477:\tlearn: 0.0015278\ttotal: 3.45s\tremaining: 3.77s\n",
      "478:\tlearn: 0.0015229\ttotal: 3.46s\tremaining: 3.76s\n",
      "479:\tlearn: 0.0015229\ttotal: 3.47s\tremaining: 3.75s\n",
      "480:\tlearn: 0.0015229\ttotal: 3.47s\tremaining: 3.75s\n",
      "481:\tlearn: 0.0015229\ttotal: 3.48s\tremaining: 3.74s\n",
      "482:\tlearn: 0.0015229\ttotal: 3.49s\tremaining: 3.73s\n",
      "483:\tlearn: 0.0015229\ttotal: 3.49s\tremaining: 3.72s\n",
      "484:\tlearn: 0.0015229\ttotal: 3.5s\tremaining: 3.72s\n",
      "485:\tlearn: 0.0015229\ttotal: 3.51s\tremaining: 3.71s\n",
      "486:\tlearn: 0.0015229\ttotal: 3.51s\tremaining: 3.7s\n",
      "487:\tlearn: 0.0015229\ttotal: 3.52s\tremaining: 3.69s\n",
      "488:\tlearn: 0.0015187\ttotal: 3.53s\tremaining: 3.69s\n",
      "489:\tlearn: 0.0015187\ttotal: 3.54s\tremaining: 3.68s\n",
      "490:\tlearn: 0.0015187\ttotal: 3.54s\tremaining: 3.67s\n",
      "491:\tlearn: 0.0015187\ttotal: 3.55s\tremaining: 3.67s\n",
      "492:\tlearn: 0.0015167\ttotal: 3.56s\tremaining: 3.66s\n",
      "493:\tlearn: 0.0015167\ttotal: 3.56s\tremaining: 3.65s\n",
      "494:\tlearn: 0.0015167\ttotal: 3.57s\tremaining: 3.64s\n",
      "495:\tlearn: 0.0015167\ttotal: 3.58s\tremaining: 3.64s\n",
      "496:\tlearn: 0.0015167\ttotal: 3.58s\tremaining: 3.63s\n",
      "497:\tlearn: 0.0015153\ttotal: 3.59s\tremaining: 3.62s\n",
      "498:\tlearn: 0.0015153\ttotal: 3.6s\tremaining: 3.61s\n",
      "499:\tlearn: 0.0015153\ttotal: 3.61s\tremaining: 3.61s\n",
      "500:\tlearn: 0.0015153\ttotal: 3.61s\tremaining: 3.6s\n",
      "501:\tlearn: 0.0015153\ttotal: 3.62s\tremaining: 3.59s\n",
      "502:\tlearn: 0.0015153\ttotal: 3.63s\tremaining: 3.58s\n",
      "503:\tlearn: 0.0015152\ttotal: 3.64s\tremaining: 3.58s\n",
      "504:\tlearn: 0.0015125\ttotal: 3.65s\tremaining: 3.57s\n",
      "505:\tlearn: 0.0015125\ttotal: 3.65s\tremaining: 3.56s\n",
      "506:\tlearn: 0.0015125\ttotal: 3.66s\tremaining: 3.56s\n",
      "507:\tlearn: 0.0015100\ttotal: 3.66s\tremaining: 3.55s\n",
      "508:\tlearn: 0.0015100\ttotal: 3.67s\tremaining: 3.54s\n",
      "509:\tlearn: 0.0015100\ttotal: 3.68s\tremaining: 3.53s\n",
      "510:\tlearn: 0.0015099\ttotal: 3.68s\tremaining: 3.52s\n",
      "511:\tlearn: 0.0015099\ttotal: 3.69s\tremaining: 3.52s\n",
      "512:\tlearn: 0.0015078\ttotal: 3.7s\tremaining: 3.51s\n",
      "513:\tlearn: 0.0015057\ttotal: 3.71s\tremaining: 3.51s\n",
      "514:\tlearn: 0.0015057\ttotal: 3.72s\tremaining: 3.5s\n",
      "515:\tlearn: 0.0015057\ttotal: 3.73s\tremaining: 3.5s\n",
      "516:\tlearn: 0.0015044\ttotal: 3.74s\tremaining: 3.49s\n",
      "517:\tlearn: 0.0015044\ttotal: 3.74s\tremaining: 3.48s\n",
      "518:\tlearn: 0.0015044\ttotal: 3.75s\tremaining: 3.48s\n",
      "519:\tlearn: 0.0014970\ttotal: 3.76s\tremaining: 3.47s\n",
      "520:\tlearn: 0.0014970\ttotal: 3.76s\tremaining: 3.46s\n",
      "521:\tlearn: 0.0014970\ttotal: 3.77s\tremaining: 3.45s\n",
      "522:\tlearn: 0.0014970\ttotal: 3.78s\tremaining: 3.45s\n",
      "523:\tlearn: 0.0014970\ttotal: 3.79s\tremaining: 3.44s\n",
      "524:\tlearn: 0.0014970\ttotal: 3.79s\tremaining: 3.43s\n",
      "525:\tlearn: 0.0014970\ttotal: 3.8s\tremaining: 3.42s\n",
      "526:\tlearn: 0.0014970\ttotal: 3.81s\tremaining: 3.42s\n",
      "527:\tlearn: 0.0014970\ttotal: 3.81s\tremaining: 3.41s\n",
      "528:\tlearn: 0.0014962\ttotal: 3.82s\tremaining: 3.4s\n",
      "529:\tlearn: 0.0014962\ttotal: 3.83s\tremaining: 3.4s\n",
      "530:\tlearn: 0.0014962\ttotal: 3.84s\tremaining: 3.39s\n",
      "531:\tlearn: 0.0014962\ttotal: 3.84s\tremaining: 3.38s\n",
      "532:\tlearn: 0.0014771\ttotal: 3.85s\tremaining: 3.37s\n",
      "533:\tlearn: 0.0014771\ttotal: 3.86s\tremaining: 3.37s\n",
      "534:\tlearn: 0.0014771\ttotal: 3.86s\tremaining: 3.36s\n",
      "535:\tlearn: 0.0014771\ttotal: 3.87s\tremaining: 3.35s\n",
      "536:\tlearn: 0.0014771\ttotal: 3.88s\tremaining: 3.34s\n",
      "537:\tlearn: 0.0014771\ttotal: 3.88s\tremaining: 3.33s\n",
      "538:\tlearn: 0.0014771\ttotal: 3.89s\tremaining: 3.33s\n",
      "539:\tlearn: 0.0014699\ttotal: 3.9s\tremaining: 3.32s\n",
      "540:\tlearn: 0.0014699\ttotal: 3.91s\tremaining: 3.31s\n",
      "541:\tlearn: 0.0014699\ttotal: 3.91s\tremaining: 3.31s\n",
      "542:\tlearn: 0.0014699\ttotal: 3.92s\tremaining: 3.3s\n",
      "543:\tlearn: 0.0014699\ttotal: 3.93s\tremaining: 3.29s\n",
      "544:\tlearn: 0.0014699\ttotal: 3.94s\tremaining: 3.29s\n",
      "545:\tlearn: 0.0014699\ttotal: 3.95s\tremaining: 3.28s\n",
      "546:\tlearn: 0.0014699\ttotal: 3.95s\tremaining: 3.27s\n",
      "547:\tlearn: 0.0014519\ttotal: 3.96s\tremaining: 3.27s\n",
      "548:\tlearn: 0.0014519\ttotal: 3.97s\tremaining: 3.26s\n",
      "549:\tlearn: 0.0014519\ttotal: 3.98s\tremaining: 3.26s\n",
      "550:\tlearn: 0.0014518\ttotal: 3.99s\tremaining: 3.25s\n",
      "551:\tlearn: 0.0014518\ttotal: 4s\tremaining: 3.24s\n",
      "552:\tlearn: 0.0014518\ttotal: 4s\tremaining: 3.23s\n",
      "553:\tlearn: 0.0014518\ttotal: 4.01s\tremaining: 3.23s\n",
      "554:\tlearn: 0.0014518\ttotal: 4.02s\tremaining: 3.22s\n",
      "555:\tlearn: 0.0014518\ttotal: 4.02s\tremaining: 3.21s\n",
      "556:\tlearn: 0.0014518\ttotal: 4.03s\tremaining: 3.21s\n",
      "557:\tlearn: 0.0014518\ttotal: 4.04s\tremaining: 3.2s\n",
      "558:\tlearn: 0.0014518\ttotal: 4.04s\tremaining: 3.19s\n",
      "559:\tlearn: 0.0014518\ttotal: 4.05s\tremaining: 3.18s\n",
      "560:\tlearn: 0.0014448\ttotal: 4.06s\tremaining: 3.18s\n",
      "561:\tlearn: 0.0014448\ttotal: 4.07s\tremaining: 3.17s\n",
      "562:\tlearn: 0.0014448\ttotal: 4.07s\tremaining: 3.16s\n",
      "563:\tlearn: 0.0014448\ttotal: 4.08s\tremaining: 3.15s\n",
      "564:\tlearn: 0.0014448\ttotal: 4.08s\tremaining: 3.14s\n",
      "565:\tlearn: 0.0014448\ttotal: 4.09s\tremaining: 3.14s\n",
      "566:\tlearn: 0.0014448\ttotal: 4.1s\tremaining: 3.13s\n",
      "567:\tlearn: 0.0014448\ttotal: 4.11s\tremaining: 3.13s\n",
      "568:\tlearn: 0.0014447\ttotal: 4.12s\tremaining: 3.12s\n",
      "569:\tlearn: 0.0014447\ttotal: 4.13s\tremaining: 3.11s\n",
      "570:\tlearn: 0.0014447\ttotal: 4.13s\tremaining: 3.1s\n",
      "571:\tlearn: 0.0014447\ttotal: 4.14s\tremaining: 3.1s\n",
      "572:\tlearn: 0.0014447\ttotal: 4.15s\tremaining: 3.09s\n",
      "573:\tlearn: 0.0014447\ttotal: 4.15s\tremaining: 3.08s\n",
      "574:\tlearn: 0.0014447\ttotal: 4.16s\tremaining: 3.08s\n",
      "575:\tlearn: 0.0014447\ttotal: 4.17s\tremaining: 3.07s\n",
      "576:\tlearn: 0.0014379\ttotal: 4.17s\tremaining: 3.06s\n",
      "577:\tlearn: 0.0014379\ttotal: 4.18s\tremaining: 3.05s\n",
      "578:\tlearn: 0.0014379\ttotal: 4.19s\tremaining: 3.04s\n",
      "579:\tlearn: 0.0014379\ttotal: 4.19s\tremaining: 3.04s\n",
      "580:\tlearn: 0.0014379\ttotal: 4.2s\tremaining: 3.03s\n",
      "581:\tlearn: 0.0014379\ttotal: 4.21s\tremaining: 3.02s\n",
      "582:\tlearn: 0.0014322\ttotal: 4.22s\tremaining: 3.02s\n",
      "583:\tlearn: 0.0014322\ttotal: 4.22s\tremaining: 3.01s\n",
      "584:\tlearn: 0.0014322\ttotal: 4.23s\tremaining: 3s\n",
      "585:\tlearn: 0.0014322\ttotal: 4.24s\tremaining: 3s\n",
      "586:\tlearn: 0.0014322\ttotal: 4.25s\tremaining: 2.99s\n",
      "587:\tlearn: 0.0014322\ttotal: 4.25s\tremaining: 2.98s\n",
      "588:\tlearn: 0.0014322\ttotal: 4.26s\tremaining: 2.97s\n",
      "589:\tlearn: 0.0014322\ttotal: 4.27s\tremaining: 2.97s\n",
      "590:\tlearn: 0.0014322\ttotal: 4.28s\tremaining: 2.96s\n",
      "591:\tlearn: 0.0014322\ttotal: 4.29s\tremaining: 2.95s\n",
      "592:\tlearn: 0.0014321\ttotal: 4.29s\tremaining: 2.95s\n",
      "593:\tlearn: 0.0014321\ttotal: 4.3s\tremaining: 2.94s\n",
      "594:\tlearn: 0.0014321\ttotal: 4.31s\tremaining: 2.93s\n",
      "595:\tlearn: 0.0014321\ttotal: 4.31s\tremaining: 2.92s\n",
      "596:\tlearn: 0.0014321\ttotal: 4.32s\tremaining: 2.92s\n",
      "597:\tlearn: 0.0014321\ttotal: 4.33s\tremaining: 2.91s\n",
      "598:\tlearn: 0.0014321\ttotal: 4.33s\tremaining: 2.9s\n",
      "599:\tlearn: 0.0014321\ttotal: 4.34s\tremaining: 2.89s\n",
      "600:\tlearn: 0.0014321\ttotal: 4.35s\tremaining: 2.89s\n",
      "601:\tlearn: 0.0014321\ttotal: 4.36s\tremaining: 2.88s\n",
      "602:\tlearn: 0.0014321\ttotal: 4.36s\tremaining: 2.87s\n",
      "603:\tlearn: 0.0014321\ttotal: 4.37s\tremaining: 2.86s\n",
      "604:\tlearn: 0.0014321\ttotal: 4.38s\tremaining: 2.86s\n",
      "605:\tlearn: 0.0014321\ttotal: 4.38s\tremaining: 2.85s\n",
      "606:\tlearn: 0.0014321\ttotal: 4.39s\tremaining: 2.84s\n",
      "607:\tlearn: 0.0014321\ttotal: 4.39s\tremaining: 2.83s\n",
      "608:\tlearn: 0.0014321\ttotal: 4.4s\tremaining: 2.83s\n",
      "609:\tlearn: 0.0014321\ttotal: 4.41s\tremaining: 2.82s\n",
      "610:\tlearn: 0.0014321\ttotal: 4.42s\tremaining: 2.81s\n",
      "611:\tlearn: 0.0014321\ttotal: 4.42s\tremaining: 2.8s\n",
      "612:\tlearn: 0.0014148\ttotal: 4.43s\tremaining: 2.8s\n",
      "613:\tlearn: 0.0014148\ttotal: 4.44s\tremaining: 2.79s\n",
      "614:\tlearn: 0.0014148\ttotal: 4.45s\tremaining: 2.79s\n",
      "615:\tlearn: 0.0014148\ttotal: 4.46s\tremaining: 2.78s\n",
      "616:\tlearn: 0.0014148\ttotal: 4.46s\tremaining: 2.77s\n",
      "617:\tlearn: 0.0014148\ttotal: 4.47s\tremaining: 2.76s\n",
      "618:\tlearn: 0.0014148\ttotal: 4.48s\tremaining: 2.75s\n",
      "619:\tlearn: 0.0014148\ttotal: 4.48s\tremaining: 2.75s\n",
      "620:\tlearn: 0.0014148\ttotal: 4.49s\tremaining: 2.74s\n",
      "621:\tlearn: 0.0014148\ttotal: 4.5s\tremaining: 2.73s\n",
      "622:\tlearn: 0.0014148\ttotal: 4.5s\tremaining: 2.73s\n",
      "623:\tlearn: 0.0014148\ttotal: 4.51s\tremaining: 2.72s\n",
      "624:\tlearn: 0.0014148\ttotal: 4.53s\tremaining: 2.71s\n",
      "625:\tlearn: 0.0014148\ttotal: 4.54s\tremaining: 2.71s\n",
      "626:\tlearn: 0.0014148\ttotal: 4.55s\tremaining: 2.7s\n",
      "627:\tlearn: 0.0014148\ttotal: 4.55s\tremaining: 2.7s\n",
      "628:\tlearn: 0.0014148\ttotal: 4.56s\tremaining: 2.69s\n",
      "629:\tlearn: 0.0014148\ttotal: 4.57s\tremaining: 2.69s\n",
      "630:\tlearn: 0.0014148\ttotal: 4.58s\tremaining: 2.68s\n",
      "631:\tlearn: 0.0014094\ttotal: 4.59s\tremaining: 2.67s\n",
      "632:\tlearn: 0.0013925\ttotal: 4.6s\tremaining: 2.67s\n",
      "633:\tlearn: 0.0013925\ttotal: 4.61s\tremaining: 2.66s\n",
      "634:\tlearn: 0.0013925\ttotal: 4.62s\tremaining: 2.65s\n",
      "635:\tlearn: 0.0013925\ttotal: 4.63s\tremaining: 2.65s\n",
      "636:\tlearn: 0.0013925\ttotal: 4.63s\tremaining: 2.64s\n",
      "637:\tlearn: 0.0013925\ttotal: 4.64s\tremaining: 2.63s\n",
      "638:\tlearn: 0.0013925\ttotal: 4.65s\tremaining: 2.63s\n",
      "639:\tlearn: 0.0013924\ttotal: 4.66s\tremaining: 2.62s\n",
      "640:\tlearn: 0.0013924\ttotal: 4.67s\tremaining: 2.62s\n",
      "641:\tlearn: 0.0013920\ttotal: 4.68s\tremaining: 2.61s\n",
      "642:\tlearn: 0.0013920\ttotal: 4.68s\tremaining: 2.6s\n",
      "643:\tlearn: 0.0013920\ttotal: 4.69s\tremaining: 2.59s\n",
      "644:\tlearn: 0.0013920\ttotal: 4.7s\tremaining: 2.59s\n",
      "645:\tlearn: 0.0013920\ttotal: 4.71s\tremaining: 2.58s\n",
      "646:\tlearn: 0.0013920\ttotal: 4.71s\tremaining: 2.57s\n",
      "647:\tlearn: 0.0013920\ttotal: 4.72s\tremaining: 2.57s\n",
      "648:\tlearn: 0.0013920\ttotal: 4.74s\tremaining: 2.56s\n",
      "649:\tlearn: 0.0013920\ttotal: 4.75s\tremaining: 2.56s\n",
      "650:\tlearn: 0.0013920\ttotal: 4.76s\tremaining: 2.55s\n",
      "651:\tlearn: 0.0013920\ttotal: 4.77s\tremaining: 2.54s\n",
      "652:\tlearn: 0.0013920\ttotal: 4.78s\tremaining: 2.54s\n",
      "653:\tlearn: 0.0013919\ttotal: 4.79s\tremaining: 2.53s\n",
      "654:\tlearn: 0.0013919\ttotal: 4.8s\tremaining: 2.53s\n",
      "655:\tlearn: 0.0013919\ttotal: 4.81s\tremaining: 2.52s\n",
      "656:\tlearn: 0.0013919\ttotal: 4.82s\tremaining: 2.52s\n",
      "657:\tlearn: 0.0013919\ttotal: 4.83s\tremaining: 2.51s\n",
      "658:\tlearn: 0.0013915\ttotal: 4.84s\tremaining: 2.5s\n",
      "659:\tlearn: 0.0013915\ttotal: 4.85s\tremaining: 2.5s\n",
      "660:\tlearn: 0.0013915\ttotal: 4.86s\tremaining: 2.49s\n",
      "661:\tlearn: 0.0013915\ttotal: 4.87s\tremaining: 2.48s\n",
      "662:\tlearn: 0.0013915\ttotal: 4.88s\tremaining: 2.48s\n",
      "663:\tlearn: 0.0013915\ttotal: 4.89s\tremaining: 2.47s\n",
      "664:\tlearn: 0.0013915\ttotal: 4.9s\tremaining: 2.47s\n",
      "665:\tlearn: 0.0013915\ttotal: 4.9s\tremaining: 2.46s\n",
      "666:\tlearn: 0.0013915\ttotal: 4.91s\tremaining: 2.45s\n",
      "667:\tlearn: 0.0013915\ttotal: 4.92s\tremaining: 2.45s\n",
      "668:\tlearn: 0.0013915\ttotal: 4.93s\tremaining: 2.44s\n",
      "669:\tlearn: 0.0013914\ttotal: 4.94s\tremaining: 2.43s\n",
      "670:\tlearn: 0.0013914\ttotal: 4.95s\tremaining: 2.43s\n",
      "671:\tlearn: 0.0013914\ttotal: 4.96s\tremaining: 2.42s\n",
      "672:\tlearn: 0.0013914\ttotal: 4.97s\tremaining: 2.42s\n",
      "673:\tlearn: 0.0013914\ttotal: 4.98s\tremaining: 2.41s\n",
      "674:\tlearn: 0.0013914\ttotal: 4.99s\tremaining: 2.4s\n",
      "675:\tlearn: 0.0013914\ttotal: 5s\tremaining: 2.39s\n",
      "676:\tlearn: 0.0013914\ttotal: 5s\tremaining: 2.39s\n",
      "677:\tlearn: 0.0013914\ttotal: 5.01s\tremaining: 2.38s\n",
      "678:\tlearn: 0.0013914\ttotal: 5.02s\tremaining: 2.37s\n",
      "679:\tlearn: 0.0013914\ttotal: 5.03s\tremaining: 2.37s\n",
      "680:\tlearn: 0.0013914\ttotal: 5.04s\tremaining: 2.36s\n",
      "681:\tlearn: 0.0013914\ttotal: 5.05s\tremaining: 2.35s\n",
      "682:\tlearn: 0.0013914\ttotal: 5.05s\tremaining: 2.35s\n",
      "683:\tlearn: 0.0013914\ttotal: 5.06s\tremaining: 2.34s\n",
      "684:\tlearn: 0.0013914\ttotal: 5.07s\tremaining: 2.33s\n",
      "685:\tlearn: 0.0013914\ttotal: 5.08s\tremaining: 2.32s\n",
      "686:\tlearn: 0.0013914\ttotal: 5.09s\tremaining: 2.32s\n",
      "687:\tlearn: 0.0013914\ttotal: 5.09s\tremaining: 2.31s\n",
      "688:\tlearn: 0.0013914\ttotal: 5.11s\tremaining: 2.3s\n",
      "689:\tlearn: 0.0013914\ttotal: 5.11s\tremaining: 2.3s\n",
      "690:\tlearn: 0.0013914\ttotal: 5.12s\tremaining: 2.29s\n",
      "691:\tlearn: 0.0013914\ttotal: 5.13s\tremaining: 2.28s\n",
      "692:\tlearn: 0.0013914\ttotal: 5.14s\tremaining: 2.27s\n",
      "693:\tlearn: 0.0013914\ttotal: 5.14s\tremaining: 2.27s\n",
      "694:\tlearn: 0.0013914\ttotal: 5.15s\tremaining: 2.26s\n",
      "695:\tlearn: 0.0013914\ttotal: 5.16s\tremaining: 2.25s\n",
      "696:\tlearn: 0.0013914\ttotal: 5.17s\tremaining: 2.25s\n",
      "697:\tlearn: 0.0013914\ttotal: 5.18s\tremaining: 2.24s\n",
      "698:\tlearn: 0.0013914\ttotal: 5.18s\tremaining: 2.23s\n",
      "699:\tlearn: 0.0013913\ttotal: 5.19s\tremaining: 2.23s\n",
      "700:\tlearn: 0.0013913\ttotal: 5.2s\tremaining: 2.22s\n",
      "701:\tlearn: 0.0013913\ttotal: 5.21s\tremaining: 2.21s\n",
      "702:\tlearn: 0.0013913\ttotal: 5.22s\tremaining: 2.21s\n",
      "703:\tlearn: 0.0013913\ttotal: 5.23s\tremaining: 2.2s\n",
      "704:\tlearn: 0.0013913\ttotal: 5.24s\tremaining: 2.19s\n",
      "705:\tlearn: 0.0013913\ttotal: 5.25s\tremaining: 2.18s\n",
      "706:\tlearn: 0.0013913\ttotal: 5.25s\tremaining: 2.18s\n",
      "707:\tlearn: 0.0013913\ttotal: 5.26s\tremaining: 2.17s\n",
      "708:\tlearn: 0.0013913\ttotal: 5.27s\tremaining: 2.16s\n",
      "709:\tlearn: 0.0013913\ttotal: 5.28s\tremaining: 2.16s\n",
      "710:\tlearn: 0.0013913\ttotal: 5.29s\tremaining: 2.15s\n",
      "711:\tlearn: 0.0013913\ttotal: 5.3s\tremaining: 2.14s\n",
      "712:\tlearn: 0.0013913\ttotal: 5.3s\tremaining: 2.13s\n",
      "713:\tlearn: 0.0013913\ttotal: 5.32s\tremaining: 2.13s\n",
      "714:\tlearn: 0.0013913\ttotal: 5.32s\tremaining: 2.12s\n",
      "715:\tlearn: 0.0013913\ttotal: 5.33s\tremaining: 2.11s\n",
      "716:\tlearn: 0.0013913\ttotal: 5.34s\tremaining: 2.11s\n",
      "717:\tlearn: 0.0013913\ttotal: 5.35s\tremaining: 2.1s\n",
      "718:\tlearn: 0.0013913\ttotal: 5.36s\tremaining: 2.09s\n",
      "719:\tlearn: 0.0013913\ttotal: 5.36s\tremaining: 2.09s\n",
      "720:\tlearn: 0.0013912\ttotal: 5.37s\tremaining: 2.08s\n",
      "721:\tlearn: 0.0013912\ttotal: 5.38s\tremaining: 2.07s\n",
      "722:\tlearn: 0.0013912\ttotal: 5.39s\tremaining: 2.06s\n",
      "723:\tlearn: 0.0013912\ttotal: 5.4s\tremaining: 2.06s\n",
      "724:\tlearn: 0.0013912\ttotal: 5.41s\tremaining: 2.05s\n",
      "725:\tlearn: 0.0013912\ttotal: 5.42s\tremaining: 2.04s\n",
      "726:\tlearn: 0.0013912\ttotal: 5.42s\tremaining: 2.04s\n",
      "727:\tlearn: 0.0013912\ttotal: 5.43s\tremaining: 2.03s\n",
      "728:\tlearn: 0.0013912\ttotal: 5.44s\tremaining: 2.02s\n",
      "729:\tlearn: 0.0013912\ttotal: 5.45s\tremaining: 2.02s\n",
      "730:\tlearn: 0.0013912\ttotal: 5.46s\tremaining: 2.01s\n",
      "731:\tlearn: 0.0013911\ttotal: 5.47s\tremaining: 2s\n",
      "732:\tlearn: 0.0013911\ttotal: 5.48s\tremaining: 1.99s\n",
      "733:\tlearn: 0.0013911\ttotal: 5.48s\tremaining: 1.99s\n",
      "734:\tlearn: 0.0013911\ttotal: 5.49s\tremaining: 1.98s\n",
      "735:\tlearn: 0.0013911\ttotal: 5.5s\tremaining: 1.97s\n",
      "736:\tlearn: 0.0013911\ttotal: 5.51s\tremaining: 1.97s\n",
      "737:\tlearn: 0.0013911\ttotal: 5.52s\tremaining: 1.96s\n",
      "738:\tlearn: 0.0013911\ttotal: 5.53s\tremaining: 1.95s\n",
      "739:\tlearn: 0.0013911\ttotal: 5.54s\tremaining: 1.95s\n",
      "740:\tlearn: 0.0013911\ttotal: 5.55s\tremaining: 1.94s\n",
      "741:\tlearn: 0.0013911\ttotal: 5.55s\tremaining: 1.93s\n",
      "742:\tlearn: 0.0013911\ttotal: 5.56s\tremaining: 1.92s\n",
      "743:\tlearn: 0.0013911\ttotal: 5.57s\tremaining: 1.92s\n",
      "744:\tlearn: 0.0013911\ttotal: 5.58s\tremaining: 1.91s\n",
      "745:\tlearn: 0.0013911\ttotal: 5.59s\tremaining: 1.9s\n",
      "746:\tlearn: 0.0013911\ttotal: 5.6s\tremaining: 1.9s\n",
      "747:\tlearn: 0.0013910\ttotal: 5.62s\tremaining: 1.89s\n",
      "748:\tlearn: 0.0013910\ttotal: 5.63s\tremaining: 1.89s\n",
      "749:\tlearn: 0.0013910\ttotal: 5.65s\tremaining: 1.88s\n",
      "750:\tlearn: 0.0013910\ttotal: 5.66s\tremaining: 1.88s\n",
      "751:\tlearn: 0.0013910\ttotal: 5.67s\tremaining: 1.87s\n",
      "752:\tlearn: 0.0013910\ttotal: 5.68s\tremaining: 1.86s\n",
      "753:\tlearn: 0.0013910\ttotal: 5.69s\tremaining: 1.86s\n",
      "754:\tlearn: 0.0013910\ttotal: 5.7s\tremaining: 1.85s\n",
      "755:\tlearn: 0.0013910\ttotal: 5.71s\tremaining: 1.84s\n",
      "756:\tlearn: 0.0013910\ttotal: 5.72s\tremaining: 1.83s\n",
      "757:\tlearn: 0.0013910\ttotal: 5.72s\tremaining: 1.83s\n",
      "758:\tlearn: 0.0013910\ttotal: 5.73s\tremaining: 1.82s\n",
      "759:\tlearn: 0.0013910\ttotal: 5.74s\tremaining: 1.81s\n",
      "760:\tlearn: 0.0013910\ttotal: 5.75s\tremaining: 1.8s\n",
      "761:\tlearn: 0.0013910\ttotal: 5.75s\tremaining: 1.8s\n",
      "762:\tlearn: 0.0013910\ttotal: 5.76s\tremaining: 1.79s\n",
      "763:\tlearn: 0.0013910\ttotal: 5.77s\tremaining: 1.78s\n",
      "764:\tlearn: 0.0013910\ttotal: 5.78s\tremaining: 1.77s\n",
      "765:\tlearn: 0.0013910\ttotal: 5.78s\tremaining: 1.77s\n",
      "766:\tlearn: 0.0013910\ttotal: 5.79s\tremaining: 1.76s\n",
      "767:\tlearn: 0.0013910\ttotal: 5.8s\tremaining: 1.75s\n",
      "768:\tlearn: 0.0013910\ttotal: 5.8s\tremaining: 1.74s\n",
      "769:\tlearn: 0.0013910\ttotal: 5.81s\tremaining: 1.74s\n",
      "770:\tlearn: 0.0013910\ttotal: 5.82s\tremaining: 1.73s\n",
      "771:\tlearn: 0.0013910\ttotal: 5.83s\tremaining: 1.72s\n",
      "772:\tlearn: 0.0013910\ttotal: 5.83s\tremaining: 1.71s\n",
      "773:\tlearn: 0.0013910\ttotal: 5.84s\tremaining: 1.71s\n",
      "774:\tlearn: 0.0013910\ttotal: 5.85s\tremaining: 1.7s\n",
      "775:\tlearn: 0.0013909\ttotal: 5.86s\tremaining: 1.69s\n",
      "776:\tlearn: 0.0013909\ttotal: 5.87s\tremaining: 1.68s\n",
      "777:\tlearn: 0.0013909\ttotal: 5.88s\tremaining: 1.68s\n",
      "778:\tlearn: 0.0013909\ttotal: 5.89s\tremaining: 1.67s\n",
      "779:\tlearn: 0.0013909\ttotal: 5.9s\tremaining: 1.66s\n",
      "780:\tlearn: 0.0013909\ttotal: 5.91s\tremaining: 1.66s\n",
      "781:\tlearn: 0.0013909\ttotal: 5.92s\tremaining: 1.65s\n",
      "782:\tlearn: 0.0013909\ttotal: 5.93s\tremaining: 1.64s\n",
      "783:\tlearn: 0.0013909\ttotal: 5.94s\tremaining: 1.64s\n",
      "784:\tlearn: 0.0013909\ttotal: 5.95s\tremaining: 1.63s\n",
      "785:\tlearn: 0.0013909\ttotal: 5.96s\tremaining: 1.62s\n",
      "786:\tlearn: 0.0013909\ttotal: 5.97s\tremaining: 1.61s\n",
      "787:\tlearn: 0.0013909\ttotal: 5.97s\tremaining: 1.61s\n",
      "788:\tlearn: 0.0013909\ttotal: 5.98s\tremaining: 1.6s\n",
      "789:\tlearn: 0.0013909\ttotal: 5.99s\tremaining: 1.59s\n",
      "790:\tlearn: 0.0013909\ttotal: 6s\tremaining: 1.58s\n",
      "791:\tlearn: 0.0013909\ttotal: 6s\tremaining: 1.58s\n",
      "792:\tlearn: 0.0013909\ttotal: 6.01s\tremaining: 1.57s\n",
      "793:\tlearn: 0.0013909\ttotal: 6.02s\tremaining: 1.56s\n",
      "794:\tlearn: 0.0013909\ttotal: 6.03s\tremaining: 1.55s\n",
      "795:\tlearn: 0.0013909\ttotal: 6.04s\tremaining: 1.55s\n",
      "796:\tlearn: 0.0013909\ttotal: 6.04s\tremaining: 1.54s\n",
      "797:\tlearn: 0.0013909\ttotal: 6.05s\tremaining: 1.53s\n",
      "798:\tlearn: 0.0013909\ttotal: 6.06s\tremaining: 1.52s\n",
      "799:\tlearn: 0.0013909\ttotal: 6.07s\tremaining: 1.52s\n",
      "800:\tlearn: 0.0013909\ttotal: 6.07s\tremaining: 1.51s\n",
      "801:\tlearn: 0.0013908\ttotal: 6.08s\tremaining: 1.5s\n",
      "802:\tlearn: 0.0013908\ttotal: 6.09s\tremaining: 1.49s\n",
      "803:\tlearn: 0.0013908\ttotal: 6.1s\tremaining: 1.49s\n",
      "804:\tlearn: 0.0013908\ttotal: 6.1s\tremaining: 1.48s\n",
      "805:\tlearn: 0.0013908\ttotal: 6.11s\tremaining: 1.47s\n",
      "806:\tlearn: 0.0013908\ttotal: 6.12s\tremaining: 1.46s\n",
      "807:\tlearn: 0.0013908\ttotal: 6.13s\tremaining: 1.46s\n",
      "808:\tlearn: 0.0013908\ttotal: 6.13s\tremaining: 1.45s\n",
      "809:\tlearn: 0.0013908\ttotal: 6.14s\tremaining: 1.44s\n",
      "810:\tlearn: 0.0013908\ttotal: 6.15s\tremaining: 1.43s\n",
      "811:\tlearn: 0.0013908\ttotal: 6.16s\tremaining: 1.43s\n",
      "812:\tlearn: 0.0013908\ttotal: 6.16s\tremaining: 1.42s\n",
      "813:\tlearn: 0.0013908\ttotal: 6.17s\tremaining: 1.41s\n",
      "814:\tlearn: 0.0013908\ttotal: 6.18s\tremaining: 1.4s\n",
      "815:\tlearn: 0.0013908\ttotal: 6.19s\tremaining: 1.4s\n",
      "816:\tlearn: 0.0013908\ttotal: 6.19s\tremaining: 1.39s\n",
      "817:\tlearn: 0.0013907\ttotal: 6.2s\tremaining: 1.38s\n",
      "818:\tlearn: 0.0013907\ttotal: 6.21s\tremaining: 1.37s\n",
      "819:\tlearn: 0.0013907\ttotal: 6.22s\tremaining: 1.36s\n",
      "820:\tlearn: 0.0013907\ttotal: 6.22s\tremaining: 1.36s\n",
      "821:\tlearn: 0.0013907\ttotal: 6.23s\tremaining: 1.35s\n",
      "822:\tlearn: 0.0013907\ttotal: 6.24s\tremaining: 1.34s\n",
      "823:\tlearn: 0.0013907\ttotal: 6.25s\tremaining: 1.33s\n",
      "824:\tlearn: 0.0013907\ttotal: 6.26s\tremaining: 1.33s\n",
      "825:\tlearn: 0.0013907\ttotal: 6.26s\tremaining: 1.32s\n",
      "826:\tlearn: 0.0013907\ttotal: 6.27s\tremaining: 1.31s\n",
      "827:\tlearn: 0.0013907\ttotal: 6.28s\tremaining: 1.3s\n",
      "828:\tlearn: 0.0013907\ttotal: 6.29s\tremaining: 1.3s\n",
      "829:\tlearn: 0.0013907\ttotal: 6.29s\tremaining: 1.29s\n",
      "830:\tlearn: 0.0013907\ttotal: 6.3s\tremaining: 1.28s\n",
      "831:\tlearn: 0.0013907\ttotal: 6.31s\tremaining: 1.27s\n",
      "832:\tlearn: 0.0013906\ttotal: 6.32s\tremaining: 1.27s\n",
      "833:\tlearn: 0.0013906\ttotal: 6.33s\tremaining: 1.26s\n",
      "834:\tlearn: 0.0013906\ttotal: 6.33s\tremaining: 1.25s\n",
      "835:\tlearn: 0.0013906\ttotal: 6.34s\tremaining: 1.24s\n",
      "836:\tlearn: 0.0013906\ttotal: 6.35s\tremaining: 1.24s\n",
      "837:\tlearn: 0.0013906\ttotal: 6.36s\tremaining: 1.23s\n",
      "838:\tlearn: 0.0013906\ttotal: 6.37s\tremaining: 1.22s\n",
      "839:\tlearn: 0.0013906\ttotal: 6.37s\tremaining: 1.21s\n",
      "840:\tlearn: 0.0013906\ttotal: 6.38s\tremaining: 1.21s\n",
      "841:\tlearn: 0.0013906\ttotal: 6.39s\tremaining: 1.2s\n",
      "842:\tlearn: 0.0013906\ttotal: 6.4s\tremaining: 1.19s\n",
      "843:\tlearn: 0.0013906\ttotal: 6.4s\tremaining: 1.18s\n",
      "844:\tlearn: 0.0013906\ttotal: 6.41s\tremaining: 1.18s\n",
      "845:\tlearn: 0.0013906\ttotal: 6.42s\tremaining: 1.17s\n",
      "846:\tlearn: 0.0013906\ttotal: 6.43s\tremaining: 1.16s\n",
      "847:\tlearn: 0.0013906\ttotal: 6.43s\tremaining: 1.15s\n",
      "848:\tlearn: 0.0013906\ttotal: 6.44s\tremaining: 1.15s\n",
      "849:\tlearn: 0.0013906\ttotal: 6.45s\tremaining: 1.14s\n",
      "850:\tlearn: 0.0013906\ttotal: 6.46s\tremaining: 1.13s\n",
      "851:\tlearn: 0.0013905\ttotal: 6.47s\tremaining: 1.12s\n",
      "852:\tlearn: 0.0013905\ttotal: 6.47s\tremaining: 1.11s\n",
      "853:\tlearn: 0.0013905\ttotal: 6.48s\tremaining: 1.11s\n",
      "854:\tlearn: 0.0013905\ttotal: 6.49s\tremaining: 1.1s\n",
      "855:\tlearn: 0.0013905\ttotal: 6.5s\tremaining: 1.09s\n",
      "856:\tlearn: 0.0013905\ttotal: 6.5s\tremaining: 1.08s\n",
      "857:\tlearn: 0.0013905\ttotal: 6.51s\tremaining: 1.08s\n",
      "858:\tlearn: 0.0013905\ttotal: 6.52s\tremaining: 1.07s\n",
      "859:\tlearn: 0.0013905\ttotal: 6.53s\tremaining: 1.06s\n",
      "860:\tlearn: 0.0013905\ttotal: 6.53s\tremaining: 1.05s\n",
      "861:\tlearn: 0.0013905\ttotal: 6.54s\tremaining: 1.05s\n",
      "862:\tlearn: 0.0013905\ttotal: 6.55s\tremaining: 1.04s\n",
      "863:\tlearn: 0.0013905\ttotal: 6.55s\tremaining: 1.03s\n",
      "864:\tlearn: 0.0013905\ttotal: 6.56s\tremaining: 1.02s\n",
      "865:\tlearn: 0.0013905\ttotal: 6.57s\tremaining: 1.02s\n",
      "866:\tlearn: 0.0013905\ttotal: 6.58s\tremaining: 1.01s\n",
      "867:\tlearn: 0.0013905\ttotal: 6.58s\tremaining: 1s\n",
      "868:\tlearn: 0.0013905\ttotal: 6.59s\tremaining: 994ms\n",
      "869:\tlearn: 0.0013905\ttotal: 6.6s\tremaining: 986ms\n",
      "870:\tlearn: 0.0013904\ttotal: 6.61s\tremaining: 979ms\n",
      "871:\tlearn: 0.0013904\ttotal: 6.62s\tremaining: 971ms\n",
      "872:\tlearn: 0.0013904\ttotal: 6.62s\tremaining: 964ms\n",
      "873:\tlearn: 0.0013904\ttotal: 6.63s\tremaining: 956ms\n",
      "874:\tlearn: 0.0013904\ttotal: 6.64s\tremaining: 949ms\n",
      "875:\tlearn: 0.0013904\ttotal: 6.65s\tremaining: 941ms\n",
      "876:\tlearn: 0.0013904\ttotal: 6.66s\tremaining: 933ms\n",
      "877:\tlearn: 0.0013904\ttotal: 6.66s\tremaining: 926ms\n",
      "878:\tlearn: 0.0013904\ttotal: 6.67s\tremaining: 918ms\n",
      "879:\tlearn: 0.0013904\ttotal: 6.68s\tremaining: 911ms\n",
      "880:\tlearn: 0.0013904\ttotal: 6.69s\tremaining: 903ms\n",
      "881:\tlearn: 0.0013904\ttotal: 6.69s\tremaining: 896ms\n",
      "882:\tlearn: 0.0013904\ttotal: 6.7s\tremaining: 888ms\n",
      "883:\tlearn: 0.0013904\ttotal: 6.71s\tremaining: 880ms\n",
      "884:\tlearn: 0.0013904\ttotal: 6.72s\tremaining: 873ms\n",
      "885:\tlearn: 0.0013904\ttotal: 6.72s\tremaining: 865ms\n",
      "886:\tlearn: 0.0013904\ttotal: 6.73s\tremaining: 858ms\n",
      "887:\tlearn: 0.0013904\ttotal: 6.74s\tremaining: 850ms\n",
      "888:\tlearn: 0.0013903\ttotal: 6.75s\tremaining: 842ms\n",
      "889:\tlearn: 0.0013903\ttotal: 6.75s\tremaining: 835ms\n",
      "890:\tlearn: 0.0013903\ttotal: 6.76s\tremaining: 827ms\n",
      "891:\tlearn: 0.0013903\ttotal: 6.77s\tremaining: 819ms\n",
      "892:\tlearn: 0.0013903\ttotal: 6.77s\tremaining: 812ms\n",
      "893:\tlearn: 0.0013903\ttotal: 6.78s\tremaining: 804ms\n",
      "894:\tlearn: 0.0013903\ttotal: 6.79s\tremaining: 796ms\n",
      "895:\tlearn: 0.0013903\ttotal: 6.79s\tremaining: 789ms\n",
      "896:\tlearn: 0.0013903\ttotal: 6.8s\tremaining: 781ms\n",
      "897:\tlearn: 0.0013903\ttotal: 6.81s\tremaining: 774ms\n",
      "898:\tlearn: 0.0013903\ttotal: 6.82s\tremaining: 766ms\n",
      "899:\tlearn: 0.0013903\ttotal: 6.83s\tremaining: 759ms\n",
      "900:\tlearn: 0.0013903\ttotal: 6.84s\tremaining: 751ms\n",
      "901:\tlearn: 0.0013903\ttotal: 6.84s\tremaining: 744ms\n",
      "902:\tlearn: 0.0013903\ttotal: 6.85s\tremaining: 736ms\n",
      "903:\tlearn: 0.0013903\ttotal: 6.86s\tremaining: 728ms\n",
      "904:\tlearn: 0.0013903\ttotal: 6.87s\tremaining: 721ms\n",
      "905:\tlearn: 0.0013903\ttotal: 6.88s\tremaining: 714ms\n",
      "906:\tlearn: 0.0013903\ttotal: 6.89s\tremaining: 706ms\n",
      "907:\tlearn: 0.0013903\ttotal: 6.9s\tremaining: 699ms\n",
      "908:\tlearn: 0.0013903\ttotal: 6.91s\tremaining: 692ms\n",
      "909:\tlearn: 0.0013902\ttotal: 6.92s\tremaining: 684ms\n",
      "910:\tlearn: 0.0013902\ttotal: 6.92s\tremaining: 676ms\n",
      "911:\tlearn: 0.0013902\ttotal: 6.93s\tremaining: 669ms\n",
      "912:\tlearn: 0.0013902\ttotal: 6.94s\tremaining: 661ms\n",
      "913:\tlearn: 0.0013902\ttotal: 6.95s\tremaining: 654ms\n",
      "914:\tlearn: 0.0013902\ttotal: 6.95s\tremaining: 646ms\n",
      "915:\tlearn: 0.0013902\ttotal: 6.96s\tremaining: 638ms\n",
      "916:\tlearn: 0.0013902\ttotal: 6.97s\tremaining: 631ms\n",
      "917:\tlearn: 0.0013902\ttotal: 6.97s\tremaining: 623ms\n",
      "918:\tlearn: 0.0013902\ttotal: 6.98s\tremaining: 616ms\n",
      "919:\tlearn: 0.0013902\ttotal: 6.99s\tremaining: 608ms\n",
      "920:\tlearn: 0.0013902\ttotal: 7s\tremaining: 600ms\n",
      "921:\tlearn: 0.0013902\ttotal: 7s\tremaining: 593ms\n",
      "922:\tlearn: 0.0013902\ttotal: 7.01s\tremaining: 585ms\n",
      "923:\tlearn: 0.0013902\ttotal: 7.02s\tremaining: 577ms\n",
      "924:\tlearn: 0.0013902\ttotal: 7.03s\tremaining: 570ms\n",
      "925:\tlearn: 0.0013902\ttotal: 7.04s\tremaining: 562ms\n",
      "926:\tlearn: 0.0013902\ttotal: 7.04s\tremaining: 555ms\n",
      "927:\tlearn: 0.0013902\ttotal: 7.05s\tremaining: 547ms\n",
      "928:\tlearn: 0.0013902\ttotal: 7.06s\tremaining: 539ms\n",
      "929:\tlearn: 0.0013902\ttotal: 7.07s\tremaining: 532ms\n",
      "930:\tlearn: 0.0013902\ttotal: 7.07s\tremaining: 524ms\n",
      "931:\tlearn: 0.0013902\ttotal: 7.08s\tremaining: 517ms\n",
      "932:\tlearn: 0.0013902\ttotal: 7.09s\tremaining: 509ms\n",
      "933:\tlearn: 0.0013902\ttotal: 7.09s\tremaining: 501ms\n",
      "934:\tlearn: 0.0013902\ttotal: 7.1s\tremaining: 494ms\n",
      "935:\tlearn: 0.0013901\ttotal: 7.11s\tremaining: 486ms\n",
      "936:\tlearn: 0.0013901\ttotal: 7.12s\tremaining: 479ms\n",
      "937:\tlearn: 0.0013901\ttotal: 7.13s\tremaining: 471ms\n",
      "938:\tlearn: 0.0013901\ttotal: 7.13s\tremaining: 463ms\n",
      "939:\tlearn: 0.0013901\ttotal: 7.14s\tremaining: 456ms\n",
      "940:\tlearn: 0.0013901\ttotal: 7.15s\tremaining: 448ms\n",
      "941:\tlearn: 0.0013901\ttotal: 7.16s\tremaining: 441ms\n",
      "942:\tlearn: 0.0013901\ttotal: 7.16s\tremaining: 433ms\n",
      "943:\tlearn: 0.0013901\ttotal: 7.17s\tremaining: 425ms\n",
      "944:\tlearn: 0.0013901\ttotal: 7.18s\tremaining: 418ms\n",
      "945:\tlearn: 0.0013901\ttotal: 7.19s\tremaining: 410ms\n",
      "946:\tlearn: 0.0013901\ttotal: 7.2s\tremaining: 403ms\n",
      "947:\tlearn: 0.0013901\ttotal: 7.2s\tremaining: 395ms\n",
      "948:\tlearn: 0.0013901\ttotal: 7.21s\tremaining: 388ms\n",
      "949:\tlearn: 0.0013901\ttotal: 7.22s\tremaining: 380ms\n",
      "950:\tlearn: 0.0013901\ttotal: 7.22s\tremaining: 372ms\n",
      "951:\tlearn: 0.0013900\ttotal: 7.23s\tremaining: 365ms\n",
      "952:\tlearn: 0.0013900\ttotal: 7.24s\tremaining: 357ms\n",
      "953:\tlearn: 0.0013900\ttotal: 7.25s\tremaining: 349ms\n",
      "954:\tlearn: 0.0013900\ttotal: 7.25s\tremaining: 342ms\n",
      "955:\tlearn: 0.0013900\ttotal: 7.26s\tremaining: 334ms\n",
      "956:\tlearn: 0.0013900\ttotal: 7.27s\tremaining: 327ms\n",
      "957:\tlearn: 0.0013900\ttotal: 7.28s\tremaining: 319ms\n",
      "958:\tlearn: 0.0013900\ttotal: 7.28s\tremaining: 311ms\n",
      "959:\tlearn: 0.0013900\ttotal: 7.29s\tremaining: 304ms\n",
      "960:\tlearn: 0.0013900\ttotal: 7.3s\tremaining: 296ms\n",
      "961:\tlearn: 0.0013899\ttotal: 7.31s\tremaining: 289ms\n",
      "962:\tlearn: 0.0013899\ttotal: 7.31s\tremaining: 281ms\n",
      "963:\tlearn: 0.0013899\ttotal: 7.32s\tremaining: 273ms\n",
      "964:\tlearn: 0.0013899\ttotal: 7.33s\tremaining: 266ms\n",
      "965:\tlearn: 0.0013899\ttotal: 7.34s\tremaining: 258ms\n",
      "966:\tlearn: 0.0013899\ttotal: 7.34s\tremaining: 251ms\n",
      "967:\tlearn: 0.0013899\ttotal: 7.35s\tremaining: 243ms\n",
      "968:\tlearn: 0.0013899\ttotal: 7.36s\tremaining: 235ms\n",
      "969:\tlearn: 0.0013899\ttotal: 7.37s\tremaining: 228ms\n",
      "970:\tlearn: 0.0013899\ttotal: 7.38s\tremaining: 220ms\n",
      "971:\tlearn: 0.0013899\ttotal: 7.38s\tremaining: 213ms\n",
      "972:\tlearn: 0.0013899\ttotal: 7.39s\tremaining: 205ms\n",
      "973:\tlearn: 0.0013899\ttotal: 7.4s\tremaining: 198ms\n",
      "974:\tlearn: 0.0013899\ttotal: 7.41s\tremaining: 190ms\n",
      "975:\tlearn: 0.0013899\ttotal: 7.42s\tremaining: 182ms\n",
      "976:\tlearn: 0.0013899\ttotal: 7.42s\tremaining: 175ms\n",
      "977:\tlearn: 0.0013899\ttotal: 7.43s\tremaining: 167ms\n",
      "978:\tlearn: 0.0013899\ttotal: 7.44s\tremaining: 160ms\n",
      "979:\tlearn: 0.0013899\ttotal: 7.45s\tremaining: 152ms\n",
      "980:\tlearn: 0.0013899\ttotal: 7.45s\tremaining: 144ms\n",
      "981:\tlearn: 0.0013899\ttotal: 7.46s\tremaining: 137ms\n",
      "982:\tlearn: 0.0013899\ttotal: 7.47s\tremaining: 129ms\n",
      "983:\tlearn: 0.0013899\ttotal: 7.48s\tremaining: 122ms\n",
      "984:\tlearn: 0.0013899\ttotal: 7.48s\tremaining: 114ms\n",
      "985:\tlearn: 0.0013899\ttotal: 7.49s\tremaining: 106ms\n",
      "986:\tlearn: 0.0013899\ttotal: 7.5s\tremaining: 98.8ms\n",
      "987:\tlearn: 0.0013899\ttotal: 7.5s\tremaining: 91.2ms\n",
      "988:\tlearn: 0.0013899\ttotal: 7.51s\tremaining: 83.6ms\n",
      "989:\tlearn: 0.0013899\ttotal: 7.52s\tremaining: 76ms\n",
      "990:\tlearn: 0.0013899\ttotal: 7.53s\tremaining: 68.4ms\n",
      "991:\tlearn: 0.0013899\ttotal: 7.53s\tremaining: 60.8ms\n",
      "992:\tlearn: 0.0013898\ttotal: 7.54s\tremaining: 53.2ms\n",
      "993:\tlearn: 0.0013898\ttotal: 7.55s\tremaining: 45.6ms\n",
      "994:\tlearn: 0.0013898\ttotal: 7.55s\tremaining: 38ms\n",
      "995:\tlearn: 0.0013898\ttotal: 7.56s\tremaining: 30.4ms\n",
      "996:\tlearn: 0.0013898\ttotal: 7.57s\tremaining: 22.8ms\n",
      "997:\tlearn: 0.0013898\ttotal: 7.58s\tremaining: 15.2ms\n",
      "998:\tlearn: 0.0013898\ttotal: 7.59s\tremaining: 7.59ms\n",
      "999:\tlearn: 0.0013898\ttotal: 7.59s\tremaining: 0us\n"
     ]
    },
    {
     "data": {
      "text/plain": "<catboost.core.CatBoostClassifier at 0x7f9418d1f748>"
     },
     "execution_count": 13,
     "metadata": {},
     "output_type": "execute_result"
    }
   ],
   "source": [
    "from sklearn.preprocessing import LabelEncoder\n",
    "encoder=LabelEncoder()\n",
    "mushroom_encode = mushroom\n",
    "for i in mushroom_encode.columns:\n",
    "    mushroom_encode[i]=encoder.fit_transform(mushroom_encode[i])\n",
    "# mushroom_encode.head()"
   ],
   "metadata": {
    "collapsed": false,
    "pycharm": {
     "name": "#%%\n"
    }
   }
  },
  {
   "cell_type": "code",
   "execution_count": 14,
   "outputs": [
    {
     "name": "stdout",
     "output_type": "stream",
     "text": [
      "1.0\n"
     ]
    }
   ],
   "source": [
    "acc = accuracy_score(y_test, cbc.predict(X_test))\n",
    "print(acc)"
   ],
   "metadata": {
    "collapsed": false,
    "pycharm": {
     "name": "#%%\n"
    }
   }
  },
  {
   "cell_type": "markdown",
   "source": [
    "### 2.1.2 DecisionTreeClassifier()\n",
    "##### transfrom categorical variables to numerical variables use sklearn.preprocessing.LabelEncoder"
   ],
   "metadata": {
    "collapsed": false,
    "pycharm": {
     "name": "#%% md\n"
    }
   }
  },
  {
   "cell_type": "code",
   "execution_count": 15,
   "outputs": [
    {
     "data": {
      "text/plain": "   class  cap-shape  cap-surface  cap-color  bruises  odor  gill-attachment  \\\n0      1          5            2          4        1     6                1   \n1      0          5            2          9        1     0                1   \n2      0          0            2          8        1     3                1   \n3      1          5            3          8        1     6                1   \n4      0          5            2          3        0     5                1   \n\n   gill-spacing  gill-size  gill-color  ...  stalk-surface-below-ring  \\\n0             0          1           4  ...                         2   \n1             0          0           4  ...                         2   \n2             0          0           5  ...                         2   \n3             0          1           5  ...                         2   \n4             1          0           4  ...                         2   \n\n   stalk-color-above-ring  stalk-color-below-ring  veil-type  veil-color  \\\n0                       7                       7          0           2   \n1                       7                       7          0           2   \n2                       7                       7          0           2   \n3                       7                       7          0           2   \n4                       7                       7          0           2   \n\n   ring-number  ring-type  spore-print-color  population  habitat  \n0            1          4                  2           3        5  \n1            1          4                  3           2        1  \n2            1          4                  3           2        3  \n3            1          4                  2           3        5  \n4            1          0                  3           0        1  \n\n[5 rows x 23 columns]",
      "text/html": "<div>\n<style scoped>\n    .dataframe tbody tr th:only-of-type {\n        vertical-align: middle;\n    }\n\n    .dataframe tbody tr th {\n        vertical-align: top;\n    }\n\n    .dataframe thead th {\n        text-align: right;\n    }\n</style>\n<table border=\"1\" class=\"dataframe\">\n  <thead>\n    <tr style=\"text-align: right;\">\n      <th></th>\n      <th>class</th>\n      <th>cap-shape</th>\n      <th>cap-surface</th>\n      <th>cap-color</th>\n      <th>bruises</th>\n      <th>odor</th>\n      <th>gill-attachment</th>\n      <th>gill-spacing</th>\n      <th>gill-size</th>\n      <th>gill-color</th>\n      <th>...</th>\n      <th>stalk-surface-below-ring</th>\n      <th>stalk-color-above-ring</th>\n      <th>stalk-color-below-ring</th>\n      <th>veil-type</th>\n      <th>veil-color</th>\n      <th>ring-number</th>\n      <th>ring-type</th>\n      <th>spore-print-color</th>\n      <th>population</th>\n      <th>habitat</th>\n    </tr>\n  </thead>\n  <tbody>\n    <tr>\n      <th>0</th>\n      <td>1</td>\n      <td>5</td>\n      <td>2</td>\n      <td>4</td>\n      <td>1</td>\n      <td>6</td>\n      <td>1</td>\n      <td>0</td>\n      <td>1</td>\n      <td>4</td>\n      <td>...</td>\n      <td>2</td>\n      <td>7</td>\n      <td>7</td>\n      <td>0</td>\n      <td>2</td>\n      <td>1</td>\n      <td>4</td>\n      <td>2</td>\n      <td>3</td>\n      <td>5</td>\n    </tr>\n    <tr>\n      <th>1</th>\n      <td>0</td>\n      <td>5</td>\n      <td>2</td>\n      <td>9</td>\n      <td>1</td>\n      <td>0</td>\n      <td>1</td>\n      <td>0</td>\n      <td>0</td>\n      <td>4</td>\n      <td>...</td>\n      <td>2</td>\n      <td>7</td>\n      <td>7</td>\n      <td>0</td>\n      <td>2</td>\n      <td>1</td>\n      <td>4</td>\n      <td>3</td>\n      <td>2</td>\n      <td>1</td>\n    </tr>\n    <tr>\n      <th>2</th>\n      <td>0</td>\n      <td>0</td>\n      <td>2</td>\n      <td>8</td>\n      <td>1</td>\n      <td>3</td>\n      <td>1</td>\n      <td>0</td>\n      <td>0</td>\n      <td>5</td>\n      <td>...</td>\n      <td>2</td>\n      <td>7</td>\n      <td>7</td>\n      <td>0</td>\n      <td>2</td>\n      <td>1</td>\n      <td>4</td>\n      <td>3</td>\n      <td>2</td>\n      <td>3</td>\n    </tr>\n    <tr>\n      <th>3</th>\n      <td>1</td>\n      <td>5</td>\n      <td>3</td>\n      <td>8</td>\n      <td>1</td>\n      <td>6</td>\n      <td>1</td>\n      <td>0</td>\n      <td>1</td>\n      <td>5</td>\n      <td>...</td>\n      <td>2</td>\n      <td>7</td>\n      <td>7</td>\n      <td>0</td>\n      <td>2</td>\n      <td>1</td>\n      <td>4</td>\n      <td>2</td>\n      <td>3</td>\n      <td>5</td>\n    </tr>\n    <tr>\n      <th>4</th>\n      <td>0</td>\n      <td>5</td>\n      <td>2</td>\n      <td>3</td>\n      <td>0</td>\n      <td>5</td>\n      <td>1</td>\n      <td>1</td>\n      <td>0</td>\n      <td>4</td>\n      <td>...</td>\n      <td>2</td>\n      <td>7</td>\n      <td>7</td>\n      <td>0</td>\n      <td>2</td>\n      <td>1</td>\n      <td>0</td>\n      <td>3</td>\n      <td>0</td>\n      <td>1</td>\n    </tr>\n  </tbody>\n</table>\n<p>5 rows × 23 columns</p>\n</div>"
     },
     "execution_count": 15,
     "metadata": {},
     "output_type": "execute_result"
    }
   ],
   "source": [
    "from sklearn.preprocessing import LabelEncoder\n",
    "encoder=LabelEncoder()\n",
    "mushroom_encode = mushroom\n",
    "for i in mushroom_encode.columns:\n",
    "    mushroom_encode[i]=encoder.fit_transform(mushroom_encode[i])\n",
    "mushroom_encode.head()"
   ],
   "metadata": {
    "collapsed": false,
    "pycharm": {
     "name": "#%%\n"
    }
   }
  },
  {
   "cell_type": "code",
   "execution_count": 16,
   "outputs": [],
   "source": [
    "X_encode = mushroom_encode[['cap-shape', 'cap-surface', 'cap-color', 'bruises', 'odor',\n",
    "                            'gill-attachment', 'gill-spacing', 'gill-size', 'gill-color',\n",
    "                            'stalk-shape', 'stalk-root', 'stalk-surface-above-ring',\n",
    "                            'stalk-surface-below-ring', 'stalk-color-above-ring',\n",
    "                            'stalk-color-below-ring', 'veil-type', 'veil-color', 'ring-number',\n",
    "                            'ring-type', 'spore-print-color', 'population', 'habitat']]\n",
    "y_encode = mushroom_encode['class']"
   ],
   "metadata": {
    "collapsed": false,
    "pycharm": {
     "name": "#%%\n"
    }
   }
  },
  {
   "cell_type": "markdown",
   "source": [
    "use sklearn.preprocessing.StandardScaler\n",
    "Standardize features by removing the mean and scaling to unit variance."
   ],
   "metadata": {
    "collapsed": false,
    "pycharm": {
     "name": "#%% md\n"
    }
   }
  },
  {
   "cell_type": "code",
   "execution_count": 17,
   "outputs": [
    {
     "name": "stderr",
     "output_type": "stream",
     "text": [
      "/Users/qiaozhang/anaconda3/lib/python3.7/site-packages/sklearn/preprocessing/data.py:645: DataConversionWarning: Data with input dtype int64 were all converted to float64 by StandardScaler.\n",
      "  return self.partial_fit(X, y)\n",
      "/Users/qiaozhang/anaconda3/lib/python3.7/site-packages/sklearn/base.py:464: DataConversionWarning: Data with input dtype int64 were all converted to float64 by StandardScaler.\n",
      "  return self.fit(X, **fit_params).transform(X)\n"
     ]
    }
   ],
   "source": [
    "from sklearn.preprocessing import StandardScaler\n",
    "sc=StandardScaler()\n",
    "X_encode_sc=sc.fit_transform(X_encode)"
   ],
   "metadata": {
    "collapsed": false,
    "pycharm": {
     "name": "#%%\n"
    }
   }
  },
  {
   "cell_type": "code",
   "execution_count": 18,
   "outputs": [],
   "source": [
    "# Split dataset into training set and test set\n",
    "# 70% training and 30% test7\n",
    "X_train_encode, X_test_encode, y_train_encode, y_test_encode = train_test_split(X_encode_sc, y_encode, test_size=0.3, random_state=2)"
   ],
   "metadata": {
    "collapsed": false,
    "pycharm": {
     "name": "#%%\n"
    }
   }
  },
  {
   "cell_type": "code",
   "execution_count": 19,
   "outputs": [],
   "source": [
    "# Create Decision Tree classifer object\n",
    "clf = DecisionTreeClassifier()\n",
    "\n",
    "# Train Decision Tree Classifer\n",
    "clf = clf.fit(X_train_encode,y_train_encode)\n",
    "\n",
    "#Predict the response for test dataset\n",
    "y_pred = clf.predict(X_test_encode)"
   ],
   "metadata": {
    "collapsed": false,
    "pycharm": {
     "name": "#%%\n"
    }
   }
  },
  {
   "cell_type": "code",
   "execution_count": 20,
   "outputs": [
    {
     "name": "stdout",
     "output_type": "stream",
     "text": [
      "Accuracy: 1.0\n"
     ]
    }
   ],
   "source": [
    "# Model Accuracy\n",
    "print(\"Accuracy:\",metrics.accuracy_score(y_test_encode, y_pred))"
   ],
   "metadata": {
    "collapsed": false,
    "pycharm": {
     "name": "#%%\n"
    }
   }
  },
  {
   "cell_type": "markdown",
   "source": [
    "### 2.2 Naive Bayes Classifier"
   ],
   "metadata": {
    "collapsed": false,
    "pycharm": {
     "name": "#%% md\n"
    }
   }
  },
  {
   "cell_type": "code",
   "execution_count": 21,
   "outputs": [
    {
     "data": {
      "text/plain": "GaussianNB(priors=None, var_smoothing=1e-09)"
     },
     "execution_count": 21,
     "metadata": {},
     "output_type": "execute_result"
    }
   ],
   "source": [
    "from sklearn.naive_bayes import GaussianNB\n",
    "nb=GaussianNB()\n",
    "nb.fit(X_train_encode,y_train_encode)"
   ],
   "metadata": {
    "collapsed": false,
    "pycharm": {
     "name": "#%%\n"
    }
   }
  },
  {
   "cell_type": "code",
   "execution_count": 22,
   "outputs": [
    {
     "name": "stdout",
     "output_type": "stream",
     "text": [
      "[[2704  206]\n",
      " [ 208 2568]]\n",
      "[[1211   87]\n",
      " [ 101 1039]]\n"
     ]
    }
   ],
   "source": [
    "# Use confusion matrix for result analysis\n",
    "from sklearn.metrics import classification_report,confusion_matrix,accuracy_score\n",
    "y_pred_nb_train=nb.predict(X_train_encode)\n",
    "y_pred_nb_test=nb.predict(X_test_encode)\n",
    "print(confusion_matrix(y_train_encode,y_pred_nb_train))\n",
    "print(confusion_matrix(y_test_encode,y_pred_nb_test))"
   ],
   "metadata": {
    "collapsed": false,
    "pycharm": {
     "name": "#%%\n"
    }
   }
  },
  {
   "cell_type": "code",
   "execution_count": 23,
   "outputs": [
    {
     "name": "stdout",
     "output_type": "stream",
     "text": [
      "              precision    recall  f1-score   support\n",
      "\n",
      "           0       0.93      0.93      0.93      2910\n",
      "           1       0.93      0.93      0.93      2776\n",
      "\n",
      "   micro avg       0.93      0.93      0.93      5686\n",
      "   macro avg       0.93      0.93      0.93      5686\n",
      "weighted avg       0.93      0.93      0.93      5686\n",
      "\n",
      "              precision    recall  f1-score   support\n",
      "\n",
      "           0       0.92      0.93      0.93      1298\n",
      "           1       0.92      0.91      0.92      1140\n",
      "\n",
      "   micro avg       0.92      0.92      0.92      2438\n",
      "   macro avg       0.92      0.92      0.92      2438\n",
      "weighted avg       0.92      0.92      0.92      2438\n",
      "\n"
     ]
    }
   ],
   "source": [
    "# Use classification report to get general evaluation metrics\n",
    "print(classification_report(y_train_encode,y_pred_nb_train))\n",
    "print(classification_report(y_test_encode,y_pred_nb_test))"
   ],
   "metadata": {
    "collapsed": false,
    "pycharm": {
     "name": "#%%\n"
    }
   }
  },
  {
   "cell_type": "code",
   "execution_count": 24,
   "outputs": [
    {
     "name": "stdout",
     "output_type": "stream",
     "text": [
      "0.9271895884628913\n",
      "0.9228876127973749\n"
     ]
    }
   ],
   "source": [
    "# accuracy of using naive bayes classifier\n",
    "print(accuracy_score(y_train_encode,y_pred_nb_train))\n",
    "print(accuracy_score(y_test_encode,y_pred_nb_test))"
   ],
   "metadata": {
    "collapsed": false,
    "pycharm": {
     "name": "#%%\n"
    }
   }
  },
  {
   "cell_type": "markdown",
   "source": [
    "### 2.3 SVC Classifier"
   ],
   "metadata": {
    "collapsed": false,
    "pycharm": {
     "name": "#%% md\n"
    }
   }
  },
  {
   "cell_type": "code",
   "execution_count": 25,
   "outputs": [
    {
     "name": "stderr",
     "output_type": "stream",
     "text": [
      "/Users/qiaozhang/anaconda3/lib/python3.7/site-packages/sklearn/svm/base.py:196: FutureWarning: The default value of gamma will change from 'auto' to 'scale' in version 0.22 to account better for unscaled features. Set gamma explicitly to 'auto' or 'scale' to avoid this warning.\n",
      "  \"avoid this warning.\", FutureWarning)\n",
      "/Users/qiaozhang/anaconda3/lib/python3.7/site-packages/sklearn/svm/base.py:196: FutureWarning: The default value of gamma will change from 'auto' to 'scale' in version 0.22 to account better for unscaled features. Set gamma explicitly to 'auto' or 'scale' to avoid this warning.\n",
      "  \"avoid this warning.\", FutureWarning)\n",
      "/Users/qiaozhang/anaconda3/lib/python3.7/site-packages/sklearn/svm/base.py:196: FutureWarning: The default value of gamma will change from 'auto' to 'scale' in version 0.22 to account better for unscaled features. Set gamma explicitly to 'auto' or 'scale' to avoid this warning.\n",
      "  \"avoid this warning.\", FutureWarning)\n"
     ]
    },
    {
     "data": {
      "text/plain": "SVC(C=1.0, cache_size=200, class_weight=None, coef0=0.0,\n  decision_function_shape='ovr', degree=3, gamma='auto_deprecated',\n  kernel='rbf', max_iter=-1, probability=False, random_state=None,\n  shrinking=True, tol=0.001, verbose=False)"
     },
     "execution_count": 25,
     "metadata": {},
     "output_type": "execute_result"
    }
   ],
   "source": [
    "from sklearn.svm import SVC\n",
    "svc_linear=SVC(kernel='linear')\n",
    "svc_linear.fit(X_train_encode,y_train_encode)\n",
    "svc_sigmoid=SVC(kernel='sigmoid')\n",
    "svc_sigmoid.fit(X_train_encode,y_train_encode)\n",
    "svc_poly=SVC(kernel='poly')\n",
    "svc_poly.fit(X_train_encode,y_train_encode)\n",
    "svc_rbf=SVC(kernel='rbf')\n",
    "svc_rbf.fit(X_train_encode,y_train_encode)"
   ],
   "metadata": {
    "collapsed": false,
    "pycharm": {
     "name": "#%%\n"
    }
   }
  },
  {
   "cell_type": "code",
   "execution_count": 26,
   "outputs": [],
   "source": [
    "y_pred_sigmoid=svc_sigmoid.predict(X_test_encode)\n",
    "y_pred_linear=svc_linear.predict(X_test_encode)\n",
    "y_pred_poly=svc_poly.predict(X_test_encode)\n",
    "y_pred_rbf=svc_rbf.predict(X_test_encode)"
   ],
   "metadata": {
    "collapsed": false,
    "pycharm": {
     "name": "#%%\n"
    }
   }
  },
  {
   "cell_type": "code",
   "execution_count": 27,
   "outputs": [
    {
     "name": "stdout",
     "output_type": "stream",
     "text": [
      "[[1093  205]\n",
      " [ 221  919]]\n",
      "[[1268   30]\n",
      " [  25 1115]]\n",
      "[[1298    0]\n",
      " [   0 1140]]\n",
      "[[1298    0]\n",
      " [   0 1140]]\n"
     ]
    }
   ],
   "source": [
    "print(confusion_matrix(y_test_encode,y_pred_sigmoid))\n",
    "print(confusion_matrix(y_test_encode,y_pred_linear))\n",
    "print(confusion_matrix(y_test_encode,y_pred_poly))\n",
    "print(confusion_matrix(y_test_encode,y_pred_rbf))"
   ],
   "metadata": {
    "collapsed": false,
    "pycharm": {
     "name": "#%%\n"
    }
   }
  },
  {
   "cell_type": "code",
   "execution_count": 28,
   "outputs": [
    {
     "name": "stdout",
     "output_type": "stream",
     "text": [
      "              precision    recall  f1-score   support\n",
      "\n",
      "           0       0.83      0.84      0.84      1298\n",
      "           1       0.82      0.81      0.81      1140\n",
      "\n",
      "   micro avg       0.83      0.83      0.83      2438\n",
      "   macro avg       0.82      0.82      0.82      2438\n",
      "weighted avg       0.83      0.83      0.83      2438\n",
      "\n",
      "              precision    recall  f1-score   support\n",
      "\n",
      "           0       0.98      0.98      0.98      1298\n",
      "           1       0.97      0.98      0.98      1140\n",
      "\n",
      "   micro avg       0.98      0.98      0.98      2438\n",
      "   macro avg       0.98      0.98      0.98      2438\n",
      "weighted avg       0.98      0.98      0.98      2438\n",
      "\n",
      "              precision    recall  f1-score   support\n",
      "\n",
      "           0       1.00      1.00      1.00      1298\n",
      "           1       1.00      1.00      1.00      1140\n",
      "\n",
      "   micro avg       1.00      1.00      1.00      2438\n",
      "   macro avg       1.00      1.00      1.00      2438\n",
      "weighted avg       1.00      1.00      1.00      2438\n",
      "\n",
      "              precision    recall  f1-score   support\n",
      "\n",
      "           0       1.00      1.00      1.00      1298\n",
      "           1       1.00      1.00      1.00      1140\n",
      "\n",
      "   micro avg       1.00      1.00      1.00      2438\n",
      "   macro avg       1.00      1.00      1.00      2438\n",
      "weighted avg       1.00      1.00      1.00      2438\n",
      "\n"
     ]
    }
   ],
   "source": [
    "print(classification_report(y_test_encode,y_pred_sigmoid))\n",
    "print(classification_report(y_test_encode,y_pred_linear))\n",
    "print(classification_report(y_test_encode,y_pred_poly))\n",
    "print(classification_report(y_test_encode,y_pred_rbf))"
   ],
   "metadata": {
    "collapsed": false,
    "pycharm": {
     "name": "#%%\n"
    }
   }
  },
  {
   "cell_type": "code",
   "execution_count": 29,
   "outputs": [
    {
     "name": "stdout",
     "output_type": "stream",
     "text": [
      "0.83\n",
      "0.98\n",
      "1.0\n",
      "1.0\n"
     ]
    }
   ],
   "source": [
    "print(round(accuracy_score(y_test_encode,y_pred_sigmoid),2))\n",
    "print(round(accuracy_score(y_test_encode,y_pred_linear),2))\n",
    "print(accuracy_score(y_test_encode,y_pred_poly))\n",
    "print(accuracy_score(y_test_encode,y_pred_rbf))"
   ],
   "metadata": {
    "collapsed": false,
    "pycharm": {
     "name": "#%%\n"
    }
   }
  },
  {
   "cell_type": "markdown",
   "source": [
    "### 2.4 Logistic Regression"
   ],
   "metadata": {
    "collapsed": false,
    "pycharm": {
     "name": "#%% md\n"
    }
   }
  },
  {
   "cell_type": "code",
   "execution_count": 30,
   "outputs": [],
   "source": [
    "from sklearn.linear_model import LogisticRegression\n",
    "from sklearn.model_selection import cross_val_score\n",
    "from sklearn import metrics\n",
    "\n",
    "model_LR= LogisticRegression()"
   ],
   "metadata": {
    "collapsed": false,
    "pycharm": {
     "name": "#%%\n"
    }
   }
  },
  {
   "cell_type": "code",
   "execution_count": 31,
   "outputs": [
    {
     "name": "stderr",
     "output_type": "stream",
     "text": [
      "/Users/qiaozhang/anaconda3/lib/python3.7/site-packages/sklearn/linear_model/logistic.py:433: FutureWarning: Default solver will be changed to 'lbfgs' in 0.22. Specify a solver to silence this warning.\n",
      "  FutureWarning)\n"
     ]
    },
    {
     "data": {
      "text/plain": "LogisticRegression(C=1.0, class_weight=None, dual=False, fit_intercept=True,\n          intercept_scaling=1, max_iter=100, multi_class='warn',\n          n_jobs=None, penalty='l2', random_state=None, solver='warn',\n          tol=0.0001, verbose=0, warm_start=False)"
     },
     "execution_count": 31,
     "metadata": {},
     "output_type": "execute_result"
    }
   ],
   "source": [
    "model_LR.fit(X_train_encode,y_train_encode)"
   ],
   "metadata": {
    "collapsed": false,
    "pycharm": {
     "name": "#%%\n"
    }
   }
  },
  {
   "cell_type": "code",
   "execution_count": 32,
   "outputs": [
    {
     "data": {
      "text/plain": "1.0"
     },
     "execution_count": 32,
     "metadata": {},
     "output_type": "execute_result"
    }
   ],
   "source": [
    "y_prob = model_LR.predict_proba(X_test_encode)[:,1] # This will give you positive class prediction probabilities\n",
    "y_pred = np.where(y_prob > 0.5, 1, 0) # This will threshold the probabilities to give class predictions.\n",
    "model_LR.score(X_test_encode, y_pred)"
   ],
   "metadata": {
    "collapsed": false,
    "pycharm": {
     "name": "#%%\n"
    }
   }
  },
  {
   "cell_type": "code",
   "execution_count": 33,
   "outputs": [
    {
     "data": {
      "text/plain": "array([[1249,   49],\n       [  58, 1082]])"
     },
     "execution_count": 33,
     "metadata": {},
     "output_type": "execute_result"
    }
   ],
   "source": [
    "confusion_matrix=metrics.confusion_matrix(y_test_encode,y_pred)\n",
    "confusion_matrix"
   ],
   "metadata": {
    "collapsed": false,
    "pycharm": {
     "name": "#%%\n"
    }
   }
  },
  {
   "cell_type": "code",
   "execution_count": 34,
   "outputs": [
    {
     "data": {
      "text/plain": "0.9556862109047658"
     },
     "execution_count": 34,
     "metadata": {},
     "output_type": "execute_result"
    }
   ],
   "source": [
    "auc_roc=metrics.roc_auc_score(y_test_encode,y_pred)\n",
    "auc_roc"
   ],
   "metadata": {
    "collapsed": false,
    "pycharm": {
     "name": "#%%\n"
    }
   }
  },
  {
   "cell_type": "code",
   "execution_count": 35,
   "outputs": [
    {
     "data": {
      "text/plain": "0.9858094774687103"
     },
     "execution_count": 35,
     "metadata": {},
     "output_type": "execute_result"
    }
   ],
   "source": [
    "from sklearn.neighbors import KNeighborsClassifier\n",
    "\n",
    "classifier=KNeighborsClassifier(n_neighbors=5,weights = 'distance', metric='minkowski',p=2)\n",
    "classifier.fit(X_train_encode,y_train_encode)\n",
    "y_pred=classifier.predict(X_test_encode)\n",
    "acc=accuracy_score(y_test_encode, y_pred)\n",
    "print('accuracy of KNN Model: {}'.format(acc))"
   ],
   "metadata": {
    "collapsed": false,
    "pycharm": {
     "name": "#%%\n"
    }
   }
  },
  {
   "cell_type": "code",
   "execution_count": 36,
   "outputs": [
    {
     "data": {
      "text/plain": "Text(0.5, 0, 'False Positive Rate')"
     },
     "execution_count": 36,
     "metadata": {},
     "output_type": "execute_result"
    },
    {
     "data": {
      "text/plain": "<Figure size 720x720 with 1 Axes>",
      "image/png": "[encoded data removed]"
     },
     "metadata": {
      "needs_background": "light"
     },
     "output_type": "display_data"
    }
   ],
   "source": [
    "plt.figure(figsize=(10,10))\n",
    "plt.title('Receiver Operating Characteristic')\n",
    "plt.plot(false_positive_rate,true_positive_rate, color='red',label = 'AUC = %0.2f' % roc_auc)\n",
    "plt.legend(loc = 'lower right')\n",
    "plt.plot([0, 1], [0, 1],linestyle='--')\n",
    "plt.axis('tight')\n",
    "plt.ylabel('True Positive Rate')\n",
    "plt.xlabel('False Positive Rate')"
   ],
   "metadata": {
    "collapsed": false,
    "pycharm": {
     "name": "#%%\n"
    }
   }
  },
  {
   "cell_type": "markdown",
   "source": [
    "### 2.5 KNN"
   ],
   "metadata": {
    "collapsed": false,
    "pycharm": {
     "name": "#%% md\n"
    }
   }
  },
  {
   "cell_type": "code",
   "execution_count": 37,
   "outputs": [
    {
     "name": "stdout",
     "output_type": "stream",
     "text": [
      "1.0\n"
     ]
    }
   ],
   "source": [
    "from sklearn.neighbors import KNeighborsClassifier\n",
    "\n",
    "classifier=KNeighborsClassifier(n_neighbors=5,weights = 'distance', metric='minkowski',p=2)\n",
    "classifier.fit(X_train_encode,y_train_encode)\n",
    "y_pred=classifier.predict(X_test_encode)\n",
    "acc=accuracy_score(y_test_encode, y_pred)\n",
    "print(acc)"
   ],
   "metadata": {
    "collapsed": false,
    "pycharm": {
     "name": "#%%\n"
    }
   }
  }
 ],
 "metadata": {
  "kernelspec": {
   "display_name": "Python 3",
   "language": "python",
   "name": "python3"
  },
  "language_info": {
   "codemirror_mode": {
    "name": "ipython",
    "version": 2
   },
   "file_extension": ".py",
   "mimetype": "text/x-python",
   "name": "python",
   "nbconvert_exporter": "python",
   "pygments_lexer": "ipython2",
   "version": "2.7.6"
  }
 },
 "nbformat": 4,
 "nbformat_minor": 0
}