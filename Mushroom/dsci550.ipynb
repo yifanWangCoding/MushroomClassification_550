{
 "cells": [
  {
   "cell_type": "code",
   "execution_count": 1,
   "outputs": [],
   "source": [
    "# test\n",
    "#test ruru\n",
    "# test up"
   ],
   "metadata": {
    "collapsed": false
   }
  },
  {
   "cell_type": "code",
   "execution_count": 2,
   "outputs": [],
   "source": [
    "# test connect\n",
    "import pandas as pd\n",
    "import numpy as np\n",
    "import seaborn as sns\n",
    "import matplotlib.pyplot as plt\n",
    "from sklearn import datasets\n",
    "from sklearn.tree import DecisionTreeClassifier\n",
    "from sklearn import tree\n",
    "from sklearn import metrics\n",
    "from sklearn.model_selection import train_test_split"
   ],
   "metadata": {
    "collapsed": false
   }
  },
  {
   "cell_type": "markdown",
   "source": [
    "# phase 1: Exploratory Data Analysis"
   ],
   "metadata": {
    "collapsed": false
   }
  },
  {
   "cell_type": "code",
   "execution_count": 37,
   "outputs": [
    {
     "data": {
      "text/plain": "  class cap-shape cap-surface cap-color bruises odor gill-attachment  \\\n0     p         x           s         n       t    p               f   \n1     e         x           s         y       t    a               f   \n2     e         b           s         w       t    l               f   \n3     p         x           y         w       t    p               f   \n4     e         x           s         g       f    n               f   \n\n  gill-spacing gill-size gill-color  ... stalk-surface-below-ring  \\\n0            c         n          k  ...                        s   \n1            c         b          k  ...                        s   \n2            c         b          n  ...                        s   \n3            c         n          n  ...                        s   \n4            w         b          k  ...                        s   \n\n  stalk-color-above-ring stalk-color-below-ring veil-type veil-color  \\\n0                      w                      w         p          w   \n1                      w                      w         p          w   \n2                      w                      w         p          w   \n3                      w                      w         p          w   \n4                      w                      w         p          w   \n\n  ring-number ring-type spore-print-color population habitat  \n0           o         p                 k          s       u  \n1           o         p                 n          n       g  \n2           o         p                 n          n       m  \n3           o         p                 k          s       u  \n4           o         e                 n          a       g  \n\n[5 rows x 23 columns]",
      "text/html": "<div>\n<style scoped>\n    .dataframe tbody tr th:only-of-type {\n        vertical-align: middle;\n    }\n\n    .dataframe tbody tr th {\n        vertical-align: top;\n    }\n\n    .dataframe thead th {\n        text-align: right;\n    }\n</style>\n<table border=\"1\" class=\"dataframe\">\n  <thead>\n    <tr style=\"text-align: right;\">\n      <th></th>\n      <th>class</th>\n      <th>cap-shape</th>\n      <th>cap-surface</th>\n      <th>cap-color</th>\n      <th>bruises</th>\n      <th>odor</th>\n      <th>gill-attachment</th>\n      <th>gill-spacing</th>\n      <th>gill-size</th>\n      <th>gill-color</th>\n      <th>...</th>\n      <th>stalk-surface-below-ring</th>\n      <th>stalk-color-above-ring</th>\n      <th>stalk-color-below-ring</th>\n      <th>veil-type</th>\n      <th>veil-color</th>\n      <th>ring-number</th>\n      <th>ring-type</th>\n      <th>spore-print-color</th>\n      <th>population</th>\n      <th>habitat</th>\n    </tr>\n  </thead>\n  <tbody>\n    <tr>\n      <td>0</td>\n      <td>p</td>\n      <td>x</td>\n      <td>s</td>\n      <td>n</td>\n      <td>t</td>\n      <td>p</td>\n      <td>f</td>\n      <td>c</td>\n      <td>n</td>\n      <td>k</td>\n      <td>...</td>\n      <td>s</td>\n      <td>w</td>\n      <td>w</td>\n      <td>p</td>\n      <td>w</td>\n      <td>o</td>\n      <td>p</td>\n      <td>k</td>\n      <td>s</td>\n      <td>u</td>\n    </tr>\n    <tr>\n      <td>1</td>\n      <td>e</td>\n      <td>x</td>\n      <td>s</td>\n      <td>y</td>\n      <td>t</td>\n      <td>a</td>\n      <td>f</td>\n      <td>c</td>\n      <td>b</td>\n      <td>k</td>\n      <td>...</td>\n      <td>s</td>\n      <td>w</td>\n      <td>w</td>\n      <td>p</td>\n      <td>w</td>\n      <td>o</td>\n      <td>p</td>\n      <td>n</td>\n      <td>n</td>\n      <td>g</td>\n    </tr>\n    <tr>\n      <td>2</td>\n      <td>e</td>\n      <td>b</td>\n      <td>s</td>\n      <td>w</td>\n      <td>t</td>\n      <td>l</td>\n      <td>f</td>\n      <td>c</td>\n      <td>b</td>\n      <td>n</td>\n      <td>...</td>\n      <td>s</td>\n      <td>w</td>\n      <td>w</td>\n      <td>p</td>\n      <td>w</td>\n      <td>o</td>\n      <td>p</td>\n      <td>n</td>\n      <td>n</td>\n      <td>m</td>\n    </tr>\n    <tr>\n      <td>3</td>\n      <td>p</td>\n      <td>x</td>\n      <td>y</td>\n      <td>w</td>\n      <td>t</td>\n      <td>p</td>\n      <td>f</td>\n      <td>c</td>\n      <td>n</td>\n      <td>n</td>\n      <td>...</td>\n      <td>s</td>\n      <td>w</td>\n      <td>w</td>\n      <td>p</td>\n      <td>w</td>\n      <td>o</td>\n      <td>p</td>\n      <td>k</td>\n      <td>s</td>\n      <td>u</td>\n    </tr>\n    <tr>\n      <td>4</td>\n      <td>e</td>\n      <td>x</td>\n      <td>s</td>\n      <td>g</td>\n      <td>f</td>\n      <td>n</td>\n      <td>f</td>\n      <td>w</td>\n      <td>b</td>\n      <td>k</td>\n      <td>...</td>\n      <td>s</td>\n      <td>w</td>\n      <td>w</td>\n      <td>p</td>\n      <td>w</td>\n      <td>o</td>\n      <td>e</td>\n      <td>n</td>\n      <td>a</td>\n      <td>g</td>\n    </tr>\n  </tbody>\n</table>\n<p>5 rows × 23 columns</p>\n</div>"
     },
     "execution_count": 37,
     "metadata": {},
     "output_type": "execute_result"
    }
   ],
   "source": [
    "# read data\n",
    "# note to up and ruru : change path before run it\n",
    "# mushroom = pd.read_csv('/Users/yifanwang/Desktop/DSCI550/550project/mushrooms.csv')\n",
    "mushroom = pd.read_csv('/Users\\Wenyu\\Desktop\\DSCI 550 Data Science at Scale\\project/mushrooms.csv')\n",
    "mushroom.head()"
   ],
   "metadata": {
    "collapsed": false
   }
  },
  {
   "cell_type": "code",
   "execution_count": 38,
   "outputs": [
    {
     "name": "stdout",
     "output_type": "stream",
     "text": [
      "<class 'pandas.core.frame.DataFrame'>\n",
      "RangeIndex: 8124 entries, 0 to 8123\n",
      "Data columns (total 23 columns):\n",
      "class                       8124 non-null object\n",
      "cap-shape                   8124 non-null object\n",
      "cap-surface                 8124 non-null object\n",
      "cap-color                   8124 non-null object\n",
      "bruises                     8124 non-null object\n",
      "odor                        8124 non-null object\n",
      "gill-attachment             8124 non-null object\n",
      "gill-spacing                8124 non-null object\n",
      "gill-size                   8124 non-null object\n",
      "gill-color                  8124 non-null object\n",
      "stalk-shape                 8124 non-null object\n",
      "stalk-root                  8124 non-null object\n",
      "stalk-surface-above-ring    8124 non-null object\n",
      "stalk-surface-below-ring    8124 non-null object\n",
      "stalk-color-above-ring      8124 non-null object\n",
      "stalk-color-below-ring      8124 non-null object\n",
      "veil-type                   8124 non-null object\n",
      "veil-color                  8124 non-null object\n",
      "ring-number                 8124 non-null object\n",
      "ring-type                   8124 non-null object\n",
      "spore-print-color           8124 non-null object\n",
      "population                  8124 non-null object\n",
      "habitat                     8124 non-null object\n",
      "dtypes: object(23)\n",
      "memory usage: 1.4+ MB\n"
     ]
    }
   ],
   "source": [
    "mushroom.info()"
   ],
   "metadata": {
    "collapsed": false
   }
  },
  {
   "cell_type": "markdown",
   "source": [
    "From this quick overview, we can see:\n",
    "1. There is no null value in the entire dataset.\n",
    "2. All variables are categorical variable.\n",
    "3. ......"
   ],
   "metadata": {
    "collapsed": false
   }
  },
  {
   "cell_type": "code",
   "execution_count": 39,
   "outputs": [
    {
     "data": {
      "text/plain": "       class cap-shape cap-surface cap-color bruises  odor gill-attachment  \\\ncount   8124      8124        8124      8124    8124  8124            8124   \nunique     2         6           4        10       2     9               2   \ntop        e         x           y         n       f     n               f   \nfreq    4208      3656        3244      2284    4748  3528            7914   \n\n       gill-spacing gill-size gill-color  ... stalk-surface-below-ring  \\\ncount          8124      8124       8124  ...                     8124   \nunique            2         2         12  ...                        4   \ntop               c         b          b  ...                        s   \nfreq           6812      5612       1728  ...                     4936   \n\n       stalk-color-above-ring stalk-color-below-ring veil-type veil-color  \\\ncount                    8124                   8124      8124       8124   \nunique                      9                      9         1          4   \ntop                         w                      w         p          w   \nfreq                     4464                   4384      8124       7924   \n\n       ring-number ring-type spore-print-color population habitat  \ncount         8124      8124              8124       8124    8124  \nunique           3         5                 9          6       7  \ntop              o         p                 w          v       d  \nfreq          7488      3968              2388       4040    3148  \n\n[4 rows x 23 columns]",
      "text/html": "<div>\n<style scoped>\n    .dataframe tbody tr th:only-of-type {\n        vertical-align: middle;\n    }\n\n    .dataframe tbody tr th {\n        vertical-align: top;\n    }\n\n    .dataframe thead th {\n        text-align: right;\n    }\n</style>\n<table border=\"1\" class=\"dataframe\">\n  <thead>\n    <tr style=\"text-align: right;\">\n      <th></th>\n      <th>class</th>\n      <th>cap-shape</th>\n      <th>cap-surface</th>\n      <th>cap-color</th>\n      <th>bruises</th>\n      <th>odor</th>\n      <th>gill-attachment</th>\n      <th>gill-spacing</th>\n      <th>gill-size</th>\n      <th>gill-color</th>\n      <th>...</th>\n      <th>stalk-surface-below-ring</th>\n      <th>stalk-color-above-ring</th>\n      <th>stalk-color-below-ring</th>\n      <th>veil-type</th>\n      <th>veil-color</th>\n      <th>ring-number</th>\n      <th>ring-type</th>\n      <th>spore-print-color</th>\n      <th>population</th>\n      <th>habitat</th>\n    </tr>\n  </thead>\n  <tbody>\n    <tr>\n      <td>count</td>\n      <td>8124</td>\n      <td>8124</td>\n      <td>8124</td>\n      <td>8124</td>\n      <td>8124</td>\n      <td>8124</td>\n      <td>8124</td>\n      <td>8124</td>\n      <td>8124</td>\n      <td>8124</td>\n      <td>...</td>\n      <td>8124</td>\n      <td>8124</td>\n      <td>8124</td>\n      <td>8124</td>\n      <td>8124</td>\n      <td>8124</td>\n      <td>8124</td>\n      <td>8124</td>\n      <td>8124</td>\n      <td>8124</td>\n    </tr>\n    <tr>\n      <td>unique</td>\n      <td>2</td>\n      <td>6</td>\n      <td>4</td>\n      <td>10</td>\n      <td>2</td>\n      <td>9</td>\n      <td>2</td>\n      <td>2</td>\n      <td>2</td>\n      <td>12</td>\n      <td>...</td>\n      <td>4</td>\n      <td>9</td>\n      <td>9</td>\n      <td>1</td>\n      <td>4</td>\n      <td>3</td>\n      <td>5</td>\n      <td>9</td>\n      <td>6</td>\n      <td>7</td>\n    </tr>\n    <tr>\n      <td>top</td>\n      <td>e</td>\n      <td>x</td>\n      <td>y</td>\n      <td>n</td>\n      <td>f</td>\n      <td>n</td>\n      <td>f</td>\n      <td>c</td>\n      <td>b</td>\n      <td>b</td>\n      <td>...</td>\n      <td>s</td>\n      <td>w</td>\n      <td>w</td>\n      <td>p</td>\n      <td>w</td>\n      <td>o</td>\n      <td>p</td>\n      <td>w</td>\n      <td>v</td>\n      <td>d</td>\n    </tr>\n    <tr>\n      <td>freq</td>\n      <td>4208</td>\n      <td>3656</td>\n      <td>3244</td>\n      <td>2284</td>\n      <td>4748</td>\n      <td>3528</td>\n      <td>7914</td>\n      <td>6812</td>\n      <td>5612</td>\n      <td>1728</td>\n      <td>...</td>\n      <td>4936</td>\n      <td>4464</td>\n      <td>4384</td>\n      <td>8124</td>\n      <td>7924</td>\n      <td>7488</td>\n      <td>3968</td>\n      <td>2388</td>\n      <td>4040</td>\n      <td>3148</td>\n    </tr>\n  </tbody>\n</table>\n<p>4 rows × 23 columns</p>\n</div>"
     },
     "execution_count": 39,
     "metadata": {},
     "output_type": "execute_result"
    }
   ],
   "source": [
    "mushroom.describe()"
   ],
   "metadata": {
    "collapsed": false
   }
  },
  {
   "cell_type": "code",
   "execution_count": 40,
   "outputs": [
    {
     "data": {
      "text/plain": "<matplotlib.axes._subplots.AxesSubplot at 0x17c3848df48>"
     },
     "execution_count": 40,
     "metadata": {},
     "output_type": "execute_result"
    },
    {
     "data": {
      "text/plain": "<Figure size 432x288 with 1 Axes>",
      "image/png": "[encoded data removed]"
     },
     "metadata": {
      "needs_background": "light"
     },
     "output_type": "display_data"
    }
   ],
   "source": [
    "sns.countplot(data = mushroom, x = 'class')"
   ],
   "metadata": {
    "collapsed": false
   }
  },
  {
   "cell_type": "markdown",
   "source": [
    "The ratio of poisonous and edible mushroom is about 1:1"
   ],
   "metadata": {
    "collapsed": false
   }
  },
  {
   "cell_type": "code",
   "execution_count": 41,
   "outputs": [
    {
     "data": {
      "text/plain": "<Figure size 1080x720 with 2 Axes>",
      "image/png": "[encoded data removed]"
     },
     "metadata": {
      "needs_background": "light"
     },
     "output_type": "display_data"
    },
    {
     "data": {
      "text/plain": "<Figure size 1080x720 with 3 Axes>",
      "image/png": "[encoded data removed]"
     },
     "metadata": {
      "needs_background": "light"
     },
     "output_type": "display_data"
    },
    {
     "data": {
      "text/plain": "<Figure size 1080x720 with 3 Axes>",
      "image/png": "[encoded data removed]"
     },
     "metadata": {
      "needs_background": "light"
     },
     "output_type": "display_data"
    },
    {
     "data": {
      "text/plain": "<Figure size 1080x720 with 3 Axes>",
      "image/png": "[encoded data removed]"
     },
     "metadata": {
      "needs_background": "light"
     },
     "output_type": "display_data"
    },
    {
     "data": {
      "text/plain": "<Figure size 1080x720 with 3 Axes>",
      "image/png": "[encoded data removed]"
     },
     "metadata": {
      "needs_background": "light"
     },
     "output_type": "display_data"
    },
    {
     "data": {
      "text/plain": "<Figure size 1080x720 with 3 Axes>",
      "image/png": "[encoded data removed]"
     },
     "metadata": {
      "needs_background": "light"
     },
     "output_type": "display_data"
    },
    {
     "data": {
      "text/plain": "<Figure size 1080x720 with 3 Axes>",
      "image/png": "[encoded data removed]"
     },
     "metadata": {
      "needs_background": "light"
     },
     "output_type": "display_data"
    },
    {
     "data": {
      "text/plain": "<Figure size 1080x720 with 2 Axes>",
      "image/png": "[encoded data removed]"
     },
     "metadata": {
      "needs_background": "light"
     },
     "output_type": "display_data"
    }
   ],
   "source": [
    "# draw countplot to see the frequency of each cat variables.\n",
    "ix = 1\n",
    "fig = plt.figure(figsize = (15,10))\n",
    "for c in list(mushroom.columns):\n",
    "    if ix <= 3:\n",
    "        if c != 'class':\n",
    "            ax1 = fig.add_subplot(2,3,ix)\n",
    "            sns.countplot(data = mushroom, x=c, ax = ax1)\n",
    "    ix = ix +1\n",
    "    if ix == 4:\n",
    "        fig = plt.figure(figsize = (15,10))\n",
    "        ix =1"
   ],
   "metadata": {
    "collapsed": false
   }
  },
  {
   "cell_type": "markdown",
   "source": [
    "# phase 2: machine learning models\n",
    "\n",
    "## 2.1 Decision Tree"
   ],
   "metadata": {
    "collapsed": false
   }
  },
  {
   "cell_type": "code",
   "execution_count": 42,
   "outputs": [],
   "source": [
    "# split dataset in features and target variable\n",
    "# features\n",
    "features = ['cap-shape', 'cap-surface', 'cap-color', 'bruises', 'odor',\n",
    "            'gill-attachment', 'gill-spacing', 'gill-size', 'gill-color',\n",
    "            'stalk-shape', 'stalk-root', 'stalk-surface-above-ring',\n",
    "            'stalk-surface-below-ring', 'stalk-color-above-ring',\n",
    "            'stalk-color-below-ring', 'veil-type', 'veil-color', 'ring-number',\n",
    "            'ring-type', 'spore-print-color', 'population', 'habitat']\n",
    "X = mushroom[features]\n",
    "# target variable\n",
    "y = mushroom['class']"
   ],
   "metadata": {
    "collapsed": false
   }
  },
  {
   "cell_type": "code",
   "execution_count": 43,
   "outputs": [],
   "source": [
    "# Split dataset into training set and test set\n",
    "# 70% training and 30% test\n",
    "X_train, X_test, y_train, y_test = train_test_split(X, y, test_size=0.3, random_state=1)"
   ],
   "metadata": {
    "collapsed": false
   }
  },
  {
   "cell_type": "markdown",
   "source": [],
   "metadata": {
    "collapsed": false
   }
  },
  {
   "cell_type": "markdown",
   "source": [
    "### 2.1.1 Catboost"
   ],
   "metadata": {
    "collapsed": false
   }
  },
  {
   "cell_type": "markdown",
   "source": [
    "Use catboost package to do the decision tree model first.\n",
    "The advantage of the package is it can deal with categorical variables easily."
   ],
   "metadata": {
    "collapsed": false
   }
  },
  {
   "cell_type": "code",
   "execution_count": 44,
   "outputs": [
    {
     "name": "stdout",
     "output_type": "stream",
     "text": [
      "Learning rate set to 0.021639\n",
      "0:\tlearn: 0.6362644\ttotal: 190ms\tremaining: 3m 9s\n",
      "1:\tlearn: 0.5814129\ttotal: 259ms\tremaining: 2m 9s\n",
      "2:\tlearn: 0.5330156\ttotal: 302ms\tremaining: 1m 40s\n",
      "3:\tlearn: 0.4901635\ttotal: 331ms\tremaining: 1m 22s\n",
      "4:\tlearn: 0.4516339\ttotal: 368ms\tremaining: 1m 13s\n",
      "5:\tlearn: 0.4146539\ttotal: 399ms\tremaining: 1m 6s\n",
      "6:\tlearn: 0.3831535\ttotal: 443ms\tremaining: 1m 2s\n",
      "7:\tlearn: 0.3551525\ttotal: 470ms\tremaining: 58.2s\n",
      "8:\tlearn: 0.3242526\ttotal: 500ms\tremaining: 55s\n",
      "9:\tlearn: 0.3014048\ttotal: 522ms\tremaining: 51.6s\n",
      "10:\tlearn: 0.2850261\ttotal: 536ms\tremaining: 48.2s\n",
      "11:\tlearn: 0.2643300\ttotal: 585ms\tremaining: 48.1s\n",
      "12:\tlearn: 0.2426909\ttotal: 641ms\tremaining: 48.6s\n",
      "13:\tlearn: 0.2297347\ttotal: 664ms\tremaining: 46.8s\n",
      "14:\tlearn: 0.2171413\ttotal: 684ms\tremaining: 44.9s\n",
      "15:\tlearn: 0.1942192\ttotal: 735ms\tremaining: 45.2s\n",
      "16:\tlearn: 0.1739172\ttotal: 789ms\tremaining: 45.6s\n",
      "17:\tlearn: 0.1559210\ttotal: 829ms\tremaining: 45.2s\n",
      "18:\tlearn: 0.1401947\ttotal: 890ms\tremaining: 46s\n",
      "19:\tlearn: 0.1296692\ttotal: 948ms\tremaining: 46.5s\n",
      "20:\tlearn: 0.1177598\ttotal: 997ms\tremaining: 46.5s\n",
      "21:\tlearn: 0.1063690\ttotal: 1.04s\tremaining: 46.4s\n",
      "22:\tlearn: 0.0962289\ttotal: 1.08s\tremaining: 46.1s\n",
      "23:\tlearn: 0.0876144\ttotal: 1.13s\tremaining: 46s\n",
      "24:\tlearn: 0.0816369\ttotal: 1.19s\tremaining: 46.4s\n",
      "25:\tlearn: 0.0744891\ttotal: 1.25s\tremaining: 46.7s\n",
      "26:\tlearn: 0.0680442\ttotal: 1.28s\tremaining: 46.3s\n",
      "27:\tlearn: 0.0622639\ttotal: 1.33s\tremaining: 46.3s\n",
      "28:\tlearn: 0.0573734\ttotal: 1.38s\tremaining: 46.3s\n",
      "29:\tlearn: 0.0531862\ttotal: 1.45s\tremaining: 46.7s\n",
      "30:\tlearn: 0.0491335\ttotal: 1.5s\tremaining: 47s\n",
      "31:\tlearn: 0.0453532\ttotal: 1.55s\tremaining: 47s\n",
      "32:\tlearn: 0.0419682\ttotal: 1.61s\tremaining: 47.3s\n",
      "33:\tlearn: 0.0390401\ttotal: 1.68s\tremaining: 47.7s\n",
      "34:\tlearn: 0.0363097\ttotal: 1.75s\tremaining: 48.3s\n",
      "35:\tlearn: 0.0338151\ttotal: 1.81s\tremaining: 48.6s\n",
      "36:\tlearn: 0.0314615\ttotal: 1.88s\tremaining: 48.9s\n",
      "37:\tlearn: 0.0293301\ttotal: 1.95s\tremaining: 49.4s\n",
      "38:\tlearn: 0.0274516\ttotal: 2.01s\tremaining: 49.6s\n",
      "39:\tlearn: 0.0255376\ttotal: 2.07s\tremaining: 49.7s\n",
      "40:\tlearn: 0.0237908\ttotal: 2.13s\tremaining: 49.9s\n",
      "41:\tlearn: 0.0224359\ttotal: 2.19s\tremaining: 50.1s\n",
      "42:\tlearn: 0.0211354\ttotal: 2.25s\tremaining: 50.1s\n",
      "43:\tlearn: 0.0199839\ttotal: 2.3s\tremaining: 50.1s\n",
      "44:\tlearn: 0.0189806\ttotal: 2.35s\tremaining: 49.9s\n",
      "45:\tlearn: 0.0177900\ttotal: 2.4s\tremaining: 49.7s\n",
      "46:\tlearn: 0.0167804\ttotal: 2.45s\tremaining: 49.7s\n",
      "47:\tlearn: 0.0157644\ttotal: 2.51s\tremaining: 49.8s\n",
      "48:\tlearn: 0.0149221\ttotal: 2.58s\tremaining: 50s\n",
      "49:\tlearn: 0.0142323\ttotal: 2.64s\tremaining: 50.1s\n",
      "50:\tlearn: 0.0136271\ttotal: 2.71s\tremaining: 50.4s\n",
      "51:\tlearn: 0.0130850\ttotal: 2.79s\tremaining: 50.9s\n",
      "52:\tlearn: 0.0124613\ttotal: 2.87s\tremaining: 51.2s\n",
      "53:\tlearn: 0.0119108\ttotal: 2.94s\tremaining: 51.5s\n",
      "54:\tlearn: 0.0117626\ttotal: 3s\tremaining: 51.6s\n",
      "55:\tlearn: 0.0112843\ttotal: 3.05s\tremaining: 51.4s\n",
      "56:\tlearn: 0.0108187\ttotal: 3.1s\tremaining: 51.3s\n",
      "57:\tlearn: 0.0104978\ttotal: 3.17s\tremaining: 51.5s\n",
      "58:\tlearn: 0.0101166\ttotal: 3.23s\tremaining: 51.5s\n",
      "59:\tlearn: 0.0097214\ttotal: 3.28s\tremaining: 51.4s\n",
      "60:\tlearn: 0.0097005\ttotal: 3.35s\tremaining: 51.6s\n",
      "61:\tlearn: 0.0096298\ttotal: 3.41s\tremaining: 51.5s\n",
      "62:\tlearn: 0.0095355\ttotal: 3.47s\tremaining: 51.6s\n",
      "63:\tlearn: 0.0091044\ttotal: 3.54s\tremaining: 51.7s\n",
      "64:\tlearn: 0.0090775\ttotal: 3.61s\tremaining: 52s\n",
      "65:\tlearn: 0.0090632\ttotal: 3.7s\tremaining: 52.4s\n",
      "66:\tlearn: 0.0089064\ttotal: 3.77s\tremaining: 52.4s\n",
      "67:\tlearn: 0.0088870\ttotal: 3.84s\tremaining: 52.6s\n",
      "68:\tlearn: 0.0088770\ttotal: 3.9s\tremaining: 52.6s\n",
      "69:\tlearn: 0.0088691\ttotal: 3.93s\tremaining: 52.2s\n",
      "70:\tlearn: 0.0086709\ttotal: 3.99s\tremaining: 52.3s\n",
      "71:\tlearn: 0.0085706\ttotal: 4.05s\tremaining: 52.2s\n",
      "72:\tlearn: 0.0083176\ttotal: 4.1s\tremaining: 52.1s\n",
      "73:\tlearn: 0.0082047\ttotal: 4.16s\tremaining: 52s\n",
      "74:\tlearn: 0.0081974\ttotal: 4.2s\tremaining: 51.7s\n",
      "75:\tlearn: 0.0081720\ttotal: 4.24s\tremaining: 51.5s\n",
      "76:\tlearn: 0.0080951\ttotal: 4.29s\tremaining: 51.4s\n",
      "77:\tlearn: 0.0080873\ttotal: 4.32s\tremaining: 51.1s\n",
      "78:\tlearn: 0.0080508\ttotal: 4.37s\tremaining: 50.9s\n",
      "79:\tlearn: 0.0079363\ttotal: 4.42s\tremaining: 50.8s\n",
      "80:\tlearn: 0.0079276\ttotal: 4.45s\tremaining: 50.5s\n",
      "81:\tlearn: 0.0079133\ttotal: 4.49s\tremaining: 50.3s\n",
      "82:\tlearn: 0.0078044\ttotal: 4.55s\tremaining: 50.3s\n",
      "83:\tlearn: 0.0077135\ttotal: 4.6s\tremaining: 50.2s\n",
      "84:\tlearn: 0.0076621\ttotal: 4.66s\tremaining: 50.1s\n",
      "85:\tlearn: 0.0076549\ttotal: 4.69s\tremaining: 49.8s\n",
      "86:\tlearn: 0.0076431\ttotal: 4.74s\tremaining: 49.8s\n",
      "87:\tlearn: 0.0076161\ttotal: 4.79s\tremaining: 49.6s\n",
      "88:\tlearn: 0.0076018\ttotal: 4.83s\tremaining: 49.5s\n",
      "89:\tlearn: 0.0075469\ttotal: 4.88s\tremaining: 49.4s\n",
      "90:\tlearn: 0.0075286\ttotal: 4.93s\tremaining: 49.3s\n",
      "91:\tlearn: 0.0074664\ttotal: 4.99s\tremaining: 49.2s\n",
      "92:\tlearn: 0.0074585\ttotal: 5.04s\tremaining: 49.1s\n",
      "93:\tlearn: 0.0072753\ttotal: 5.09s\tremaining: 49s\n",
      "94:\tlearn: 0.0072670\ttotal: 5.15s\tremaining: 49s\n",
      "95:\tlearn: 0.0072341\ttotal: 5.2s\tremaining: 49s\n",
      "96:\tlearn: 0.0070942\ttotal: 5.25s\tremaining: 48.8s\n",
      "97:\tlearn: 0.0070818\ttotal: 5.3s\tremaining: 48.8s\n",
      "98:\tlearn: 0.0069311\ttotal: 5.35s\tremaining: 48.7s\n",
      "99:\tlearn: 0.0068978\ttotal: 5.39s\tremaining: 48.5s\n",
      "100:\tlearn: 0.0068890\ttotal: 5.43s\tremaining: 48.4s\n",
      "101:\tlearn: 0.0067990\ttotal: 5.49s\tremaining: 48.3s\n",
      "102:\tlearn: 0.0067700\ttotal: 5.54s\tremaining: 48.2s\n",
      "103:\tlearn: 0.0067306\ttotal: 5.59s\tremaining: 48.2s\n",
      "104:\tlearn: 0.0066456\ttotal: 5.65s\tremaining: 48.1s\n",
      "105:\tlearn: 0.0064894\ttotal: 5.71s\tremaining: 48.1s\n",
      "106:\tlearn: 0.0063676\ttotal: 5.77s\tremaining: 48.2s\n",
      "107:\tlearn: 0.0062563\ttotal: 5.82s\tremaining: 48.1s\n",
      "108:\tlearn: 0.0062178\ttotal: 5.87s\tremaining: 48s\n",
      "109:\tlearn: 0.0062178\ttotal: 5.89s\tremaining: 47.6s\n",
      "110:\tlearn: 0.0060919\ttotal: 5.94s\tremaining: 47.6s\n",
      "111:\tlearn: 0.0060804\ttotal: 5.99s\tremaining: 47.5s\n",
      "112:\tlearn: 0.0059694\ttotal: 6.05s\tremaining: 47.5s\n",
      "113:\tlearn: 0.0059047\ttotal: 6.11s\tremaining: 47.5s\n",
      "114:\tlearn: 0.0058053\ttotal: 6.17s\tremaining: 47.5s\n",
      "115:\tlearn: 0.0057490\ttotal: 6.22s\tremaining: 47.4s\n",
      "116:\tlearn: 0.0056021\ttotal: 6.28s\tremaining: 47.4s\n",
      "117:\tlearn: 0.0056021\ttotal: 6.29s\tremaining: 47s\n",
      "118:\tlearn: 0.0055280\ttotal: 6.34s\tremaining: 46.9s\n",
      "119:\tlearn: 0.0054602\ttotal: 6.39s\tremaining: 46.8s\n",
      "120:\tlearn: 0.0053960\ttotal: 6.44s\tremaining: 46.8s\n",
      "121:\tlearn: 0.0053746\ttotal: 6.49s\tremaining: 46.7s\n",
      "122:\tlearn: 0.0053578\ttotal: 6.55s\tremaining: 46.7s\n",
      "123:\tlearn: 0.0052414\ttotal: 6.61s\tremaining: 46.7s\n",
      "124:\tlearn: 0.0052350\ttotal: 6.66s\tremaining: 46.6s\n",
      "125:\tlearn: 0.0052043\ttotal: 6.71s\tremaining: 46.6s\n",
      "126:\tlearn: 0.0051914\ttotal: 6.77s\tremaining: 46.6s\n",
      "127:\tlearn: 0.0050926\ttotal: 6.82s\tremaining: 46.5s\n",
      "128:\tlearn: 0.0050823\ttotal: 6.87s\tremaining: 46.4s\n",
      "129:\tlearn: 0.0050118\ttotal: 6.92s\tremaining: 46.3s\n",
      "130:\tlearn: 0.0050118\ttotal: 6.94s\tremaining: 46s\n",
      "131:\tlearn: 0.0049794\ttotal: 7.04s\tremaining: 46.3s\n",
      "132:\tlearn: 0.0048803\ttotal: 7.13s\tremaining: 46.5s\n",
      "133:\tlearn: 0.0048683\ttotal: 7.21s\tremaining: 46.6s\n",
      "134:\tlearn: 0.0048611\ttotal: 7.27s\tremaining: 46.6s\n",
      "135:\tlearn: 0.0048532\ttotal: 7.33s\tremaining: 46.5s\n",
      "136:\tlearn: 0.0047959\ttotal: 7.51s\tremaining: 47.3s\n",
      "137:\tlearn: 0.0047877\ttotal: 7.63s\tremaining: 47.7s\n",
      "138:\tlearn: 0.0047877\ttotal: 7.66s\tremaining: 47.5s\n",
      "139:\tlearn: 0.0047877\ttotal: 7.68s\tremaining: 47.2s\n",
      "140:\tlearn: 0.0047442\ttotal: 7.78s\tremaining: 47.4s\n",
      "141:\tlearn: 0.0047064\ttotal: 7.84s\tremaining: 47.4s\n",
      "142:\tlearn: 0.0047064\ttotal: 7.86s\tremaining: 47.1s\n",
      "143:\tlearn: 0.0046858\ttotal: 7.95s\tremaining: 47.3s\n",
      "144:\tlearn: 0.0046730\ttotal: 8.03s\tremaining: 47.4s\n",
      "145:\tlearn: 0.0045729\ttotal: 8.1s\tremaining: 47.4s\n",
      "146:\tlearn: 0.0044589\ttotal: 8.23s\tremaining: 47.8s\n",
      "147:\tlearn: 0.0043269\ttotal: 8.3s\tremaining: 47.8s\n",
      "148:\tlearn: 0.0043269\ttotal: 8.35s\tremaining: 47.7s\n",
      "149:\tlearn: 0.0042248\ttotal: 8.4s\tremaining: 47.6s\n",
      "150:\tlearn: 0.0041818\ttotal: 8.46s\tremaining: 47.6s\n",
      "151:\tlearn: 0.0041761\ttotal: 8.51s\tremaining: 47.5s\n",
      "152:\tlearn: 0.0041585\ttotal: 8.56s\tremaining: 47.4s\n",
      "153:\tlearn: 0.0041516\ttotal: 8.62s\tremaining: 47.3s\n",
      "154:\tlearn: 0.0040314\ttotal: 8.67s\tremaining: 47.3s\n",
      "155:\tlearn: 0.0040078\ttotal: 8.73s\tremaining: 47.2s\n",
      "156:\tlearn: 0.0039390\ttotal: 8.79s\tremaining: 47.2s\n",
      "157:\tlearn: 0.0039373\ttotal: 8.85s\tremaining: 47.2s\n",
      "158:\tlearn: 0.0039373\ttotal: 8.87s\tremaining: 46.9s\n",
      "159:\tlearn: 0.0039273\ttotal: 8.92s\tremaining: 46.8s\n",
      "160:\tlearn: 0.0039273\ttotal: 8.95s\tremaining: 46.6s\n",
      "161:\tlearn: 0.0039106\ttotal: 8.99s\tremaining: 46.5s\n",
      "162:\tlearn: 0.0038783\ttotal: 9.04s\tremaining: 46.4s\n",
      "163:\tlearn: 0.0038783\ttotal: 9.07s\tremaining: 46.3s\n",
      "164:\tlearn: 0.0038436\ttotal: 9.12s\tremaining: 46.2s\n",
      "165:\tlearn: 0.0038436\ttotal: 9.17s\tremaining: 46.1s\n",
      "166:\tlearn: 0.0038098\ttotal: 9.23s\tremaining: 46s\n",
      "167:\tlearn: 0.0038032\ttotal: 9.27s\tremaining: 45.9s\n",
      "168:\tlearn: 0.0037904\ttotal: 9.32s\tremaining: 45.8s\n",
      "169:\tlearn: 0.0037904\ttotal: 9.37s\tremaining: 45.8s\n",
      "170:\tlearn: 0.0037782\ttotal: 9.42s\tremaining: 45.7s\n",
      "171:\tlearn: 0.0037736\ttotal: 9.48s\tremaining: 45.6s\n",
      "172:\tlearn: 0.0037736\ttotal: 9.53s\tremaining: 45.5s\n",
      "173:\tlearn: 0.0037512\ttotal: 9.59s\tremaining: 45.5s\n",
      "174:\tlearn: 0.0036977\ttotal: 9.65s\tremaining: 45.5s\n",
      "175:\tlearn: 0.0036977\ttotal: 9.72s\tremaining: 45.5s\n",
      "176:\tlearn: 0.0036863\ttotal: 9.78s\tremaining: 45.5s\n",
      "177:\tlearn: 0.0036416\ttotal: 9.85s\tremaining: 45.5s\n",
      "178:\tlearn: 0.0036416\ttotal: 9.86s\tremaining: 45.2s\n",
      "179:\tlearn: 0.0036416\ttotal: 9.92s\tremaining: 45.2s\n",
      "180:\tlearn: 0.0036242\ttotal: 9.97s\tremaining: 45.1s\n",
      "181:\tlearn: 0.0036144\ttotal: 10s\tremaining: 45s\n",
      "182:\tlearn: 0.0036144\ttotal: 10.1s\tremaining: 44.9s\n",
      "183:\tlearn: 0.0035889\ttotal: 10.1s\tremaining: 44.8s\n",
      "184:\tlearn: 0.0035045\ttotal: 10.2s\tremaining: 44.7s\n",
      "185:\tlearn: 0.0035045\ttotal: 10.2s\tremaining: 44.5s\n",
      "186:\tlearn: 0.0034799\ttotal: 10.2s\tremaining: 44.4s\n",
      "187:\tlearn: 0.0034799\ttotal: 10.2s\tremaining: 44.3s\n",
      "188:\tlearn: 0.0034691\ttotal: 10.3s\tremaining: 44.2s\n",
      "189:\tlearn: 0.0034691\ttotal: 10.3s\tremaining: 44s\n",
      "190:\tlearn: 0.0034576\ttotal: 10.4s\tremaining: 44.1s\n",
      "191:\tlearn: 0.0034497\ttotal: 10.5s\tremaining: 44.1s\n",
      "192:\tlearn: 0.0034378\ttotal: 10.5s\tremaining: 44s\n",
      "193:\tlearn: 0.0034259\ttotal: 10.6s\tremaining: 43.9s\n",
      "194:\tlearn: 0.0033664\ttotal: 10.7s\tremaining: 44s\n",
      "195:\tlearn: 0.0033594\ttotal: 10.8s\tremaining: 44.2s\n",
      "196:\tlearn: 0.0033594\ttotal: 10.9s\tremaining: 44.2s\n",
      "197:\tlearn: 0.0033411\ttotal: 10.9s\tremaining: 44.3s\n",
      "198:\tlearn: 0.0033410\ttotal: 11s\tremaining: 44.2s\n",
      "199:\tlearn: 0.0033341\ttotal: 11.1s\tremaining: 44.3s\n",
      "200:\tlearn: 0.0033251\ttotal: 11.1s\tremaining: 44.2s\n",
      "201:\tlearn: 0.0033251\ttotal: 11.2s\tremaining: 44.2s\n",
      "202:\tlearn: 0.0032940\ttotal: 11.3s\tremaining: 44.2s\n",
      "203:\tlearn: 0.0032867\ttotal: 11.3s\tremaining: 44.2s\n",
      "204:\tlearn: 0.0032762\ttotal: 11.4s\tremaining: 44.2s\n",
      "205:\tlearn: 0.0032661\ttotal: 11.5s\tremaining: 44.4s\n",
      "206:\tlearn: 0.0032535\ttotal: 11.6s\tremaining: 44.5s\n",
      "207:\tlearn: 0.0032362\ttotal: 11.7s\tremaining: 44.5s\n",
      "208:\tlearn: 0.0031870\ttotal: 11.7s\tremaining: 44.4s\n",
      "209:\tlearn: 0.0031493\ttotal: 11.8s\tremaining: 44.3s\n",
      "210:\tlearn: 0.0031350\ttotal: 11.8s\tremaining: 44.3s\n",
      "211:\tlearn: 0.0031257\ttotal: 11.9s\tremaining: 44.2s\n",
      "212:\tlearn: 0.0031016\ttotal: 11.9s\tremaining: 44.2s\n",
      "213:\tlearn: 0.0031016\ttotal: 12s\tremaining: 44s\n",
      "214:\tlearn: 0.0030994\ttotal: 12s\tremaining: 43.9s\n",
      "215:\tlearn: 0.0030994\ttotal: 12.1s\tremaining: 43.9s\n",
      "216:\tlearn: 0.0030969\ttotal: 12.1s\tremaining: 43.8s\n",
      "217:\tlearn: 0.0030858\ttotal: 12.2s\tremaining: 43.7s\n",
      "218:\tlearn: 0.0030675\ttotal: 12.2s\tremaining: 43.6s\n",
      "219:\tlearn: 0.0030162\ttotal: 12.3s\tremaining: 43.6s\n",
      "220:\tlearn: 0.0030131\ttotal: 12.3s\tremaining: 43.5s\n",
      "221:\tlearn: 0.0030097\ttotal: 12.4s\tremaining: 43.4s\n",
      "222:\tlearn: 0.0029898\ttotal: 12.4s\tremaining: 43.3s\n",
      "223:\tlearn: 0.0029898\ttotal: 12.5s\tremaining: 43.2s\n",
      "224:\tlearn: 0.0029827\ttotal: 12.5s\tremaining: 43.2s\n",
      "225:\tlearn: 0.0029476\ttotal: 12.6s\tremaining: 43.1s\n",
      "226:\tlearn: 0.0029444\ttotal: 12.6s\tremaining: 43.1s\n",
      "227:\tlearn: 0.0029388\ttotal: 12.7s\tremaining: 43s\n",
      "228:\tlearn: 0.0029388\ttotal: 12.8s\tremaining: 42.9s\n",
      "229:\tlearn: 0.0028723\ttotal: 12.8s\tremaining: 42.9s\n",
      "230:\tlearn: 0.0028107\ttotal: 12.9s\tremaining: 42.9s\n",
      "231:\tlearn: 0.0028083\ttotal: 12.9s\tremaining: 42.8s\n",
      "232:\tlearn: 0.0028083\ttotal: 13s\tremaining: 42.7s\n",
      "233:\tlearn: 0.0028082\ttotal: 13s\tremaining: 42.6s\n",
      "234:\tlearn: 0.0028029\ttotal: 13.1s\tremaining: 42.5s\n",
      "235:\tlearn: 0.0028029\ttotal: 13.1s\tremaining: 42.4s\n",
      "236:\tlearn: 0.0028029\ttotal: 13.1s\tremaining: 42.2s\n",
      "237:\tlearn: 0.0028029\ttotal: 13.1s\tremaining: 42.1s\n",
      "238:\tlearn: 0.0027830\ttotal: 13.2s\tremaining: 42s\n",
      "239:\tlearn: 0.0027716\ttotal: 13.3s\tremaining: 42s\n",
      "240:\tlearn: 0.0027716\ttotal: 13.3s\tremaining: 41.8s\n",
      "241:\tlearn: 0.0027588\ttotal: 13.3s\tremaining: 41.7s\n",
      "242:\tlearn: 0.0027438\ttotal: 13.4s\tremaining: 41.6s\n",
      "243:\tlearn: 0.0027270\ttotal: 13.4s\tremaining: 41.5s\n",
      "244:\tlearn: 0.0027229\ttotal: 13.5s\tremaining: 41.5s\n",
      "245:\tlearn: 0.0027229\ttotal: 13.6s\tremaining: 41.6s\n",
      "246:\tlearn: 0.0027215\ttotal: 13.6s\tremaining: 41.6s\n",
      "247:\tlearn: 0.0027182\ttotal: 13.7s\tremaining: 41.5s\n",
      "248:\tlearn: 0.0027098\ttotal: 13.7s\tremaining: 41.5s\n",
      "249:\tlearn: 0.0027024\ttotal: 13.8s\tremaining: 41.4s\n",
      "250:\tlearn: 0.0026860\ttotal: 13.8s\tremaining: 41.3s\n",
      "251:\tlearn: 0.0026860\ttotal: 13.9s\tremaining: 41.1s\n",
      "252:\tlearn: 0.0026860\ttotal: 13.9s\tremaining: 41s\n",
      "253:\tlearn: 0.0026793\ttotal: 13.9s\tremaining: 40.9s\n",
      "254:\tlearn: 0.0026759\ttotal: 14s\tremaining: 40.8s\n",
      "255:\tlearn: 0.0026759\ttotal: 14s\tremaining: 40.7s\n",
      "256:\tlearn: 0.0026724\ttotal: 14s\tremaining: 40.6s\n",
      "257:\tlearn: 0.0026508\ttotal: 14.1s\tremaining: 40.6s\n",
      "258:\tlearn: 0.0026460\ttotal: 14.1s\tremaining: 40.5s\n",
      "259:\tlearn: 0.0026448\ttotal: 14.2s\tremaining: 40.4s\n",
      "260:\tlearn: 0.0026245\ttotal: 14.2s\tremaining: 40.3s\n",
      "261:\tlearn: 0.0026245\ttotal: 14.3s\tremaining: 40.2s\n",
      "262:\tlearn: 0.0025886\ttotal: 14.3s\tremaining: 40.2s\n",
      "263:\tlearn: 0.0025728\ttotal: 14.4s\tremaining: 40.1s\n",
      "264:\tlearn: 0.0025517\ttotal: 14.4s\tremaining: 40s\n",
      "265:\tlearn: 0.0025517\ttotal: 14.5s\tremaining: 39.9s\n",
      "266:\tlearn: 0.0025381\ttotal: 14.5s\tremaining: 39.8s\n",
      "267:\tlearn: 0.0025304\ttotal: 14.6s\tremaining: 39.8s\n",
      "268:\tlearn: 0.0025095\ttotal: 14.6s\tremaining: 39.8s\n",
      "269:\tlearn: 0.0024966\ttotal: 14.7s\tremaining: 39.7s\n",
      "270:\tlearn: 0.0024857\ttotal: 14.8s\tremaining: 39.7s\n",
      "271:\tlearn: 0.0024857\ttotal: 14.8s\tremaining: 39.5s\n",
      "272:\tlearn: 0.0024839\ttotal: 14.8s\tremaining: 39.5s\n",
      "273:\tlearn: 0.0024839\ttotal: 14.9s\tremaining: 39.4s\n",
      "274:\tlearn: 0.0024839\ttotal: 14.9s\tremaining: 39.3s\n",
      "275:\tlearn: 0.0024437\ttotal: 15s\tremaining: 39.3s\n",
      "276:\tlearn: 0.0024423\ttotal: 15.1s\tremaining: 39.3s\n",
      "277:\tlearn: 0.0024357\ttotal: 15.1s\tremaining: 39.3s\n",
      "278:\tlearn: 0.0024248\ttotal: 15.2s\tremaining: 39.2s\n",
      "279:\tlearn: 0.0024078\ttotal: 15.2s\tremaining: 39.2s\n",
      "280:\tlearn: 0.0024041\ttotal: 15.3s\tremaining: 39.1s\n",
      "281:\tlearn: 0.0024041\ttotal: 15.3s\tremaining: 39s\n",
      "282:\tlearn: 0.0023601\ttotal: 15.4s\tremaining: 38.9s\n",
      "283:\tlearn: 0.0023601\ttotal: 15.4s\tremaining: 38.8s\n",
      "284:\tlearn: 0.0023601\ttotal: 15.5s\tremaining: 38.8s\n",
      "285:\tlearn: 0.0023459\ttotal: 15.5s\tremaining: 38.7s\n",
      "286:\tlearn: 0.0023459\ttotal: 15.6s\tremaining: 38.7s\n",
      "287:\tlearn: 0.0023397\ttotal: 15.6s\tremaining: 38.7s\n",
      "288:\tlearn: 0.0023298\ttotal: 15.7s\tremaining: 38.7s\n",
      "289:\tlearn: 0.0023241\ttotal: 15.8s\tremaining: 38.6s\n",
      "290:\tlearn: 0.0023181\ttotal: 15.8s\tremaining: 38.6s\n",
      "291:\tlearn: 0.0023181\ttotal: 15.9s\tremaining: 38.6s\n",
      "292:\tlearn: 0.0023180\ttotal: 15.9s\tremaining: 38.5s\n",
      "293:\tlearn: 0.0023169\ttotal: 16s\tremaining: 38.4s\n",
      "294:\tlearn: 0.0023100\ttotal: 16s\tremaining: 38.4s\n",
      "295:\tlearn: 0.0023100\ttotal: 16.1s\tremaining: 38.3s\n",
      "296:\tlearn: 0.0023017\ttotal: 16.2s\tremaining: 38.3s\n",
      "297:\tlearn: 0.0022935\ttotal: 16.2s\tremaining: 38.2s\n",
      "298:\tlearn: 0.0022545\ttotal: 16.3s\tremaining: 38.1s\n",
      "299:\tlearn: 0.0022457\ttotal: 16.3s\tremaining: 38.1s\n",
      "300:\tlearn: 0.0022256\ttotal: 16.4s\tremaining: 38.1s\n",
      "301:\tlearn: 0.0022231\ttotal: 16.5s\tremaining: 38s\n",
      "302:\tlearn: 0.0021798\ttotal: 16.5s\tremaining: 38s\n",
      "303:\tlearn: 0.0021798\ttotal: 16.6s\tremaining: 38s\n",
      "304:\tlearn: 0.0021798\ttotal: 16.7s\tremaining: 38s\n",
      "305:\tlearn: 0.0021653\ttotal: 16.7s\tremaining: 37.9s\n",
      "306:\tlearn: 0.0021606\ttotal: 16.8s\tremaining: 37.9s\n",
      "307:\tlearn: 0.0021579\ttotal: 16.9s\tremaining: 37.9s\n",
      "308:\tlearn: 0.0021459\ttotal: 16.9s\tremaining: 37.8s\n",
      "309:\tlearn: 0.0021346\ttotal: 17s\tremaining: 37.8s\n",
      "310:\tlearn: 0.0021346\ttotal: 17s\tremaining: 37.7s\n",
      "311:\tlearn: 0.0021346\ttotal: 17.1s\tremaining: 37.6s\n",
      "312:\tlearn: 0.0021346\ttotal: 17.1s\tremaining: 37.6s\n",
      "313:\tlearn: 0.0021178\ttotal: 17.2s\tremaining: 37.6s\n",
      "314:\tlearn: 0.0021178\ttotal: 17.2s\tremaining: 37.4s\n",
      "315:\tlearn: 0.0021178\ttotal: 17.3s\tremaining: 37.4s\n",
      "316:\tlearn: 0.0021056\ttotal: 17.3s\tremaining: 37.4s\n",
      "317:\tlearn: 0.0021056\ttotal: 17.4s\tremaining: 37.3s\n",
      "318:\tlearn: 0.0020952\ttotal: 17.5s\tremaining: 37.3s\n",
      "319:\tlearn: 0.0020846\ttotal: 17.5s\tremaining: 37.3s\n",
      "320:\tlearn: 0.0020802\ttotal: 17.6s\tremaining: 37.3s\n",
      "321:\tlearn: 0.0020717\ttotal: 17.7s\tremaining: 37.2s\n",
      "322:\tlearn: 0.0020717\ttotal: 17.7s\tremaining: 37.1s\n",
      "323:\tlearn: 0.0020505\ttotal: 17.8s\tremaining: 37.1s\n",
      "324:\tlearn: 0.0020453\ttotal: 17.8s\tremaining: 37s\n",
      "325:\tlearn: 0.0020370\ttotal: 17.9s\tremaining: 37s\n",
      "326:\tlearn: 0.0020370\ttotal: 17.9s\tremaining: 36.9s\n",
      "327:\tlearn: 0.0020349\ttotal: 18s\tremaining: 36.9s\n",
      "328:\tlearn: 0.0020349\ttotal: 18s\tremaining: 36.8s\n",
      "329:\tlearn: 0.0020349\ttotal: 18.1s\tremaining: 36.7s\n",
      "330:\tlearn: 0.0020349\ttotal: 18.1s\tremaining: 36.6s\n",
      "331:\tlearn: 0.0020290\ttotal: 18.2s\tremaining: 36.5s\n",
      "332:\tlearn: 0.0020290\ttotal: 18.2s\tremaining: 36.4s\n",
      "333:\tlearn: 0.0020290\ttotal: 18.2s\tremaining: 36.3s\n",
      "334:\tlearn: 0.0020290\ttotal: 18.2s\tremaining: 36.2s\n",
      "335:\tlearn: 0.0020290\ttotal: 18.3s\tremaining: 36.1s\n",
      "336:\tlearn: 0.0020159\ttotal: 18.3s\tremaining: 36s\n",
      "337:\tlearn: 0.0020068\ttotal: 18.4s\tremaining: 36s\n",
      "338:\tlearn: 0.0019918\ttotal: 18.4s\tremaining: 35.9s\n",
      "339:\tlearn: 0.0019918\ttotal: 18.5s\tremaining: 35.9s\n",
      "340:\tlearn: 0.0019910\ttotal: 18.5s\tremaining: 35.8s\n",
      "341:\tlearn: 0.0019910\ttotal: 18.5s\tremaining: 35.7s\n",
      "342:\tlearn: 0.0019432\ttotal: 18.6s\tremaining: 35.6s\n",
      "343:\tlearn: 0.0019269\ttotal: 18.7s\tremaining: 35.6s\n",
      "344:\tlearn: 0.0019269\ttotal: 18.7s\tremaining: 35.5s\n",
      "345:\tlearn: 0.0019269\ttotal: 18.7s\tremaining: 35.4s\n",
      "346:\tlearn: 0.0019048\ttotal: 18.8s\tremaining: 35.3s\n",
      "347:\tlearn: 0.0019048\ttotal: 18.8s\tremaining: 35.3s\n",
      "348:\tlearn: 0.0019048\ttotal: 18.9s\tremaining: 35.2s\n",
      "349:\tlearn: 0.0018977\ttotal: 18.9s\tremaining: 35.2s\n",
      "350:\tlearn: 0.0018936\ttotal: 19s\tremaining: 35.1s\n",
      "351:\tlearn: 0.0018866\ttotal: 19.1s\tremaining: 35.1s\n",
      "352:\tlearn: 0.0018774\ttotal: 19.1s\tremaining: 35.1s\n",
      "353:\tlearn: 0.0018714\ttotal: 19.2s\tremaining: 35s\n",
      "354:\tlearn: 0.0018645\ttotal: 19.2s\tremaining: 35s\n",
      "355:\tlearn: 0.0018645\ttotal: 19.3s\tremaining: 34.9s\n",
      "356:\tlearn: 0.0018579\ttotal: 19.3s\tremaining: 34.8s\n",
      "357:\tlearn: 0.0018579\ttotal: 19.4s\tremaining: 34.8s\n",
      "358:\tlearn: 0.0018579\ttotal: 19.5s\tremaining: 34.7s\n",
      "359:\tlearn: 0.0018350\ttotal: 19.5s\tremaining: 34.7s\n",
      "360:\tlearn: 0.0018223\ttotal: 19.6s\tremaining: 34.6s\n",
      "361:\tlearn: 0.0018223\ttotal: 19.6s\tremaining: 34.6s\n",
      "362:\tlearn: 0.0018223\ttotal: 19.7s\tremaining: 34.5s\n",
      "363:\tlearn: 0.0017826\ttotal: 19.7s\tremaining: 34.5s\n",
      "364:\tlearn: 0.0017765\ttotal: 19.8s\tremaining: 34.4s\n",
      "365:\tlearn: 0.0017765\ttotal: 19.8s\tremaining: 34.4s\n",
      "366:\tlearn: 0.0017706\ttotal: 19.9s\tremaining: 34.3s\n",
      "367:\tlearn: 0.0017628\ttotal: 20s\tremaining: 34.3s\n",
      "368:\tlearn: 0.0017571\ttotal: 20s\tremaining: 34.2s\n",
      "369:\tlearn: 0.0017571\ttotal: 20s\tremaining: 34.1s\n",
      "370:\tlearn: 0.0017571\ttotal: 20.1s\tremaining: 34.1s\n",
      "371:\tlearn: 0.0017570\ttotal: 20.1s\tremaining: 34s\n",
      "372:\tlearn: 0.0017570\ttotal: 20.2s\tremaining: 34s\n",
      "373:\tlearn: 0.0017570\ttotal: 20.3s\tremaining: 33.9s\n",
      "374:\tlearn: 0.0017570\ttotal: 20.3s\tremaining: 33.8s\n",
      "375:\tlearn: 0.0017466\ttotal: 20.3s\tremaining: 33.8s\n",
      "376:\tlearn: 0.0017466\ttotal: 20.4s\tremaining: 33.7s\n",
      "377:\tlearn: 0.0017466\ttotal: 20.4s\tremaining: 33.6s\n",
      "378:\tlearn: 0.0017466\ttotal: 20.5s\tremaining: 33.6s\n",
      "379:\tlearn: 0.0017466\ttotal: 20.6s\tremaining: 33.5s\n",
      "380:\tlearn: 0.0017404\ttotal: 20.6s\tremaining: 33.5s\n",
      "381:\tlearn: 0.0017404\ttotal: 20.7s\tremaining: 33.5s\n",
      "382:\tlearn: 0.0017404\ttotal: 20.7s\tremaining: 33.4s\n",
      "383:\tlearn: 0.0017404\ttotal: 20.8s\tremaining: 33.4s\n",
      "384:\tlearn: 0.0017404\ttotal: 20.8s\tremaining: 33.3s\n",
      "385:\tlearn: 0.0017404\ttotal: 20.9s\tremaining: 33.2s\n",
      "386:\tlearn: 0.0017377\ttotal: 20.9s\tremaining: 33.1s\n",
      "387:\tlearn: 0.0017274\ttotal: 21s\tremaining: 33.1s\n",
      "388:\tlearn: 0.0017198\ttotal: 21s\tremaining: 33s\n",
      "389:\tlearn: 0.0016875\ttotal: 21.1s\tremaining: 33s\n",
      "390:\tlearn: 0.0016875\ttotal: 21.1s\tremaining: 32.9s\n",
      "391:\tlearn: 0.0016875\ttotal: 21.2s\tremaining: 32.8s\n",
      "392:\tlearn: 0.0016864\ttotal: 21.2s\tremaining: 32.8s\n",
      "393:\tlearn: 0.0016430\ttotal: 21.3s\tremaining: 32.8s\n",
      "394:\tlearn: 0.0016381\ttotal: 21.4s\tremaining: 32.7s\n",
      "395:\tlearn: 0.0016381\ttotal: 21.4s\tremaining: 32.7s\n",
      "396:\tlearn: 0.0016308\ttotal: 21.5s\tremaining: 32.6s\n",
      "397:\tlearn: 0.0016308\ttotal: 21.5s\tremaining: 32.5s\n",
      "398:\tlearn: 0.0016308\ttotal: 21.6s\tremaining: 32.5s\n",
      "399:\tlearn: 0.0016308\ttotal: 21.6s\tremaining: 32.5s\n",
      "400:\tlearn: 0.0016212\ttotal: 21.7s\tremaining: 32.4s\n",
      "401:\tlearn: 0.0016212\ttotal: 21.8s\tremaining: 32.4s\n",
      "402:\tlearn: 0.0016212\ttotal: 21.8s\tremaining: 32.3s\n",
      "403:\tlearn: 0.0016212\ttotal: 21.8s\tremaining: 32.2s\n",
      "404:\tlearn: 0.0016212\ttotal: 21.9s\tremaining: 32.2s\n",
      "405:\tlearn: 0.0016212\ttotal: 22s\tremaining: 32.1s\n",
      "406:\tlearn: 0.0016160\ttotal: 22s\tremaining: 32.1s\n",
      "407:\tlearn: 0.0016160\ttotal: 22.1s\tremaining: 32s\n",
      "408:\tlearn: 0.0016160\ttotal: 22.1s\tremaining: 32s\n",
      "409:\tlearn: 0.0016112\ttotal: 22.2s\tremaining: 31.9s\n",
      "410:\tlearn: 0.0016112\ttotal: 22.3s\tremaining: 31.9s\n",
      "411:\tlearn: 0.0015910\ttotal: 22.3s\tremaining: 31.8s\n",
      "412:\tlearn: 0.0015910\ttotal: 22.4s\tremaining: 31.8s\n",
      "413:\tlearn: 0.0015910\ttotal: 22.4s\tremaining: 31.8s\n",
      "414:\tlearn: 0.0015864\ttotal: 22.5s\tremaining: 31.7s\n",
      "415:\tlearn: 0.0015864\ttotal: 22.6s\tremaining: 31.7s\n",
      "416:\tlearn: 0.0015806\ttotal: 22.6s\tremaining: 31.6s\n",
      "417:\tlearn: 0.0015806\ttotal: 22.6s\tremaining: 31.5s\n",
      "418:\tlearn: 0.0015806\ttotal: 22.7s\tremaining: 31.5s\n",
      "419:\tlearn: 0.0015806\ttotal: 22.7s\tremaining: 31.4s\n",
      "420:\tlearn: 0.0015805\ttotal: 22.8s\tremaining: 31.3s\n",
      "421:\tlearn: 0.0015805\ttotal: 22.8s\tremaining: 31.3s\n",
      "422:\tlearn: 0.0015805\ttotal: 22.8s\tremaining: 31.2s\n",
      "423:\tlearn: 0.0015805\ttotal: 22.9s\tremaining: 31.1s\n",
      "424:\tlearn: 0.0015714\ttotal: 22.9s\tremaining: 31s\n",
      "425:\tlearn: 0.0015714\ttotal: 23s\tremaining: 30.9s\n",
      "426:\tlearn: 0.0015714\ttotal: 23s\tremaining: 30.9s\n",
      "427:\tlearn: 0.0015668\ttotal: 23.1s\tremaining: 30.9s\n",
      "428:\tlearn: 0.0015668\ttotal: 23.2s\tremaining: 30.8s\n",
      "429:\tlearn: 0.0015668\ttotal: 23.2s\tremaining: 30.8s\n",
      "430:\tlearn: 0.0015668\ttotal: 23.3s\tremaining: 30.7s\n",
      "431:\tlearn: 0.0015668\ttotal: 23.3s\tremaining: 30.7s\n",
      "432:\tlearn: 0.0015668\ttotal: 23.4s\tremaining: 30.6s\n",
      "433:\tlearn: 0.0015668\ttotal: 23.5s\tremaining: 30.6s\n",
      "434:\tlearn: 0.0015668\ttotal: 23.5s\tremaining: 30.6s\n",
      "435:\tlearn: 0.0015645\ttotal: 23.6s\tremaining: 30.5s\n",
      "436:\tlearn: 0.0015645\ttotal: 23.7s\tremaining: 30.5s\n",
      "437:\tlearn: 0.0015645\ttotal: 23.7s\tremaining: 30.4s\n",
      "438:\tlearn: 0.0015643\ttotal: 23.7s\tremaining: 30.3s\n",
      "439:\tlearn: 0.0015603\ttotal: 23.8s\tremaining: 30.3s\n",
      "440:\tlearn: 0.0015603\ttotal: 23.8s\tremaining: 30.2s\n",
      "441:\tlearn: 0.0015603\ttotal: 23.9s\tremaining: 30.1s\n",
      "442:\tlearn: 0.0015603\ttotal: 23.9s\tremaining: 30.1s\n",
      "443:\tlearn: 0.0015603\ttotal: 24s\tremaining: 30s\n",
      "444:\tlearn: 0.0015603\ttotal: 24s\tremaining: 30s\n",
      "445:\tlearn: 0.0015571\ttotal: 24.1s\tremaining: 29.9s\n",
      "446:\tlearn: 0.0015571\ttotal: 24.1s\tremaining: 29.9s\n",
      "447:\tlearn: 0.0015571\ttotal: 24.2s\tremaining: 29.8s\n",
      "448:\tlearn: 0.0015571\ttotal: 24.2s\tremaining: 29.7s\n",
      "449:\tlearn: 0.0015571\ttotal: 24.3s\tremaining: 29.7s\n",
      "450:\tlearn: 0.0015569\ttotal: 24.3s\tremaining: 29.6s\n",
      "451:\tlearn: 0.0015569\ttotal: 24.4s\tremaining: 29.5s\n",
      "452:\tlearn: 0.0015545\ttotal: 24.4s\tremaining: 29.5s\n",
      "453:\tlearn: 0.0015545\ttotal: 24.5s\tremaining: 29.4s\n",
      "454:\tlearn: 0.0015545\ttotal: 24.5s\tremaining: 29.4s\n",
      "455:\tlearn: 0.0015545\ttotal: 24.6s\tremaining: 29.3s\n",
      "456:\tlearn: 0.0015545\ttotal: 24.6s\tremaining: 29.2s\n",
      "457:\tlearn: 0.0015453\ttotal: 24.7s\tremaining: 29.2s\n",
      "458:\tlearn: 0.0015453\ttotal: 24.7s\tremaining: 29.1s\n",
      "459:\tlearn: 0.0015422\ttotal: 24.8s\tremaining: 29.1s\n",
      "460:\tlearn: 0.0015422\ttotal: 24.9s\tremaining: 29.1s\n",
      "461:\tlearn: 0.0015351\ttotal: 24.9s\tremaining: 29s\n",
      "462:\tlearn: 0.0015351\ttotal: 25s\tremaining: 29s\n",
      "463:\tlearn: 0.0015351\ttotal: 25s\tremaining: 28.9s\n",
      "464:\tlearn: 0.0015351\ttotal: 25.1s\tremaining: 28.8s\n",
      "465:\tlearn: 0.0015322\ttotal: 25.1s\tremaining: 28.8s\n",
      "466:\tlearn: 0.0015321\ttotal: 25.2s\tremaining: 28.7s\n",
      "467:\tlearn: 0.0015321\ttotal: 25.2s\tremaining: 28.6s\n",
      "468:\tlearn: 0.0015321\ttotal: 25.2s\tremaining: 28.6s\n",
      "469:\tlearn: 0.0015278\ttotal: 25.3s\tremaining: 28.5s\n",
      "470:\tlearn: 0.0015278\ttotal: 25.3s\tremaining: 28.5s\n",
      "471:\tlearn: 0.0015278\ttotal: 25.4s\tremaining: 28.4s\n",
      "472:\tlearn: 0.0015278\ttotal: 25.4s\tremaining: 28.3s\n",
      "473:\tlearn: 0.0015278\ttotal: 25.5s\tremaining: 28.3s\n",
      "474:\tlearn: 0.0015278\ttotal: 25.6s\tremaining: 28.3s\n",
      "475:\tlearn: 0.0015278\ttotal: 25.6s\tremaining: 28.2s\n",
      "476:\tlearn: 0.0015278\ttotal: 25.7s\tremaining: 28.2s\n",
      "477:\tlearn: 0.0015278\ttotal: 25.8s\tremaining: 28.1s\n",
      "478:\tlearn: 0.0015229\ttotal: 25.8s\tremaining: 28.1s\n",
      "479:\tlearn: 0.0015229\ttotal: 25.9s\tremaining: 28.1s\n",
      "480:\tlearn: 0.0015229\ttotal: 25.9s\tremaining: 28s\n",
      "481:\tlearn: 0.0015229\ttotal: 26s\tremaining: 27.9s\n",
      "482:\tlearn: 0.0015229\ttotal: 26.1s\tremaining: 27.9s\n",
      "483:\tlearn: 0.0015229\ttotal: 26.1s\tremaining: 27.8s\n",
      "484:\tlearn: 0.0015229\ttotal: 26.2s\tremaining: 27.8s\n",
      "485:\tlearn: 0.0015229\ttotal: 26.2s\tremaining: 27.7s\n",
      "486:\tlearn: 0.0015229\ttotal: 26.3s\tremaining: 27.7s\n",
      "487:\tlearn: 0.0015229\ttotal: 26.3s\tremaining: 27.6s\n",
      "488:\tlearn: 0.0015187\ttotal: 26.4s\tremaining: 27.6s\n",
      "489:\tlearn: 0.0015187\ttotal: 26.4s\tremaining: 27.5s\n",
      "490:\tlearn: 0.0015187\ttotal: 26.5s\tremaining: 27.4s\n",
      "491:\tlearn: 0.0015187\ttotal: 26.5s\tremaining: 27.4s\n",
      "492:\tlearn: 0.0015167\ttotal: 26.6s\tremaining: 27.3s\n",
      "493:\tlearn: 0.0015167\ttotal: 26.6s\tremaining: 27.3s\n",
      "494:\tlearn: 0.0015167\ttotal: 26.7s\tremaining: 27.3s\n",
      "495:\tlearn: 0.0015167\ttotal: 26.8s\tremaining: 27.2s\n",
      "496:\tlearn: 0.0015167\ttotal: 26.8s\tremaining: 27.2s\n",
      "497:\tlearn: 0.0015153\ttotal: 26.9s\tremaining: 27.1s\n",
      "498:\tlearn: 0.0015153\ttotal: 26.9s\tremaining: 27.1s\n",
      "499:\tlearn: 0.0015153\ttotal: 27s\tremaining: 27s\n",
      "500:\tlearn: 0.0015153\ttotal: 27s\tremaining: 26.9s\n",
      "501:\tlearn: 0.0015153\ttotal: 27.1s\tremaining: 26.9s\n",
      "502:\tlearn: 0.0015153\ttotal: 27.2s\tremaining: 26.9s\n",
      "503:\tlearn: 0.0015152\ttotal: 27.2s\tremaining: 26.8s\n",
      "504:\tlearn: 0.0015125\ttotal: 27.3s\tremaining: 26.7s\n",
      "505:\tlearn: 0.0015125\ttotal: 27.3s\tremaining: 26.7s\n",
      "506:\tlearn: 0.0015125\ttotal: 27.3s\tremaining: 26.6s\n",
      "507:\tlearn: 0.0015100\ttotal: 27.4s\tremaining: 26.5s\n",
      "508:\tlearn: 0.0015100\ttotal: 27.4s\tremaining: 26.5s\n",
      "509:\tlearn: 0.0015100\ttotal: 27.5s\tremaining: 26.4s\n",
      "510:\tlearn: 0.0015099\ttotal: 27.5s\tremaining: 26.3s\n",
      "511:\tlearn: 0.0015099\ttotal: 27.6s\tremaining: 26.3s\n",
      "512:\tlearn: 0.0015078\ttotal: 27.6s\tremaining: 26.2s\n",
      "513:\tlearn: 0.0015057\ttotal: 27.7s\tremaining: 26.2s\n",
      "514:\tlearn: 0.0015057\ttotal: 27.7s\tremaining: 26.1s\n",
      "515:\tlearn: 0.0015057\ttotal: 27.8s\tremaining: 26.1s\n",
      "516:\tlearn: 0.0015044\ttotal: 27.9s\tremaining: 26s\n",
      "517:\tlearn: 0.0015044\ttotal: 27.9s\tremaining: 26s\n",
      "518:\tlearn: 0.0015044\ttotal: 27.9s\tremaining: 25.9s\n",
      "519:\tlearn: 0.0014970\ttotal: 28s\tremaining: 25.8s\n",
      "520:\tlearn: 0.0014970\ttotal: 28.1s\tremaining: 25.8s\n",
      "521:\tlearn: 0.0014970\ttotal: 28.1s\tremaining: 25.7s\n",
      "522:\tlearn: 0.0014970\ttotal: 28.2s\tremaining: 25.7s\n",
      "523:\tlearn: 0.0014970\ttotal: 28.2s\tremaining: 25.6s\n",
      "524:\tlearn: 0.0014970\ttotal: 28.3s\tremaining: 25.6s\n",
      "525:\tlearn: 0.0014970\ttotal: 28.3s\tremaining: 25.5s\n",
      "526:\tlearn: 0.0014970\ttotal: 28.4s\tremaining: 25.5s\n",
      "527:\tlearn: 0.0014970\ttotal: 28.4s\tremaining: 25.4s\n",
      "528:\tlearn: 0.0014962\ttotal: 28.5s\tremaining: 25.4s\n",
      "529:\tlearn: 0.0014962\ttotal: 28.6s\tremaining: 25.3s\n",
      "530:\tlearn: 0.0014962\ttotal: 28.6s\tremaining: 25.3s\n",
      "531:\tlearn: 0.0014962\ttotal: 28.7s\tremaining: 25.2s\n",
      "532:\tlearn: 0.0014771\ttotal: 28.7s\tremaining: 25.2s\n",
      "533:\tlearn: 0.0014771\ttotal: 28.8s\tremaining: 25.1s\n",
      "534:\tlearn: 0.0014771\ttotal: 28.8s\tremaining: 25.1s\n",
      "535:\tlearn: 0.0014771\ttotal: 28.9s\tremaining: 25s\n",
      "536:\tlearn: 0.0014771\ttotal: 28.9s\tremaining: 25s\n",
      "537:\tlearn: 0.0014771\ttotal: 29s\tremaining: 24.9s\n",
      "538:\tlearn: 0.0014771\ttotal: 29s\tremaining: 24.8s\n",
      "539:\tlearn: 0.0014699\ttotal: 29.1s\tremaining: 24.8s\n",
      "540:\tlearn: 0.0014699\ttotal: 29.1s\tremaining: 24.7s\n",
      "541:\tlearn: 0.0014699\ttotal: 29.2s\tremaining: 24.7s\n",
      "542:\tlearn: 0.0014699\ttotal: 29.2s\tremaining: 24.6s\n",
      "543:\tlearn: 0.0014699\ttotal: 29.3s\tremaining: 24.6s\n",
      "544:\tlearn: 0.0014699\ttotal: 29.4s\tremaining: 24.5s\n",
      "545:\tlearn: 0.0014699\ttotal: 29.4s\tremaining: 24.4s\n",
      "546:\tlearn: 0.0014699\ttotal: 29.4s\tremaining: 24.4s\n",
      "547:\tlearn: 0.0014519\ttotal: 29.5s\tremaining: 24.3s\n",
      "548:\tlearn: 0.0014519\ttotal: 29.6s\tremaining: 24.3s\n",
      "549:\tlearn: 0.0014519\ttotal: 29.6s\tremaining: 24.2s\n",
      "550:\tlearn: 0.0014518\ttotal: 29.7s\tremaining: 24.2s\n",
      "551:\tlearn: 0.0014518\ttotal: 29.7s\tremaining: 24.1s\n",
      "552:\tlearn: 0.0014518\ttotal: 29.8s\tremaining: 24.1s\n",
      "553:\tlearn: 0.0014518\ttotal: 29.8s\tremaining: 24s\n",
      "554:\tlearn: 0.0014518\ttotal: 29.9s\tremaining: 23.9s\n",
      "555:\tlearn: 0.0014518\ttotal: 29.9s\tremaining: 23.9s\n",
      "556:\tlearn: 0.0014518\ttotal: 30s\tremaining: 23.8s\n",
      "557:\tlearn: 0.0014518\ttotal: 30s\tremaining: 23.8s\n",
      "558:\tlearn: 0.0014518\ttotal: 30.1s\tremaining: 23.7s\n",
      "559:\tlearn: 0.0014518\ttotal: 30.1s\tremaining: 23.7s\n",
      "560:\tlearn: 0.0014448\ttotal: 30.2s\tremaining: 23.6s\n",
      "561:\tlearn: 0.0014448\ttotal: 30.3s\tremaining: 23.6s\n",
      "562:\tlearn: 0.0014448\ttotal: 30.3s\tremaining: 23.5s\n",
      "563:\tlearn: 0.0014448\ttotal: 30.4s\tremaining: 23.5s\n",
      "564:\tlearn: 0.0014448\ttotal: 30.4s\tremaining: 23.4s\n",
      "565:\tlearn: 0.0014448\ttotal: 30.5s\tremaining: 23.4s\n",
      "566:\tlearn: 0.0014448\ttotal: 30.6s\tremaining: 23.3s\n",
      "567:\tlearn: 0.0014448\ttotal: 30.6s\tremaining: 23.3s\n",
      "568:\tlearn: 0.0014447\ttotal: 30.7s\tremaining: 23.2s\n",
      "569:\tlearn: 0.0014447\ttotal: 30.8s\tremaining: 23.2s\n",
      "570:\tlearn: 0.0014447\ttotal: 30.8s\tremaining: 23.1s\n",
      "571:\tlearn: 0.0014447\ttotal: 30.9s\tremaining: 23.1s\n",
      "572:\tlearn: 0.0014447\ttotal: 30.9s\tremaining: 23s\n",
      "573:\tlearn: 0.0014447\ttotal: 31s\tremaining: 23s\n",
      "574:\tlearn: 0.0014447\ttotal: 31s\tremaining: 22.9s\n",
      "575:\tlearn: 0.0014447\ttotal: 31.1s\tremaining: 22.9s\n",
      "576:\tlearn: 0.0014379\ttotal: 31.1s\tremaining: 22.8s\n",
      "577:\tlearn: 0.0014379\ttotal: 31.2s\tremaining: 22.8s\n",
      "578:\tlearn: 0.0014379\ttotal: 31.3s\tremaining: 22.7s\n",
      "579:\tlearn: 0.0014379\ttotal: 31.3s\tremaining: 22.7s\n",
      "580:\tlearn: 0.0014379\ttotal: 31.4s\tremaining: 22.6s\n",
      "581:\tlearn: 0.0014379\ttotal: 31.4s\tremaining: 22.6s\n",
      "582:\tlearn: 0.0014322\ttotal: 31.5s\tremaining: 22.5s\n",
      "583:\tlearn: 0.0014322\ttotal: 31.5s\tremaining: 22.5s\n",
      "584:\tlearn: 0.0014322\ttotal: 31.6s\tremaining: 22.4s\n",
      "585:\tlearn: 0.0014322\ttotal: 31.6s\tremaining: 22.4s\n",
      "586:\tlearn: 0.0014322\ttotal: 31.7s\tremaining: 22.3s\n",
      "587:\tlearn: 0.0014322\ttotal: 31.8s\tremaining: 22.3s\n",
      "588:\tlearn: 0.0014322\ttotal: 31.8s\tremaining: 22.2s\n",
      "589:\tlearn: 0.0014322\ttotal: 31.9s\tremaining: 22.2s\n",
      "590:\tlearn: 0.0014322\ttotal: 31.9s\tremaining: 22.1s\n",
      "591:\tlearn: 0.0014322\ttotal: 32s\tremaining: 22s\n",
      "592:\tlearn: 0.0014321\ttotal: 32s\tremaining: 22s\n",
      "593:\tlearn: 0.0014321\ttotal: 32.1s\tremaining: 21.9s\n",
      "594:\tlearn: 0.0014321\ttotal: 32.2s\tremaining: 21.9s\n",
      "595:\tlearn: 0.0014321\ttotal: 32.2s\tremaining: 21.8s\n",
      "596:\tlearn: 0.0014321\ttotal: 32.3s\tremaining: 21.8s\n",
      "597:\tlearn: 0.0014321\ttotal: 32.3s\tremaining: 21.7s\n",
      "598:\tlearn: 0.0014321\ttotal: 32.4s\tremaining: 21.7s\n",
      "599:\tlearn: 0.0014321\ttotal: 32.4s\tremaining: 21.6s\n",
      "600:\tlearn: 0.0014321\ttotal: 32.5s\tremaining: 21.6s\n",
      "601:\tlearn: 0.0014321\ttotal: 32.6s\tremaining: 21.5s\n",
      "602:\tlearn: 0.0014321\ttotal: 32.6s\tremaining: 21.5s\n",
      "603:\tlearn: 0.0014321\ttotal: 32.6s\tremaining: 21.4s\n",
      "604:\tlearn: 0.0014321\ttotal: 32.7s\tremaining: 21.4s\n",
      "605:\tlearn: 0.0014321\ttotal: 32.8s\tremaining: 21.3s\n",
      "606:\tlearn: 0.0014321\ttotal: 32.8s\tremaining: 21.3s\n",
      "607:\tlearn: 0.0014321\ttotal: 32.9s\tremaining: 21.2s\n",
      "608:\tlearn: 0.0014321\ttotal: 33s\tremaining: 21.2s\n",
      "609:\tlearn: 0.0014321\ttotal: 33s\tremaining: 21.1s\n",
      "610:\tlearn: 0.0014321\ttotal: 33.1s\tremaining: 21.1s\n",
      "611:\tlearn: 0.0014321\ttotal: 33.1s\tremaining: 21s\n",
      "612:\tlearn: 0.0014148\ttotal: 33.2s\tremaining: 21s\n",
      "613:\tlearn: 0.0014148\ttotal: 33.3s\tremaining: 20.9s\n",
      "614:\tlearn: 0.0014148\ttotal: 33.4s\tremaining: 20.9s\n",
      "615:\tlearn: 0.0014148\ttotal: 33.4s\tremaining: 20.8s\n",
      "616:\tlearn: 0.0014148\ttotal: 33.5s\tremaining: 20.8s\n",
      "617:\tlearn: 0.0014148\ttotal: 33.5s\tremaining: 20.7s\n",
      "618:\tlearn: 0.0014148\ttotal: 33.6s\tremaining: 20.7s\n",
      "619:\tlearn: 0.0014148\ttotal: 33.7s\tremaining: 20.6s\n",
      "620:\tlearn: 0.0014148\ttotal: 33.7s\tremaining: 20.6s\n",
      "621:\tlearn: 0.0014148\ttotal: 33.8s\tremaining: 20.5s\n",
      "622:\tlearn: 0.0014148\ttotal: 33.8s\tremaining: 20.5s\n",
      "623:\tlearn: 0.0014148\ttotal: 33.9s\tremaining: 20.4s\n",
      "624:\tlearn: 0.0014148\ttotal: 34s\tremaining: 20.4s\n",
      "625:\tlearn: 0.0014148\ttotal: 34s\tremaining: 20.3s\n",
      "626:\tlearn: 0.0014148\ttotal: 34.1s\tremaining: 20.3s\n",
      "627:\tlearn: 0.0014148\ttotal: 34.2s\tremaining: 20.2s\n",
      "628:\tlearn: 0.0014148\ttotal: 34.2s\tremaining: 20.2s\n",
      "629:\tlearn: 0.0014148\ttotal: 34.3s\tremaining: 20.1s\n",
      "630:\tlearn: 0.0014148\ttotal: 34.3s\tremaining: 20.1s\n",
      "631:\tlearn: 0.0014094\ttotal: 34.4s\tremaining: 20s\n",
      "632:\tlearn: 0.0013925\ttotal: 34.5s\tremaining: 20s\n",
      "633:\tlearn: 0.0013925\ttotal: 34.5s\tremaining: 19.9s\n",
      "634:\tlearn: 0.0013925\ttotal: 34.6s\tremaining: 19.9s\n",
      "635:\tlearn: 0.0013925\ttotal: 34.6s\tremaining: 19.8s\n",
      "636:\tlearn: 0.0013925\ttotal: 34.7s\tremaining: 19.8s\n",
      "637:\tlearn: 0.0013925\ttotal: 34.7s\tremaining: 19.7s\n",
      "638:\tlearn: 0.0013925\ttotal: 34.8s\tremaining: 19.7s\n",
      "639:\tlearn: 0.0013924\ttotal: 34.8s\tremaining: 19.6s\n",
      "640:\tlearn: 0.0013924\ttotal: 34.9s\tremaining: 19.5s\n",
      "641:\tlearn: 0.0013920\ttotal: 34.9s\tremaining: 19.5s\n",
      "642:\tlearn: 0.0013920\ttotal: 35s\tremaining: 19.4s\n",
      "643:\tlearn: 0.0013920\ttotal: 35s\tremaining: 19.4s\n",
      "644:\tlearn: 0.0013920\ttotal: 35.1s\tremaining: 19.3s\n",
      "645:\tlearn: 0.0013920\ttotal: 35.1s\tremaining: 19.3s\n",
      "646:\tlearn: 0.0013920\ttotal: 35.2s\tremaining: 19.2s\n",
      "647:\tlearn: 0.0013920\ttotal: 35.3s\tremaining: 19.2s\n",
      "648:\tlearn: 0.0013920\ttotal: 35.4s\tremaining: 19.1s\n",
      "649:\tlearn: 0.0013920\ttotal: 35.4s\tremaining: 19.1s\n",
      "650:\tlearn: 0.0013920\ttotal: 35.5s\tremaining: 19s\n",
      "651:\tlearn: 0.0013920\ttotal: 35.5s\tremaining: 19s\n",
      "652:\tlearn: 0.0013920\ttotal: 35.6s\tremaining: 18.9s\n",
      "653:\tlearn: 0.0013919\ttotal: 35.6s\tremaining: 18.9s\n",
      "654:\tlearn: 0.0013919\ttotal: 35.7s\tremaining: 18.8s\n",
      "655:\tlearn: 0.0013919\ttotal: 35.7s\tremaining: 18.7s\n",
      "656:\tlearn: 0.0013919\ttotal: 35.8s\tremaining: 18.7s\n",
      "657:\tlearn: 0.0013919\ttotal: 35.9s\tremaining: 18.6s\n",
      "658:\tlearn: 0.0013915\ttotal: 35.9s\tremaining: 18.6s\n",
      "659:\tlearn: 0.0013915\ttotal: 35.9s\tremaining: 18.5s\n",
      "660:\tlearn: 0.0013915\ttotal: 36s\tremaining: 18.5s\n",
      "661:\tlearn: 0.0013915\ttotal: 36.1s\tremaining: 18.4s\n",
      "662:\tlearn: 0.0013915\ttotal: 36.1s\tremaining: 18.4s\n",
      "663:\tlearn: 0.0013915\ttotal: 36.2s\tremaining: 18.3s\n",
      "664:\tlearn: 0.0013915\ttotal: 36.3s\tremaining: 18.3s\n",
      "665:\tlearn: 0.0013915\ttotal: 36.3s\tremaining: 18.2s\n",
      "666:\tlearn: 0.0013915\ttotal: 36.4s\tremaining: 18.2s\n",
      "667:\tlearn: 0.0013915\ttotal: 36.5s\tremaining: 18.1s\n",
      "668:\tlearn: 0.0013915\ttotal: 36.5s\tremaining: 18.1s\n",
      "669:\tlearn: 0.0013914\ttotal: 36.6s\tremaining: 18s\n",
      "670:\tlearn: 0.0013914\ttotal: 36.6s\tremaining: 18s\n",
      "671:\tlearn: 0.0013914\ttotal: 36.7s\tremaining: 17.9s\n",
      "672:\tlearn: 0.0013914\ttotal: 36.7s\tremaining: 17.8s\n",
      "673:\tlearn: 0.0013914\ttotal: 36.8s\tremaining: 17.8s\n",
      "674:\tlearn: 0.0013914\ttotal: 36.8s\tremaining: 17.7s\n",
      "675:\tlearn: 0.0013914\ttotal: 36.9s\tremaining: 17.7s\n",
      "676:\tlearn: 0.0013914\ttotal: 37s\tremaining: 17.6s\n",
      "677:\tlearn: 0.0013914\ttotal: 37s\tremaining: 17.6s\n",
      "678:\tlearn: 0.0013914\ttotal: 37s\tremaining: 17.5s\n",
      "679:\tlearn: 0.0013914\ttotal: 37.1s\tremaining: 17.5s\n",
      "680:\tlearn: 0.0013914\ttotal: 37.1s\tremaining: 17.4s\n",
      "681:\tlearn: 0.0013914\ttotal: 37.2s\tremaining: 17.3s\n",
      "682:\tlearn: 0.0013914\ttotal: 37.2s\tremaining: 17.3s\n",
      "683:\tlearn: 0.0013914\ttotal: 37.3s\tremaining: 17.2s\n",
      "684:\tlearn: 0.0013914\ttotal: 37.4s\tremaining: 17.2s\n",
      "685:\tlearn: 0.0013914\ttotal: 37.4s\tremaining: 17.1s\n",
      "686:\tlearn: 0.0013914\ttotal: 37.5s\tremaining: 17.1s\n",
      "687:\tlearn: 0.0013914\ttotal: 37.5s\tremaining: 17s\n",
      "688:\tlearn: 0.0013914\ttotal: 37.6s\tremaining: 17s\n",
      "689:\tlearn: 0.0013914\ttotal: 37.6s\tremaining: 16.9s\n",
      "690:\tlearn: 0.0013914\ttotal: 37.7s\tremaining: 16.8s\n",
      "691:\tlearn: 0.0013914\ttotal: 37.7s\tremaining: 16.8s\n",
      "692:\tlearn: 0.0013914\ttotal: 37.8s\tremaining: 16.7s\n",
      "693:\tlearn: 0.0013914\ttotal: 37.8s\tremaining: 16.7s\n",
      "694:\tlearn: 0.0013914\ttotal: 37.9s\tremaining: 16.6s\n",
      "695:\tlearn: 0.0013914\ttotal: 37.9s\tremaining: 16.6s\n",
      "696:\tlearn: 0.0013914\ttotal: 38s\tremaining: 16.5s\n",
      "697:\tlearn: 0.0013914\ttotal: 38s\tremaining: 16.4s\n",
      "698:\tlearn: 0.0013914\ttotal: 38s\tremaining: 16.4s\n",
      "699:\tlearn: 0.0013913\ttotal: 38.1s\tremaining: 16.3s\n",
      "700:\tlearn: 0.0013913\ttotal: 38.1s\tremaining: 16.3s\n",
      "701:\tlearn: 0.0013913\ttotal: 38.2s\tremaining: 16.2s\n",
      "702:\tlearn: 0.0013913\ttotal: 38.2s\tremaining: 16.2s\n",
      "703:\tlearn: 0.0013913\ttotal: 38.3s\tremaining: 16.1s\n",
      "704:\tlearn: 0.0013913\ttotal: 38.4s\tremaining: 16s\n",
      "705:\tlearn: 0.0013913\ttotal: 38.4s\tremaining: 16s\n",
      "706:\tlearn: 0.0013913\ttotal: 38.5s\tremaining: 15.9s\n",
      "707:\tlearn: 0.0013913\ttotal: 38.5s\tremaining: 15.9s\n",
      "708:\tlearn: 0.0013913\ttotal: 38.6s\tremaining: 15.8s\n",
      "709:\tlearn: 0.0013913\ttotal: 38.6s\tremaining: 15.8s\n",
      "710:\tlearn: 0.0013913\ttotal: 38.7s\tremaining: 15.7s\n",
      "711:\tlearn: 0.0013913\ttotal: 38.7s\tremaining: 15.7s\n",
      "712:\tlearn: 0.0013913\ttotal: 38.8s\tremaining: 15.6s\n",
      "713:\tlearn: 0.0013913\ttotal: 38.8s\tremaining: 15.5s\n",
      "714:\tlearn: 0.0013913\ttotal: 38.9s\tremaining: 15.5s\n",
      "715:\tlearn: 0.0013913\ttotal: 38.9s\tremaining: 15.4s\n",
      "716:\tlearn: 0.0013913\ttotal: 38.9s\tremaining: 15.4s\n",
      "717:\tlearn: 0.0013913\ttotal: 39s\tremaining: 15.3s\n",
      "718:\tlearn: 0.0013913\ttotal: 39s\tremaining: 15.3s\n",
      "719:\tlearn: 0.0013913\ttotal: 39.1s\tremaining: 15.2s\n",
      "720:\tlearn: 0.0013912\ttotal: 39.1s\tremaining: 15.1s\n",
      "721:\tlearn: 0.0013912\ttotal: 39.2s\tremaining: 15.1s\n",
      "722:\tlearn: 0.0013912\ttotal: 39.2s\tremaining: 15s\n",
      "723:\tlearn: 0.0013912\ttotal: 39.3s\tremaining: 15s\n",
      "724:\tlearn: 0.0013912\ttotal: 39.3s\tremaining: 14.9s\n",
      "725:\tlearn: 0.0013912\ttotal: 39.4s\tremaining: 14.9s\n",
      "726:\tlearn: 0.0013912\ttotal: 39.4s\tremaining: 14.8s\n",
      "727:\tlearn: 0.0013912\ttotal: 39.5s\tremaining: 14.7s\n",
      "728:\tlearn: 0.0013912\ttotal: 39.5s\tremaining: 14.7s\n",
      "729:\tlearn: 0.0013912\ttotal: 39.6s\tremaining: 14.6s\n",
      "730:\tlearn: 0.0013912\ttotal: 39.6s\tremaining: 14.6s\n",
      "731:\tlearn: 0.0013911\ttotal: 39.7s\tremaining: 14.5s\n",
      "732:\tlearn: 0.0013911\ttotal: 39.7s\tremaining: 14.5s\n",
      "733:\tlearn: 0.0013911\ttotal: 39.8s\tremaining: 14.4s\n",
      "734:\tlearn: 0.0013911\ttotal: 39.8s\tremaining: 14.4s\n",
      "735:\tlearn: 0.0013911\ttotal: 39.9s\tremaining: 14.3s\n",
      "736:\tlearn: 0.0013911\ttotal: 39.9s\tremaining: 14.2s\n",
      "737:\tlearn: 0.0013911\ttotal: 40s\tremaining: 14.2s\n",
      "738:\tlearn: 0.0013911\ttotal: 40s\tremaining: 14.1s\n",
      "739:\tlearn: 0.0013911\ttotal: 40s\tremaining: 14.1s\n",
      "740:\tlearn: 0.0013911\ttotal: 40.1s\tremaining: 14s\n",
      "741:\tlearn: 0.0013911\ttotal: 40.1s\tremaining: 14s\n",
      "742:\tlearn: 0.0013911\ttotal: 40.2s\tremaining: 13.9s\n",
      "743:\tlearn: 0.0013911\ttotal: 40.2s\tremaining: 13.8s\n",
      "744:\tlearn: 0.0013911\ttotal: 40.3s\tremaining: 13.8s\n",
      "745:\tlearn: 0.0013911\ttotal: 40.3s\tremaining: 13.7s\n",
      "746:\tlearn: 0.0013911\ttotal: 40.4s\tremaining: 13.7s\n",
      "747:\tlearn: 0.0013910\ttotal: 40.4s\tremaining: 13.6s\n",
      "748:\tlearn: 0.0013910\ttotal: 40.5s\tremaining: 13.6s\n",
      "749:\tlearn: 0.0013910\ttotal: 40.5s\tremaining: 13.5s\n",
      "750:\tlearn: 0.0013910\ttotal: 40.6s\tremaining: 13.4s\n",
      "751:\tlearn: 0.0013910\ttotal: 40.6s\tremaining: 13.4s\n",
      "752:\tlearn: 0.0013910\ttotal: 40.7s\tremaining: 13.3s\n",
      "753:\tlearn: 0.0013910\ttotal: 40.7s\tremaining: 13.3s\n",
      "754:\tlearn: 0.0013910\ttotal: 40.8s\tremaining: 13.2s\n",
      "755:\tlearn: 0.0013910\ttotal: 40.8s\tremaining: 13.2s\n",
      "756:\tlearn: 0.0013910\ttotal: 40.9s\tremaining: 13.1s\n",
      "757:\tlearn: 0.0013910\ttotal: 40.9s\tremaining: 13.1s\n",
      "758:\tlearn: 0.0013910\ttotal: 41s\tremaining: 13s\n",
      "759:\tlearn: 0.0013910\ttotal: 41s\tremaining: 12.9s\n",
      "760:\tlearn: 0.0013910\ttotal: 41.1s\tremaining: 12.9s\n",
      "761:\tlearn: 0.0013910\ttotal: 41.1s\tremaining: 12.8s\n",
      "762:\tlearn: 0.0013910\ttotal: 41.2s\tremaining: 12.8s\n",
      "763:\tlearn: 0.0013910\ttotal: 41.2s\tremaining: 12.7s\n",
      "764:\tlearn: 0.0013910\ttotal: 41.3s\tremaining: 12.7s\n",
      "765:\tlearn: 0.0013910\ttotal: 41.3s\tremaining: 12.6s\n",
      "766:\tlearn: 0.0013910\ttotal: 41.3s\tremaining: 12.6s\n",
      "767:\tlearn: 0.0013910\ttotal: 41.4s\tremaining: 12.5s\n",
      "768:\tlearn: 0.0013910\ttotal: 41.4s\tremaining: 12.4s\n",
      "769:\tlearn: 0.0013910\ttotal: 41.5s\tremaining: 12.4s\n",
      "770:\tlearn: 0.0013910\ttotal: 41.6s\tremaining: 12.3s\n",
      "771:\tlearn: 0.0013910\ttotal: 41.6s\tremaining: 12.3s\n",
      "772:\tlearn: 0.0013910\ttotal: 41.7s\tremaining: 12.2s\n",
      "773:\tlearn: 0.0013910\ttotal: 41.8s\tremaining: 12.2s\n",
      "774:\tlearn: 0.0013910\ttotal: 41.8s\tremaining: 12.1s\n",
      "775:\tlearn: 0.0013909\ttotal: 41.9s\tremaining: 12.1s\n",
      "776:\tlearn: 0.0013909\ttotal: 41.9s\tremaining: 12s\n",
      "777:\tlearn: 0.0013909\ttotal: 42s\tremaining: 12s\n",
      "778:\tlearn: 0.0013909\ttotal: 42s\tremaining: 11.9s\n",
      "779:\tlearn: 0.0013909\ttotal: 42.1s\tremaining: 11.9s\n",
      "780:\tlearn: 0.0013909\ttotal: 42.1s\tremaining: 11.8s\n",
      "781:\tlearn: 0.0013909\ttotal: 42.2s\tremaining: 11.8s\n",
      "782:\tlearn: 0.0013909\ttotal: 42.2s\tremaining: 11.7s\n",
      "783:\tlearn: 0.0013909\ttotal: 42.3s\tremaining: 11.6s\n",
      "784:\tlearn: 0.0013909\ttotal: 42.3s\tremaining: 11.6s\n",
      "785:\tlearn: 0.0013909\ttotal: 42.4s\tremaining: 11.5s\n",
      "786:\tlearn: 0.0013909\ttotal: 42.4s\tremaining: 11.5s\n",
      "787:\tlearn: 0.0013909\ttotal: 42.5s\tremaining: 11.4s\n",
      "788:\tlearn: 0.0013909\ttotal: 42.5s\tremaining: 11.4s\n",
      "789:\tlearn: 0.0013909\ttotal: 42.6s\tremaining: 11.3s\n",
      "790:\tlearn: 0.0013909\ttotal: 42.6s\tremaining: 11.3s\n",
      "791:\tlearn: 0.0013909\ttotal: 42.7s\tremaining: 11.2s\n",
      "792:\tlearn: 0.0013909\ttotal: 42.7s\tremaining: 11.2s\n",
      "793:\tlearn: 0.0013909\ttotal: 42.8s\tremaining: 11.1s\n",
      "794:\tlearn: 0.0013909\ttotal: 42.8s\tremaining: 11s\n",
      "795:\tlearn: 0.0013909\ttotal: 42.9s\tremaining: 11s\n",
      "796:\tlearn: 0.0013909\ttotal: 42.9s\tremaining: 10.9s\n",
      "797:\tlearn: 0.0013909\ttotal: 43s\tremaining: 10.9s\n",
      "798:\tlearn: 0.0013909\ttotal: 43s\tremaining: 10.8s\n",
      "799:\tlearn: 0.0013909\ttotal: 43.1s\tremaining: 10.8s\n",
      "800:\tlearn: 0.0013909\ttotal: 43.2s\tremaining: 10.7s\n",
      "801:\tlearn: 0.0013908\ttotal: 43.2s\tremaining: 10.7s\n",
      "802:\tlearn: 0.0013908\ttotal: 43.3s\tremaining: 10.6s\n",
      "803:\tlearn: 0.0013908\ttotal: 43.4s\tremaining: 10.6s\n",
      "804:\tlearn: 0.0013908\ttotal: 43.4s\tremaining: 10.5s\n",
      "805:\tlearn: 0.0013908\ttotal: 43.5s\tremaining: 10.5s\n",
      "806:\tlearn: 0.0013908\ttotal: 43.5s\tremaining: 10.4s\n",
      "807:\tlearn: 0.0013908\ttotal: 43.6s\tremaining: 10.4s\n",
      "808:\tlearn: 0.0013908\ttotal: 43.6s\tremaining: 10.3s\n",
      "809:\tlearn: 0.0013908\ttotal: 43.7s\tremaining: 10.2s\n",
      "810:\tlearn: 0.0013908\ttotal: 43.7s\tremaining: 10.2s\n",
      "811:\tlearn: 0.0013908\ttotal: 43.8s\tremaining: 10.1s\n",
      "812:\tlearn: 0.0013908\ttotal: 43.8s\tremaining: 10.1s\n",
      "813:\tlearn: 0.0013908\ttotal: 43.9s\tremaining: 10s\n",
      "814:\tlearn: 0.0013908\ttotal: 43.9s\tremaining: 9.97s\n",
      "815:\tlearn: 0.0013908\ttotal: 44s\tremaining: 9.92s\n",
      "816:\tlearn: 0.0013908\ttotal: 44s\tremaining: 9.87s\n",
      "817:\tlearn: 0.0013907\ttotal: 44.1s\tremaining: 9.81s\n",
      "818:\tlearn: 0.0013907\ttotal: 44.2s\tremaining: 9.76s\n",
      "819:\tlearn: 0.0013907\ttotal: 44.2s\tremaining: 9.7s\n",
      "820:\tlearn: 0.0013907\ttotal: 44.3s\tremaining: 9.65s\n",
      "821:\tlearn: 0.0013907\ttotal: 44.3s\tremaining: 9.6s\n",
      "822:\tlearn: 0.0013907\ttotal: 44.4s\tremaining: 9.54s\n",
      "823:\tlearn: 0.0013907\ttotal: 44.4s\tremaining: 9.49s\n",
      "824:\tlearn: 0.0013907\ttotal: 44.5s\tremaining: 9.43s\n",
      "825:\tlearn: 0.0013907\ttotal: 44.5s\tremaining: 9.38s\n",
      "826:\tlearn: 0.0013907\ttotal: 44.6s\tremaining: 9.32s\n",
      "827:\tlearn: 0.0013907\ttotal: 44.6s\tremaining: 9.27s\n",
      "828:\tlearn: 0.0013907\ttotal: 44.7s\tremaining: 9.22s\n",
      "829:\tlearn: 0.0013907\ttotal: 44.7s\tremaining: 9.16s\n",
      "830:\tlearn: 0.0013907\ttotal: 44.8s\tremaining: 9.11s\n",
      "831:\tlearn: 0.0013907\ttotal: 44.8s\tremaining: 9.05s\n",
      "832:\tlearn: 0.0013906\ttotal: 44.9s\tremaining: 9s\n",
      "833:\tlearn: 0.0013906\ttotal: 44.9s\tremaining: 8.94s\n",
      "834:\tlearn: 0.0013906\ttotal: 45s\tremaining: 8.89s\n",
      "835:\tlearn: 0.0013906\ttotal: 45s\tremaining: 8.84s\n",
      "836:\tlearn: 0.0013906\ttotal: 45.1s\tremaining: 8.79s\n",
      "837:\tlearn: 0.0013906\ttotal: 45.2s\tremaining: 8.73s\n",
      "838:\tlearn: 0.0013906\ttotal: 45.2s\tremaining: 8.68s\n",
      "839:\tlearn: 0.0013906\ttotal: 45.3s\tremaining: 8.62s\n",
      "840:\tlearn: 0.0013906\ttotal: 45.3s\tremaining: 8.57s\n",
      "841:\tlearn: 0.0013906\ttotal: 45.4s\tremaining: 8.51s\n",
      "842:\tlearn: 0.0013906\ttotal: 45.4s\tremaining: 8.46s\n",
      "843:\tlearn: 0.0013906\ttotal: 45.5s\tremaining: 8.41s\n",
      "844:\tlearn: 0.0013906\ttotal: 45.5s\tremaining: 8.35s\n",
      "845:\tlearn: 0.0013906\ttotal: 45.6s\tremaining: 8.3s\n",
      "846:\tlearn: 0.0013906\ttotal: 45.6s\tremaining: 8.24s\n",
      "847:\tlearn: 0.0013906\ttotal: 45.7s\tremaining: 8.19s\n",
      "848:\tlearn: 0.0013906\ttotal: 45.7s\tremaining: 8.13s\n",
      "849:\tlearn: 0.0013906\ttotal: 45.8s\tremaining: 8.08s\n",
      "850:\tlearn: 0.0013906\ttotal: 45.8s\tremaining: 8.02s\n",
      "851:\tlearn: 0.0013905\ttotal: 45.9s\tremaining: 7.97s\n",
      "852:\tlearn: 0.0013905\ttotal: 45.9s\tremaining: 7.91s\n",
      "853:\tlearn: 0.0013905\ttotal: 46s\tremaining: 7.86s\n",
      "854:\tlearn: 0.0013905\ttotal: 46s\tremaining: 7.81s\n",
      "855:\tlearn: 0.0013905\ttotal: 46.1s\tremaining: 7.75s\n",
      "856:\tlearn: 0.0013905\ttotal: 46.1s\tremaining: 7.7s\n",
      "857:\tlearn: 0.0013905\ttotal: 46.2s\tremaining: 7.65s\n",
      "858:\tlearn: 0.0013905\ttotal: 46.3s\tremaining: 7.59s\n",
      "859:\tlearn: 0.0013905\ttotal: 46.3s\tremaining: 7.54s\n",
      "860:\tlearn: 0.0013905\ttotal: 46.4s\tremaining: 7.49s\n",
      "861:\tlearn: 0.0013905\ttotal: 46.4s\tremaining: 7.43s\n",
      "862:\tlearn: 0.0013905\ttotal: 46.5s\tremaining: 7.38s\n",
      "863:\tlearn: 0.0013905\ttotal: 46.5s\tremaining: 7.32s\n",
      "864:\tlearn: 0.0013905\ttotal: 46.6s\tremaining: 7.27s\n",
      "865:\tlearn: 0.0013905\ttotal: 46.6s\tremaining: 7.21s\n",
      "866:\tlearn: 0.0013905\ttotal: 46.7s\tremaining: 7.16s\n",
      "867:\tlearn: 0.0013905\ttotal: 46.7s\tremaining: 7.11s\n",
      "868:\tlearn: 0.0013905\ttotal: 46.8s\tremaining: 7.05s\n",
      "869:\tlearn: 0.0013905\ttotal: 46.8s\tremaining: 7s\n",
      "870:\tlearn: 0.0013904\ttotal: 46.9s\tremaining: 6.94s\n",
      "871:\tlearn: 0.0013904\ttotal: 46.9s\tremaining: 6.89s\n",
      "872:\tlearn: 0.0013904\ttotal: 47s\tremaining: 6.83s\n",
      "873:\tlearn: 0.0013904\ttotal: 47s\tremaining: 6.78s\n",
      "874:\tlearn: 0.0013904\ttotal: 47.1s\tremaining: 6.73s\n",
      "875:\tlearn: 0.0013904\ttotal: 47.2s\tremaining: 6.68s\n",
      "876:\tlearn: 0.0013904\ttotal: 47.2s\tremaining: 6.63s\n",
      "877:\tlearn: 0.0013904\ttotal: 47.3s\tremaining: 6.57s\n",
      "878:\tlearn: 0.0013904\ttotal: 47.3s\tremaining: 6.52s\n",
      "879:\tlearn: 0.0013904\ttotal: 47.4s\tremaining: 6.46s\n",
      "880:\tlearn: 0.0013904\ttotal: 47.5s\tremaining: 6.41s\n",
      "881:\tlearn: 0.0013904\ttotal: 47.5s\tremaining: 6.36s\n",
      "882:\tlearn: 0.0013904\ttotal: 47.6s\tremaining: 6.3s\n",
      "883:\tlearn: 0.0013904\ttotal: 47.6s\tremaining: 6.25s\n",
      "884:\tlearn: 0.0013904\ttotal: 47.7s\tremaining: 6.19s\n",
      "885:\tlearn: 0.0013904\ttotal: 47.7s\tremaining: 6.14s\n",
      "886:\tlearn: 0.0013904\ttotal: 47.8s\tremaining: 6.09s\n",
      "887:\tlearn: 0.0013904\ttotal: 47.8s\tremaining: 6.03s\n",
      "888:\tlearn: 0.0013903\ttotal: 47.9s\tremaining: 5.98s\n",
      "889:\tlearn: 0.0013903\ttotal: 47.9s\tremaining: 5.92s\n",
      "890:\tlearn: 0.0013903\ttotal: 48s\tremaining: 5.87s\n",
      "891:\tlearn: 0.0013903\ttotal: 48s\tremaining: 5.82s\n",
      "892:\tlearn: 0.0013903\ttotal: 48.1s\tremaining: 5.76s\n",
      "893:\tlearn: 0.0013903\ttotal: 48.2s\tremaining: 5.71s\n",
      "894:\tlearn: 0.0013903\ttotal: 48.2s\tremaining: 5.66s\n",
      "895:\tlearn: 0.0013903\ttotal: 48.3s\tremaining: 5.61s\n",
      "896:\tlearn: 0.0013903\ttotal: 48.3s\tremaining: 5.55s\n",
      "897:\tlearn: 0.0013903\ttotal: 48.4s\tremaining: 5.5s\n",
      "898:\tlearn: 0.0013903\ttotal: 48.4s\tremaining: 5.44s\n",
      "899:\tlearn: 0.0013903\ttotal: 48.5s\tremaining: 5.39s\n",
      "900:\tlearn: 0.0013903\ttotal: 48.5s\tremaining: 5.33s\n",
      "901:\tlearn: 0.0013903\ttotal: 48.6s\tremaining: 5.28s\n",
      "902:\tlearn: 0.0013903\ttotal: 48.7s\tremaining: 5.23s\n",
      "903:\tlearn: 0.0013903\ttotal: 48.7s\tremaining: 5.17s\n",
      "904:\tlearn: 0.0013903\ttotal: 48.7s\tremaining: 5.12s\n",
      "905:\tlearn: 0.0013903\ttotal: 48.8s\tremaining: 5.06s\n",
      "906:\tlearn: 0.0013903\ttotal: 48.8s\tremaining: 5.01s\n",
      "907:\tlearn: 0.0013903\ttotal: 48.9s\tremaining: 4.95s\n",
      "908:\tlearn: 0.0013903\ttotal: 48.9s\tremaining: 4.9s\n",
      "909:\tlearn: 0.0013902\ttotal: 49s\tremaining: 4.84s\n",
      "910:\tlearn: 0.0013902\ttotal: 49s\tremaining: 4.79s\n",
      "911:\tlearn: 0.0013902\ttotal: 49.1s\tremaining: 4.74s\n",
      "912:\tlearn: 0.0013902\ttotal: 49.2s\tremaining: 4.68s\n",
      "913:\tlearn: 0.0013902\ttotal: 49.2s\tremaining: 4.63s\n",
      "914:\tlearn: 0.0013902\ttotal: 49.3s\tremaining: 4.58s\n",
      "915:\tlearn: 0.0013902\ttotal: 49.3s\tremaining: 4.53s\n",
      "916:\tlearn: 0.0013902\ttotal: 49.4s\tremaining: 4.47s\n",
      "917:\tlearn: 0.0013902\ttotal: 49.5s\tremaining: 4.42s\n",
      "918:\tlearn: 0.0013902\ttotal: 49.5s\tremaining: 4.37s\n",
      "919:\tlearn: 0.0013902\ttotal: 49.6s\tremaining: 4.31s\n",
      "920:\tlearn: 0.0013902\ttotal: 49.6s\tremaining: 4.26s\n",
      "921:\tlearn: 0.0013902\ttotal: 49.7s\tremaining: 4.2s\n",
      "922:\tlearn: 0.0013902\ttotal: 49.7s\tremaining: 4.15s\n",
      "923:\tlearn: 0.0013902\ttotal: 49.8s\tremaining: 4.1s\n",
      "924:\tlearn: 0.0013902\ttotal: 49.8s\tremaining: 4.04s\n",
      "925:\tlearn: 0.0013902\ttotal: 49.9s\tremaining: 3.99s\n",
      "926:\tlearn: 0.0013902\ttotal: 49.9s\tremaining: 3.93s\n",
      "927:\tlearn: 0.0013902\ttotal: 50s\tremaining: 3.88s\n",
      "928:\tlearn: 0.0013902\ttotal: 50s\tremaining: 3.82s\n",
      "929:\tlearn: 0.0013902\ttotal: 50.1s\tremaining: 3.77s\n",
      "930:\tlearn: 0.0013902\ttotal: 50.1s\tremaining: 3.71s\n",
      "931:\tlearn: 0.0013902\ttotal: 50.2s\tremaining: 3.66s\n",
      "932:\tlearn: 0.0013902\ttotal: 50.2s\tremaining: 3.61s\n",
      "933:\tlearn: 0.0013902\ttotal: 50.3s\tremaining: 3.55s\n",
      "934:\tlearn: 0.0013902\ttotal: 50.4s\tremaining: 3.5s\n",
      "935:\tlearn: 0.0013901\ttotal: 50.4s\tremaining: 3.45s\n",
      "936:\tlearn: 0.0013901\ttotal: 50.5s\tremaining: 3.39s\n",
      "937:\tlearn: 0.0013901\ttotal: 50.5s\tremaining: 3.34s\n",
      "938:\tlearn: 0.0013901\ttotal: 50.6s\tremaining: 3.29s\n",
      "939:\tlearn: 0.0013901\ttotal: 50.7s\tremaining: 3.24s\n",
      "940:\tlearn: 0.0013901\ttotal: 50.8s\tremaining: 3.18s\n",
      "941:\tlearn: 0.0013901\ttotal: 50.8s\tremaining: 3.13s\n",
      "942:\tlearn: 0.0013901\ttotal: 50.9s\tremaining: 3.08s\n",
      "943:\tlearn: 0.0013901\ttotal: 50.9s\tremaining: 3.02s\n",
      "944:\tlearn: 0.0013901\ttotal: 51s\tremaining: 2.97s\n",
      "945:\tlearn: 0.0013901\ttotal: 51s\tremaining: 2.91s\n",
      "946:\tlearn: 0.0013901\ttotal: 51.1s\tremaining: 2.86s\n",
      "947:\tlearn: 0.0013901\ttotal: 51.1s\tremaining: 2.8s\n",
      "948:\tlearn: 0.0013901\ttotal: 51.2s\tremaining: 2.75s\n",
      "949:\tlearn: 0.0013901\ttotal: 51.2s\tremaining: 2.69s\n",
      "950:\tlearn: 0.0013901\ttotal: 51.3s\tremaining: 2.64s\n",
      "951:\tlearn: 0.0013900\ttotal: 51.3s\tremaining: 2.59s\n",
      "952:\tlearn: 0.0013900\ttotal: 51.4s\tremaining: 2.53s\n",
      "953:\tlearn: 0.0013900\ttotal: 51.4s\tremaining: 2.48s\n",
      "954:\tlearn: 0.0013900\ttotal: 51.5s\tremaining: 2.42s\n",
      "955:\tlearn: 0.0013900\ttotal: 51.5s\tremaining: 2.37s\n",
      "956:\tlearn: 0.0013900\ttotal: 51.6s\tremaining: 2.32s\n",
      "957:\tlearn: 0.0013900\ttotal: 51.6s\tremaining: 2.26s\n",
      "958:\tlearn: 0.0013900\ttotal: 51.7s\tremaining: 2.21s\n",
      "959:\tlearn: 0.0013900\ttotal: 51.7s\tremaining: 2.15s\n",
      "960:\tlearn: 0.0013900\ttotal: 51.8s\tremaining: 2.1s\n",
      "961:\tlearn: 0.0013899\ttotal: 51.8s\tremaining: 2.05s\n",
      "962:\tlearn: 0.0013899\ttotal: 51.9s\tremaining: 1.99s\n",
      "963:\tlearn: 0.0013899\ttotal: 51.9s\tremaining: 1.94s\n",
      "964:\tlearn: 0.0013899\ttotal: 51.9s\tremaining: 1.88s\n",
      "965:\tlearn: 0.0013899\ttotal: 52s\tremaining: 1.83s\n",
      "966:\tlearn: 0.0013899\ttotal: 52s\tremaining: 1.77s\n",
      "967:\tlearn: 0.0013899\ttotal: 52.1s\tremaining: 1.72s\n",
      "968:\tlearn: 0.0013899\ttotal: 52.1s\tremaining: 1.67s\n",
      "969:\tlearn: 0.0013899\ttotal: 52.2s\tremaining: 1.61s\n",
      "970:\tlearn: 0.0013899\ttotal: 52.2s\tremaining: 1.56s\n",
      "971:\tlearn: 0.0013899\ttotal: 52.3s\tremaining: 1.5s\n",
      "972:\tlearn: 0.0013899\ttotal: 52.3s\tremaining: 1.45s\n",
      "973:\tlearn: 0.0013899\ttotal: 52.4s\tremaining: 1.4s\n",
      "974:\tlearn: 0.0013899\ttotal: 52.4s\tremaining: 1.34s\n",
      "975:\tlearn: 0.0013899\ttotal: 52.5s\tremaining: 1.29s\n",
      "976:\tlearn: 0.0013899\ttotal: 52.5s\tremaining: 1.24s\n",
      "977:\tlearn: 0.0013899\ttotal: 52.6s\tremaining: 1.18s\n",
      "978:\tlearn: 0.0013899\ttotal: 52.6s\tremaining: 1.13s\n",
      "979:\tlearn: 0.0013899\ttotal: 52.7s\tremaining: 1.07s\n",
      "980:\tlearn: 0.0013899\ttotal: 52.7s\tremaining: 1.02s\n",
      "981:\tlearn: 0.0013899\ttotal: 52.8s\tremaining: 967ms\n",
      "982:\tlearn: 0.0013899\ttotal: 52.8s\tremaining: 913ms\n",
      "983:\tlearn: 0.0013899\ttotal: 52.9s\tremaining: 860ms\n",
      "984:\tlearn: 0.0013899\ttotal: 52.9s\tremaining: 806ms\n",
      "985:\tlearn: 0.0013899\ttotal: 53s\tremaining: 752ms\n",
      "986:\tlearn: 0.0013899\ttotal: 53s\tremaining: 698ms\n",
      "987:\tlearn: 0.0013899\ttotal: 53.1s\tremaining: 644ms\n",
      "988:\tlearn: 0.0013899\ttotal: 53.1s\tremaining: 591ms\n",
      "989:\tlearn: 0.0013899\ttotal: 53.2s\tremaining: 537ms\n",
      "990:\tlearn: 0.0013899\ttotal: 53.2s\tremaining: 483ms\n",
      "991:\tlearn: 0.0013899\ttotal: 53.3s\tremaining: 430ms\n",
      "992:\tlearn: 0.0013898\ttotal: 53.3s\tremaining: 376ms\n",
      "993:\tlearn: 0.0013898\ttotal: 53.4s\tremaining: 322ms\n",
      "994:\tlearn: 0.0013898\ttotal: 53.4s\tremaining: 268ms\n",
      "995:\tlearn: 0.0013898\ttotal: 53.5s\tremaining: 215ms\n",
      "996:\tlearn: 0.0013898\ttotal: 53.5s\tremaining: 161ms\n",
      "997:\tlearn: 0.0013898\ttotal: 53.6s\tremaining: 107ms\n",
      "998:\tlearn: 0.0013898\ttotal: 53.6s\tremaining: 53.7ms\n",
      "999:\tlearn: 0.0013898\ttotal: 53.6s\tremaining: 0us\n"
     ]
    },
    {
     "data": {
      "text/plain": "<catboost.core.CatBoostClassifier at 0x17c381c6748>"
     },
     "execution_count": 44,
     "metadata": {},
     "output_type": "execute_result"
    }
   ],
   "source": [
    "import catboost\n",
    "cbc = catboost.CatBoostClassifier(random_seed=0, loss_function=None)\n",
    "cbc.fit(X_train, y_train, cat_features = list(X_train.columns))"
   ],
   "metadata": {
    "collapsed": false
   }
  },
  {
   "cell_type": "code",
   "execution_count": 45,
   "outputs": [
    {
     "data": {
      "text/plain": "     predict test\n1392       e    e\n4051       p    p\n3725       p    p\n7177       p    p\n103        e    e\n3371       p    p\n6738       p    p\n1525       e    e\n5838       p    p\n4299       p    p\n7549       p    p\n6082       p    p\n5189       p    p\n4258       p    p\n39         e    e\n7916       e    e\n6475       p    p\n2213       e    e\n3492       p    p\n783        e    e\n2079       e    e\n8094       e    e\n3375       e    e\n161        e    e\n4965       e    e\n5832       p    p\n3080       e    e\n4398       p    p\n4455       p    p\n444        e    e\n7928       p    p\n751        e    e\n4445       p    p\n4767       p    p\n4317       p    p\n4396       e    e\n5180       p    p\n644        e    e\n4528       p    p\n5990       p    p",
      "text/html": "<div>\n<style scoped>\n    .dataframe tbody tr th:only-of-type {\n        vertical-align: middle;\n    }\n\n    .dataframe tbody tr th {\n        vertical-align: top;\n    }\n\n    .dataframe thead th {\n        text-align: right;\n    }\n</style>\n<table border=\"1\" class=\"dataframe\">\n  <thead>\n    <tr style=\"text-align: right;\">\n      <th></th>\n      <th>predict</th>\n      <th>test</th>\n    </tr>\n  </thead>\n  <tbody>\n    <tr>\n      <td>1392</td>\n      <td>e</td>\n      <td>e</td>\n    </tr>\n    <tr>\n      <td>4051</td>\n      <td>p</td>\n      <td>p</td>\n    </tr>\n    <tr>\n      <td>3725</td>\n      <td>p</td>\n      <td>p</td>\n    </tr>\n    <tr>\n      <td>7177</td>\n      <td>p</td>\n      <td>p</td>\n    </tr>\n    <tr>\n      <td>103</td>\n      <td>e</td>\n      <td>e</td>\n    </tr>\n    <tr>\n      <td>3371</td>\n      <td>p</td>\n      <td>p</td>\n    </tr>\n    <tr>\n      <td>6738</td>\n      <td>p</td>\n      <td>p</td>\n    </tr>\n    <tr>\n      <td>1525</td>\n      <td>e</td>\n      <td>e</td>\n    </tr>\n    <tr>\n      <td>5838</td>\n      <td>p</td>\n      <td>p</td>\n    </tr>\n    <tr>\n      <td>4299</td>\n      <td>p</td>\n      <td>p</td>\n    </tr>\n    <tr>\n      <td>7549</td>\n      <td>p</td>\n      <td>p</td>\n    </tr>\n    <tr>\n      <td>6082</td>\n      <td>p</td>\n      <td>p</td>\n    </tr>\n    <tr>\n      <td>5189</td>\n      <td>p</td>\n      <td>p</td>\n    </tr>\n    <tr>\n      <td>4258</td>\n      <td>p</td>\n      <td>p</td>\n    </tr>\n    <tr>\n      <td>39</td>\n      <td>e</td>\n      <td>e</td>\n    </tr>\n    <tr>\n      <td>7916</td>\n      <td>e</td>\n      <td>e</td>\n    </tr>\n    <tr>\n      <td>6475</td>\n      <td>p</td>\n      <td>p</td>\n    </tr>\n    <tr>\n      <td>2213</td>\n      <td>e</td>\n      <td>e</td>\n    </tr>\n    <tr>\n      <td>3492</td>\n      <td>p</td>\n      <td>p</td>\n    </tr>\n    <tr>\n      <td>783</td>\n      <td>e</td>\n      <td>e</td>\n    </tr>\n    <tr>\n      <td>2079</td>\n      <td>e</td>\n      <td>e</td>\n    </tr>\n    <tr>\n      <td>8094</td>\n      <td>e</td>\n      <td>e</td>\n    </tr>\n    <tr>\n      <td>3375</td>\n      <td>e</td>\n      <td>e</td>\n    </tr>\n    <tr>\n      <td>161</td>\n      <td>e</td>\n      <td>e</td>\n    </tr>\n    <tr>\n      <td>4965</td>\n      <td>e</td>\n      <td>e</td>\n    </tr>\n    <tr>\n      <td>5832</td>\n      <td>p</td>\n      <td>p</td>\n    </tr>\n    <tr>\n      <td>3080</td>\n      <td>e</td>\n      <td>e</td>\n    </tr>\n    <tr>\n      <td>4398</td>\n      <td>p</td>\n      <td>p</td>\n    </tr>\n    <tr>\n      <td>4455</td>\n      <td>p</td>\n      <td>p</td>\n    </tr>\n    <tr>\n      <td>444</td>\n      <td>e</td>\n      <td>e</td>\n    </tr>\n    <tr>\n      <td>7928</td>\n      <td>p</td>\n      <td>p</td>\n    </tr>\n    <tr>\n      <td>751</td>\n      <td>e</td>\n      <td>e</td>\n    </tr>\n    <tr>\n      <td>4445</td>\n      <td>p</td>\n      <td>p</td>\n    </tr>\n    <tr>\n      <td>4767</td>\n      <td>p</td>\n      <td>p</td>\n    </tr>\n    <tr>\n      <td>4317</td>\n      <td>p</td>\n      <td>p</td>\n    </tr>\n    <tr>\n      <td>4396</td>\n      <td>e</td>\n      <td>e</td>\n    </tr>\n    <tr>\n      <td>5180</td>\n      <td>p</td>\n      <td>p</td>\n    </tr>\n    <tr>\n      <td>644</td>\n      <td>e</td>\n      <td>e</td>\n    </tr>\n    <tr>\n      <td>4528</td>\n      <td>p</td>\n      <td>p</td>\n    </tr>\n    <tr>\n      <td>5990</td>\n      <td>p</td>\n      <td>p</td>\n    </tr>\n  </tbody>\n</table>\n</div>"
     },
     "execution_count": 45,
     "metadata": {},
     "output_type": "execute_result"
    }
   ],
   "source": [
    "prd = pd.DataFrame({'predict':cbc.predict(X_test), 'test':y_test})\n",
    "prd.head(40)"
   ],
   "metadata": {
    "collapsed": false
   }
  },
  {
   "cell_type": "code",
   "execution_count": 46,
   "outputs": [
    {
     "data": {
      "text/plain": "1.0"
     },
     "execution_count": 46,
     "metadata": {},
     "output_type": "execute_result"
    }
   ],
   "source": [
    "correct = 0\n",
    "for i in range(prd.shape[0]):\n",
    "    if prd.iloc[i,0] == prd.iloc[i,1]:\n",
    "        correct+= 1\n",
    "accuarcy = correct/prd.shape[0]\n",
    "accuarcy"
   ],
   "metadata": {
    "collapsed": false
   }
  },
  {
   "cell_type": "markdown",
   "source": [
    "### 2.1.2 DecisionTreeClassifier()\n",
    "##### transfrom categorical variables to numerical variables use sklearn.preprocessing.LabelEncoder"
   ],
   "metadata": {
    "collapsed": false
   }
  },
  {
   "cell_type": "code",
   "execution_count": 47,
   "outputs": [
    {
     "data": {
      "text/plain": "   class  cap-shape  cap-surface  cap-color  bruises  odor  gill-attachment  \\\n0      1          5            2          4        1     6                1   \n1      0          5            2          9        1     0                1   \n2      0          0            2          8        1     3                1   \n3      1          5            3          8        1     6                1   \n4      0          5            2          3        0     5                1   \n\n   gill-spacing  gill-size  gill-color  ...  stalk-surface-below-ring  \\\n0             0          1           4  ...                         2   \n1             0          0           4  ...                         2   \n2             0          0           5  ...                         2   \n3             0          1           5  ...                         2   \n4             1          0           4  ...                         2   \n\n   stalk-color-above-ring  stalk-color-below-ring  veil-type  veil-color  \\\n0                       7                       7          0           2   \n1                       7                       7          0           2   \n2                       7                       7          0           2   \n3                       7                       7          0           2   \n4                       7                       7          0           2   \n\n   ring-number  ring-type  spore-print-color  population  habitat  \n0            1          4                  2           3        5  \n1            1          4                  3           2        1  \n2            1          4                  3           2        3  \n3            1          4                  2           3        5  \n4            1          0                  3           0        1  \n\n[5 rows x 23 columns]",
      "text/html": "<div>\n<style scoped>\n    .dataframe tbody tr th:only-of-type {\n        vertical-align: middle;\n    }\n\n    .dataframe tbody tr th {\n        vertical-align: top;\n    }\n\n    .dataframe thead th {\n        text-align: right;\n    }\n</style>\n<table border=\"1\" class=\"dataframe\">\n  <thead>\n    <tr style=\"text-align: right;\">\n      <th></th>\n      <th>class</th>\n      <th>cap-shape</th>\n      <th>cap-surface</th>\n      <th>cap-color</th>\n      <th>bruises</th>\n      <th>odor</th>\n      <th>gill-attachment</th>\n      <th>gill-spacing</th>\n      <th>gill-size</th>\n      <th>gill-color</th>\n      <th>...</th>\n      <th>stalk-surface-below-ring</th>\n      <th>stalk-color-above-ring</th>\n      <th>stalk-color-below-ring</th>\n      <th>veil-type</th>\n      <th>veil-color</th>\n      <th>ring-number</th>\n      <th>ring-type</th>\n      <th>spore-print-color</th>\n      <th>population</th>\n      <th>habitat</th>\n    </tr>\n  </thead>\n  <tbody>\n    <tr>\n      <td>0</td>\n      <td>1</td>\n      <td>5</td>\n      <td>2</td>\n      <td>4</td>\n      <td>1</td>\n      <td>6</td>\n      <td>1</td>\n      <td>0</td>\n      <td>1</td>\n      <td>4</td>\n      <td>...</td>\n      <td>2</td>\n      <td>7</td>\n      <td>7</td>\n      <td>0</td>\n      <td>2</td>\n      <td>1</td>\n      <td>4</td>\n      <td>2</td>\n      <td>3</td>\n      <td>5</td>\n    </tr>\n    <tr>\n      <td>1</td>\n      <td>0</td>\n      <td>5</td>\n      <td>2</td>\n      <td>9</td>\n      <td>1</td>\n      <td>0</td>\n      <td>1</td>\n      <td>0</td>\n      <td>0</td>\n      <td>4</td>\n      <td>...</td>\n      <td>2</td>\n      <td>7</td>\n      <td>7</td>\n      <td>0</td>\n      <td>2</td>\n      <td>1</td>\n      <td>4</td>\n      <td>3</td>\n      <td>2</td>\n      <td>1</td>\n    </tr>\n    <tr>\n      <td>2</td>\n      <td>0</td>\n      <td>0</td>\n      <td>2</td>\n      <td>8</td>\n      <td>1</td>\n      <td>3</td>\n      <td>1</td>\n      <td>0</td>\n      <td>0</td>\n      <td>5</td>\n      <td>...</td>\n      <td>2</td>\n      <td>7</td>\n      <td>7</td>\n      <td>0</td>\n      <td>2</td>\n      <td>1</td>\n      <td>4</td>\n      <td>3</td>\n      <td>2</td>\n      <td>3</td>\n    </tr>\n    <tr>\n      <td>3</td>\n      <td>1</td>\n      <td>5</td>\n      <td>3</td>\n      <td>8</td>\n      <td>1</td>\n      <td>6</td>\n      <td>1</td>\n      <td>0</td>\n      <td>1</td>\n      <td>5</td>\n      <td>...</td>\n      <td>2</td>\n      <td>7</td>\n      <td>7</td>\n      <td>0</td>\n      <td>2</td>\n      <td>1</td>\n      <td>4</td>\n      <td>2</td>\n      <td>3</td>\n      <td>5</td>\n    </tr>\n    <tr>\n      <td>4</td>\n      <td>0</td>\n      <td>5</td>\n      <td>2</td>\n      <td>3</td>\n      <td>0</td>\n      <td>5</td>\n      <td>1</td>\n      <td>1</td>\n      <td>0</td>\n      <td>4</td>\n      <td>...</td>\n      <td>2</td>\n      <td>7</td>\n      <td>7</td>\n      <td>0</td>\n      <td>2</td>\n      <td>1</td>\n      <td>0</td>\n      <td>3</td>\n      <td>0</td>\n      <td>1</td>\n    </tr>\n  </tbody>\n</table>\n<p>5 rows × 23 columns</p>\n</div>"
     },
     "execution_count": 47,
     "metadata": {},
     "output_type": "execute_result"
    }
   ],
   "source": [
    "from sklearn.preprocessing import LabelEncoder\n",
    "encoder=LabelEncoder()\n",
    "mushroom_encode = mushroom\n",
    "for i in mushroom_encode.columns:\n",
    "    mushroom_encode[i]=encoder.fit_transform(mushroom_encode[i])\n",
    "mushroom_encode.head()"
   ],
   "metadata": {
    "collapsed": false
   }
  },
  {
   "cell_type": "code",
   "execution_count": 48,
   "outputs": [],
   "source": [
    "X_encode = mushroom_encode[['cap-shape', 'cap-surface', 'cap-color', 'bruises', 'odor',\n",
    "                            'gill-attachment', 'gill-spacing', 'gill-size', 'gill-color',\n",
    "                            'stalk-shape', 'stalk-root', 'stalk-surface-above-ring',\n",
    "                            'stalk-surface-below-ring', 'stalk-color-above-ring',\n",
    "                            'stalk-color-below-ring', 'veil-type', 'veil-color', 'ring-number',\n",
    "                            'ring-type', 'spore-print-color', 'population', 'habitat']]\n",
    "y_encode = mushroom_encode['class']"
   ],
   "metadata": {
    "collapsed": false
   }
  },
  {
   "cell_type": "markdown",
   "source": [
    "use sklearn.preprocessing.StandardScaler\n",
    "Standardize features by removing the mean and scaling to unit variance."
   ],
   "metadata": {
    "collapsed": false
   }
  },
  {
   "cell_type": "code",
   "execution_count": 20,
   "outputs": [],
   "source": [
    "from sklearn.preprocessing import StandardScaler\n",
    "sc=StandardScaler()\n",
    "X_encode_sc=sc.fit_transform(X_encode)"
   ],
   "metadata": {
    "collapsed": false
   }
  },
  {
   "cell_type": "code",
   "execution_count": 21,
   "outputs": [],
   "source": [
    "# Split dataset into training set and test set\n",
    "# 70% training and 30% test7\n",
    "X_train_encode, X_test_encode, y_train_encode, y_test_encode = train_test_split(X_encode_sc, y_encode, test_size=0.3, random_state=2)"
   ],
   "metadata": {
    "collapsed": false
   }
  },
  {
   "cell_type": "code",
   "execution_count": 22,
   "outputs": [],
   "source": [
    "# Create Decision Tree classifer object\n",
    "clf = DecisionTreeClassifier()\n",
    "\n",
    "# Train Decision Tree Classifer\n",
    "clf = clf.fit(X_train_encode,y_train_encode)\n",
    "\n",
    "#Predict the response for test dataset\n",
    "y_pred = clf.predict(X_test_encode)"
   ],
   "metadata": {
    "collapsed": false
   }
  },
  {
   "cell_type": "code",
   "execution_count": 23,
   "outputs": [
    {
     "name": "stdout",
     "output_type": "stream",
     "text": [
      "Accuracy: 1.0\n"
     ]
    }
   ],
   "source": [
    "# Model Accuracy\n",
    "print(\"Accuracy:\",metrics.accuracy_score(y_test_encode, y_pred))"
   ],
   "metadata": {
    "collapsed": false
   }
  },
  {
   "cell_type": "markdown",
   "source": [
    "## 2.1.3 Naive Bayes Classifier"
   ],
   "metadata": {
    "collapsed": false
   }
  },
  {
   "cell_type": "code",
   "execution_count": 27,
   "outputs": [
    {
     "data": {
      "text/plain": "GaussianNB(priors=None, var_smoothing=1e-09)"
     },
     "execution_count": 27,
     "metadata": {},
     "output_type": "execute_result"
    }
   ],
   "source": [
    "from sklearn.naive_bayes import GaussianNB\n",
    "nb=GaussianNB()\n",
    "nb.fit(X_train_encode,y_train_encode)"
   ],
   "metadata": {
    "collapsed": false
   }
  },
  {
   "cell_type": "code",
   "execution_count": 29,
   "outputs": [
    {
     "name": "stdout",
     "output_type": "stream",
     "text": [
      "[[2704  206]\n",
      " [ 208 2568]]\n",
      "[[1211   87]\n",
      " [ 101 1039]]\n"
     ]
    }
   ],
   "source": [
    "# Use confusion matrix for result analysis\n",
    "from sklearn.metrics import classification_report,confusion_matrix,accuracy_score\n",
    "y_pred_nb_train=nb.predict(X_train_encode)\n",
    "y_pred_nb_test=nb.predict(X_test_encode)\n",
    "print(confusion_matrix(y_train_encode,y_pred_nb_train))\n",
    "print(confusion_matrix(y_test_encode,y_pred_nb_test))"
   ],
   "metadata": {
    "collapsed": false
   }
  },
  {
   "cell_type": "code",
   "execution_count": 30,
   "outputs": [
    {
     "name": "stdout",
     "output_type": "stream",
     "text": [
      "              precision    recall  f1-score   support\n",
      "\n",
      "           0       0.93      0.93      0.93      2910\n",
      "           1       0.93      0.93      0.93      2776\n",
      "\n",
      "    accuracy                           0.93      5686\n",
      "   macro avg       0.93      0.93      0.93      5686\n",
      "weighted avg       0.93      0.93      0.93      5686\n",
      "\n",
      "              precision    recall  f1-score   support\n",
      "\n",
      "           0       0.92      0.93      0.93      1298\n",
      "           1       0.92      0.91      0.92      1140\n",
      "\n",
      "    accuracy                           0.92      2438\n",
      "   macro avg       0.92      0.92      0.92      2438\n",
      "weighted avg       0.92      0.92      0.92      2438\n",
      "\n"
     ]
    }
   ],
   "source": [
    "# Use classification report to get general evaluation metrics\n",
    "print(classification_report(y_train_encode,y_pred_nb_train))\n",
    "print(classification_report(y_test_encode,y_pred_nb_test))"
   ],
   "metadata": {
    "collapsed": false
   }
  },
  {
   "cell_type": "code",
   "execution_count": 31,
   "outputs": [
    {
     "name": "stdout",
     "output_type": "stream",
     "text": [
      "0.9271895884628913\n",
      "0.9228876127973749\n"
     ]
    }
   ],
   "source": [
    "# accuracy of using naive bayes classifier\n",
    "print(accuracy_score(y_train_encode,y_pred_nb_train))\n",
    "print(accuracy_score(y_test_encode,y_pred_nb_test))"
   ],
   "metadata": {
    "collapsed": false
   }
  },
  {
   "cell_type": "markdown",
   "source": [
    "## 2.1.4 SVC Classifier"
   ],
   "metadata": {
    "collapsed": false
   }
  },
  {
   "cell_type": "code",
   "execution_count": 32,
   "outputs": [
    {
     "name": "stderr",
     "output_type": "stream",
     "text": [
      "C:\\Users\\Wenyu\\Anaconda3\\lib\\site-packages\\sklearn\\svm\\base.py:193: FutureWarning: The default value of gamma will change from 'auto' to 'scale' in version 0.22 to account better for unscaled features. Set gamma explicitly to 'auto' or 'scale' to avoid this warning.\n",
      "  \"avoid this warning.\", FutureWarning)\n",
      "C:\\Users\\Wenyu\\Anaconda3\\lib\\site-packages\\sklearn\\svm\\base.py:193: FutureWarning: The default value of gamma will change from 'auto' to 'scale' in version 0.22 to account better for unscaled features. Set gamma explicitly to 'auto' or 'scale' to avoid this warning.\n",
      "  \"avoid this warning.\", FutureWarning)\n",
      "C:\\Users\\Wenyu\\Anaconda3\\lib\\site-packages\\sklearn\\svm\\base.py:193: FutureWarning: The default value of gamma will change from 'auto' to 'scale' in version 0.22 to account better for unscaled features. Set gamma explicitly to 'auto' or 'scale' to avoid this warning.\n",
      "  \"avoid this warning.\", FutureWarning)\n"
     ]
    },
    {
     "data": {
      "text/plain": "SVC(C=1.0, cache_size=200, class_weight=None, coef0=0.0,\n    decision_function_shape='ovr', degree=3, gamma='auto_deprecated',\n    kernel='rbf', max_iter=-1, probability=False, random_state=None,\n    shrinking=True, tol=0.001, verbose=False)"
     },
     "execution_count": 32,
     "metadata": {},
     "output_type": "execute_result"
    }
   ],
   "source": [
    "from sklearn.svm import SVC\n",
    "svc_linear=SVC(kernel='linear')\n",
    "svc_linear.fit(X_train_encode,y_train_encode)\n",
    "svc_sigmoid=SVC(kernel='sigmoid')\n",
    "svc_sigmoid.fit(X_train_encode,y_train_encode)\n",
    "svc_poly=SVC(kernel='poly')\n",
    "svc_poly.fit(X_train_encode,y_train_encode)\n",
    "svc_rbf=SVC(kernel='rbf')\n",
    "svc_rbf.fit(X_train_encode,y_train_encode)"
   ],
   "metadata": {
    "collapsed": false
   }
  },
  {
   "cell_type": "code",
   "execution_count": 33,
   "outputs": [],
   "source": [
    "y_pred_sigmoid=svc_sigmoid.predict(X_test_encode)\n",
    "y_pred_linear=svc_linear.predict(X_test_encode)\n",
    "y_pred_poly=svc_poly.predict(X_test_encode)\n",
    "y_pred_rbf=svc_rbf.predict(X_test_encode)"
   ],
   "metadata": {
    "collapsed": false
   }
  },
  {
   "cell_type": "code",
   "execution_count": 34,
   "outputs": [
    {
     "name": "stdout",
     "output_type": "stream",
     "text": [
      "[[1093  205]\n",
      " [ 221  919]]\n",
      "[[1268   30]\n",
      " [  25 1115]]\n",
      "[[1298    0]\n",
      " [   0 1140]]\n",
      "[[1298    0]\n",
      " [   0 1140]]\n"
     ]
    }
   ],
   "source": [
    "print(confusion_matrix(y_test_encode,y_pred_sigmoid))\n",
    "print(confusion_matrix(y_test_encode,y_pred_linear))\n",
    "print(confusion_matrix(y_test_encode,y_pred_poly))\n",
    "print(confusion_matrix(y_test_encode,y_pred_rbf))"
   ],
   "metadata": {
    "collapsed": false
   }
  },
  {
   "cell_type": "code",
   "execution_count": 35,
   "outputs": [
    {
     "name": "stdout",
     "output_type": "stream",
     "text": [
      "              precision    recall  f1-score   support\n",
      "\n",
      "           0       0.83      0.84      0.84      1298\n",
      "           1       0.82      0.81      0.81      1140\n",
      "\n",
      "    accuracy                           0.83      2438\n",
      "   macro avg       0.82      0.82      0.82      2438\n",
      "weighted avg       0.83      0.83      0.83      2438\n",
      "\n",
      "              precision    recall  f1-score   support\n",
      "\n",
      "           0       0.98      0.98      0.98      1298\n",
      "           1       0.97      0.98      0.98      1140\n",
      "\n",
      "    accuracy                           0.98      2438\n",
      "   macro avg       0.98      0.98      0.98      2438\n",
      "weighted avg       0.98      0.98      0.98      2438\n",
      "\n",
      "              precision    recall  f1-score   support\n",
      "\n",
      "           0       1.00      1.00      1.00      1298\n",
      "           1       1.00      1.00      1.00      1140\n",
      "\n",
      "    accuracy                           1.00      2438\n",
      "   macro avg       1.00      1.00      1.00      2438\n",
      "weighted avg       1.00      1.00      1.00      2438\n",
      "\n",
      "              precision    recall  f1-score   support\n",
      "\n",
      "           0       1.00      1.00      1.00      1298\n",
      "           1       1.00      1.00      1.00      1140\n",
      "\n",
      "    accuracy                           1.00      2438\n",
      "   macro avg       1.00      1.00      1.00      2438\n",
      "weighted avg       1.00      1.00      1.00      2438\n",
      "\n"
     ]
    }
   ],
   "source": [
    "print(classification_report(y_test_encode,y_pred_sigmoid))\n",
    "print(classification_report(y_test_encode,y_pred_linear))\n",
    "print(classification_report(y_test_encode,y_pred_poly))\n",
    "print(classification_report(y_test_encode,y_pred_rbf))"
   ],
   "metadata": {
    "collapsed": false
   }
  },
  {
   "cell_type": "code",
   "execution_count": 36,
   "outputs": [
    {
     "name": "stdout",
     "output_type": "stream",
     "text": [
      "0.83\n",
      "0.98\n",
      "1.0\n",
      "1.0\n"
     ]
    }
   ],
   "source": [
    "print(round(accuracy_score(y_test_encode,y_pred_sigmoid),2))\n",
    "print(round(accuracy_score(y_test_encode,y_pred_linear),2))\n",
    "print(accuracy_score(y_test_encode,y_pred_poly))\n",
    "print(accuracy_score(y_test_encode,y_pred_rbf))"
   ],
   "metadata": {
    "collapsed": false
   }
  },
  {
   "cell_type": "markdown",
   "source": [
    "## 2.1.5 Logistic Regression"
   ],
   "metadata": {
    "collapsed": false
   }
  },
  {
   "cell_type": "code",
   "execution_count": 50,
   "outputs": [],
   "source": [
    "from sklearn.linear_model import LogisticRegression\n",
    "from sklearn.model_selection import cross_val_score\n",
    "from sklearn import metrics\n",
    "\n",
    "model_LR= LogisticRegression()"
   ],
   "metadata": {
    "collapsed": false
   }
  },
  {
   "cell_type": "code",
   "execution_count": 51,
   "outputs": [
    {
     "name": "stderr",
     "output_type": "stream",
     "text": [
      "C:\\Users\\Wenyu\\Anaconda3\\lib\\site-packages\\sklearn\\linear_model\\logistic.py:432: FutureWarning: Default solver will be changed to 'lbfgs' in 0.22. Specify a solver to silence this warning.\n",
      "  FutureWarning)\n"
     ]
    },
    {
     "data": {
      "text/plain": "LogisticRegression(C=1.0, class_weight=None, dual=False, fit_intercept=True,\n                   intercept_scaling=1, l1_ratio=None, max_iter=100,\n                   multi_class='warn', n_jobs=None, penalty='l2',\n                   random_state=None, solver='warn', tol=0.0001, verbose=0,\n                   warm_start=False)"
     },
     "execution_count": 51,
     "metadata": {},
     "output_type": "execute_result"
    }
   ],
   "source": [
    "model_LR.fit(X_train_encode,y_train_encode)"
   ],
   "metadata": {
    "collapsed": false
   }
  },
  {
   "cell_type": "code",
   "execution_count": 52,
   "outputs": [
    {
     "data": {
      "text/plain": "1.0"
     },
     "execution_count": 52,
     "metadata": {},
     "output_type": "execute_result"
    }
   ],
   "source": [
    "y_prob = model_LR.predict_proba(X_test_encode)[:,1] # This will give you positive class prediction probabilities\n",
    "y_pred = np.where(y_prob > 0.5, 1, 0) # This will threshold the probabilities to give class predictions.\n",
    "model_LR.score(X_test_encode, y_pred)"
   ],
   "metadata": {
    "collapsed": false
   }
  },
  {
   "cell_type": "code",
   "execution_count": 53,
   "outputs": [
    {
     "data": {
      "text/plain": "array([[1249,   49],\n       [  58, 1082]], dtype=int64)"
     },
     "execution_count": 53,
     "metadata": {},
     "output_type": "execute_result"
    }
   ],
   "source": [
    "confusion_matrix=metrics.confusion_matrix(y_test_encode,y_pred)\n",
    "confusion_matrix"
   ],
   "metadata": {
    "collapsed": false
   }
  },
  {
   "cell_type": "code",
   "execution_count": 54,
   "outputs": [
    {
     "data": {
      "text/plain": "0.9556862109047658"
     },
     "execution_count": 54,
     "metadata": {},
     "output_type": "execute_result"
    }
   ],
   "source": [
    "auc_roc=metrics.roc_auc_score(y_test_encode,y_pred)\n",
    "auc_roc"
   ],
   "metadata": {
    "collapsed": false
   }
  },
  {
   "cell_type": "code",
   "execution_count": 55,
   "outputs": [
    {
     "data": {
      "text/plain": "0.9858094774687103"
     },
     "execution_count": 55,
     "metadata": {},
     "output_type": "execute_result"
    }
   ],
   "source": [
    "from sklearn.metrics import roc_curve, auc\n",
    "false_positive_rate, true_positive_rate, thresholds = roc_curve(y_test_encode, y_prob)\n",
    "roc_auc = auc(false_positive_rate, true_positive_rate)\n",
    "roc_auc"
   ],
   "metadata": {
    "collapsed": false
   }
  },
  {
   "cell_type": "code",
   "execution_count": 57,
   "outputs": [
    {
     "data": {
      "text/plain": "Text(0.5, 0, 'False Positive Rate')"
     },
     "execution_count": 57,
     "metadata": {},
     "output_type": "execute_result"
    },
    {
     "data": {
      "text/plain": "<Figure size 720x720 with 1 Axes>",
      "image/png": "[encoded data removed]"
     },
     "metadata": {
      "needs_background": "light"
     },
     "output_type": "display_data"
    }
   ],
   "source": [
    "plt.figure(figsize=(10,10))\n",
    "plt.title('Receiver Operating Characteristic')\n",
    "plt.plot(false_positive_rate,true_positive_rate, color='red',label = 'AUC = %0.2f' % roc_auc)\n",
    "plt.legend(loc = 'lower right')\n",
    "plt.plot([0, 1], [0, 1],linestyle='--')\n",
    "plt.axis('tight')\n",
    "plt.ylabel('True Positive Rate')\n",
    "plt.xlabel('False Positive Rate')"
   ],
   "metadata": {
    "collapsed": false
   }
  },
  {
   "cell_type": "code",
   "execution_count": null,
   "outputs": [],
   "source": [],
   "metadata": {
    "collapsed": false
   }
  }
 ],
 "metadata": {
  "kernelspec": {
   "display_name": "Python 3",
   "language": "python",
   "name": "python3"
  },
  "language_info": {
   "codemirror_mode": {
    "name": "ipython",
    "version": 2
   },
   "file_extension": ".py",
   "mimetype": "text/x-python",
   "name": "python",
   "nbconvert_exporter": "python",
   "pygments_lexer": "ipython2",
   "version": "2.7.6"
  }
 },
 "nbformat": 4,
 "nbformat_minor": 0
}
